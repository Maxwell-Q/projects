{
 "cells": [
  {
   "cell_type": "code",
   "execution_count": 374,
   "metadata": {
    "ExecuteTime": {
     "end_time": "2020-02-29T03:42:44.442538Z",
     "start_time": "2020-02-29T03:42:44.405213Z"
    }
   },
   "outputs": [],
   "source": [
    "import numpy as np\n",
    "import pandas as pd \n",
    "import matplotlib.pyplot as plt\n",
    "import matplotlib\n",
    "import seaborn as sns\n",
    "from sklearn import datasets\n",
    "from sklearn import metrics\n",
    "from sklearn.metrics import accuracy_score,mean_squared_error, r2_score\n",
    "from sklearn.metrics import confusion_matrix\n",
    "from sklearn.model_selection import train_test_split\n",
    "from sklearn.model_selection import cross_val_score, cross_validate\n",
    "from sklearn.model_selection import ShuffleSplit\n",
    "from sklearn.model_selection import KFold\n",
    "\n",
    "from sklearn.tree import DecisionTreeClassifier\n",
    "from sklearn.ensemble import RandomForestClassifier\n",
    "from sklearn.svm import SVC\n",
    "from sklearn.ensemble import GradientBoostingClassifier\n",
    "\n",
    "from sklearn.linear_model import LassoCV\n",
    "from sklearn.linear_model import LogisticRegression\n",
    "from sklearn.preprocessing import StandardScaler,PolynomialFeatures\n",
    "from sklearn.naive_bayes import GaussianNB\n",
    "from sklearn.ensemble import ExtraTreesClassifier\n",
    "from sklearn import metrics\n",
    "from sklearn.model_selection import learning_curve\n",
    "from sklearn.model_selection import GridSearchCV\n",
    "\n",
    "sns.set_style('whitegrid')\n",
    "\n",
    "# The following line is needed to show plots inline in notebooks\n",
    "%matplotlib inline "
   ]
  },
  {
   "cell_type": "code",
   "execution_count": 375,
   "metadata": {
    "ExecuteTime": {
     "end_time": "2020-02-29T03:42:44.462222Z",
     "start_time": "2020-02-29T03:42:44.452220Z"
    }
   },
   "outputs": [],
   "source": [
    "import warnings\n",
    "#warnings.filterwarnings(\"ignore\", category=ConvergenceWarning)\n",
    "warnings.filterwarnings(\"ignore\")"
   ]
  },
  {
   "cell_type": "markdown",
   "metadata": {},
   "source": [
    "## Data cleaning"
   ]
  },
  {
   "cell_type": "markdown",
   "metadata": {},
   "source": [
    "While the data is made ready for analysis, several values are missing, and some features are categorical. Note that some values that appear \"null\" indicate that a survey respondent did not select that given option from a multiple-choice list. For example - \"Who/what are your favorite media sources that report on data science topics? (Select all that apply) - Selected Choice - Twitter (data science influencers)\"\n",
    "\n",
    "For the data cleaning step, handle missing values however you see fit and justify your approach. Provide some insight on why you think the values are missing and how your approach might impact the overall analysis. Suggestions include filling the missing values with a certain value (e.g. mode for categorical data) and completely removing the features with missing values. Secondly, convert categorical data into numerical data by encoding and explain why you used this particular encoding method.\n",
    "\n",
    "These tasks can be done interchangeably, e.g., encoding can be done first."
   ]
  },
  {
   "cell_type": "markdown",
   "metadata": {},
   "source": [
    "### Understanding data and checking missing values"
   ]
  },
  {
   "cell_type": "code",
   "execution_count": 376,
   "metadata": {
    "ExecuteTime": {
     "end_time": "2020-02-29T03:42:45.506293Z",
     "start_time": "2020-02-29T03:42:44.469217Z"
    },
    "scrolled": true
   },
   "outputs": [
    {
     "data": {
      "text/html": [
       "<div>\n",
       "<style scoped>\n",
       "    .dataframe tbody tr th:only-of-type {\n",
       "        vertical-align: middle;\n",
       "    }\n",
       "\n",
       "    .dataframe tbody tr th {\n",
       "        vertical-align: top;\n",
       "    }\n",
       "\n",
       "    .dataframe thead th {\n",
       "        text-align: right;\n",
       "    }\n",
       "</style>\n",
       "<table border=\"1\" class=\"dataframe\">\n",
       "  <thead>\n",
       "    <tr style=\"text-align: right;\">\n",
       "      <th></th>\n",
       "      <th>Time from Start to Finish (seconds)</th>\n",
       "      <th>Q1</th>\n",
       "      <th>Q2</th>\n",
       "      <th>Q2_OTHER_TEXT</th>\n",
       "      <th>Q3</th>\n",
       "      <th>Q4</th>\n",
       "      <th>Q5</th>\n",
       "      <th>Q5_OTHER_TEXT</th>\n",
       "      <th>Q6</th>\n",
       "      <th>Q7</th>\n",
       "      <th>...</th>\n",
       "      <th>Q34_Part_6</th>\n",
       "      <th>Q34_Part_7</th>\n",
       "      <th>Q34_Part_8</th>\n",
       "      <th>Q34_Part_9</th>\n",
       "      <th>Q34_Part_10</th>\n",
       "      <th>Q34_Part_11</th>\n",
       "      <th>Q34_Part_12</th>\n",
       "      <th>Q34_OTHER_TEXT</th>\n",
       "      <th>Q10_Encoded</th>\n",
       "      <th>Q10_buckets</th>\n",
       "    </tr>\n",
       "  </thead>\n",
       "  <tbody>\n",
       "    <tr>\n",
       "      <th>0</th>\n",
       "      <td>510</td>\n",
       "      <td>22-24</td>\n",
       "      <td>Male</td>\n",
       "      <td>-1</td>\n",
       "      <td>France</td>\n",
       "      <td>Master’s degree</td>\n",
       "      <td>Software Engineer</td>\n",
       "      <td>-1</td>\n",
       "      <td>1000-9,999 employees</td>\n",
       "      <td>0</td>\n",
       "      <td>...</td>\n",
       "      <td>NaN</td>\n",
       "      <td>NaN</td>\n",
       "      <td>NaN</td>\n",
       "      <td>NaN</td>\n",
       "      <td>NaN</td>\n",
       "      <td>NaN</td>\n",
       "      <td>NaN</td>\n",
       "      <td>-1</td>\n",
       "      <td>3</td>\n",
       "      <td>30,000-39,999</td>\n",
       "    </tr>\n",
       "    <tr>\n",
       "      <th>1</th>\n",
       "      <td>423</td>\n",
       "      <td>40-44</td>\n",
       "      <td>Male</td>\n",
       "      <td>-1</td>\n",
       "      <td>India</td>\n",
       "      <td>Professional degree</td>\n",
       "      <td>Software Engineer</td>\n",
       "      <td>-1</td>\n",
       "      <td>&gt; 10,000 employees</td>\n",
       "      <td>20+</td>\n",
       "      <td>...</td>\n",
       "      <td>NaN</td>\n",
       "      <td>NaN</td>\n",
       "      <td>NaN</td>\n",
       "      <td>NaN</td>\n",
       "      <td>NaN</td>\n",
       "      <td>NaN</td>\n",
       "      <td>NaN</td>\n",
       "      <td>-1</td>\n",
       "      <td>0</td>\n",
       "      <td>0-9,999</td>\n",
       "    </tr>\n",
       "    <tr>\n",
       "      <th>2</th>\n",
       "      <td>391</td>\n",
       "      <td>40-44</td>\n",
       "      <td>Male</td>\n",
       "      <td>-1</td>\n",
       "      <td>Australia</td>\n",
       "      <td>Master’s degree</td>\n",
       "      <td>Other</td>\n",
       "      <td>0</td>\n",
       "      <td>&gt; 10,000 employees</td>\n",
       "      <td>20+</td>\n",
       "      <td>...</td>\n",
       "      <td>NaN</td>\n",
       "      <td>NaN</td>\n",
       "      <td>NaN</td>\n",
       "      <td>Azure SQL Database</td>\n",
       "      <td>NaN</td>\n",
       "      <td>NaN</td>\n",
       "      <td>NaN</td>\n",
       "      <td>-1</td>\n",
       "      <td>14</td>\n",
       "      <td>&gt;250,000</td>\n",
       "    </tr>\n",
       "    <tr>\n",
       "      <th>3</th>\n",
       "      <td>392</td>\n",
       "      <td>22-24</td>\n",
       "      <td>Male</td>\n",
       "      <td>-1</td>\n",
       "      <td>India</td>\n",
       "      <td>Bachelor’s degree</td>\n",
       "      <td>Other</td>\n",
       "      <td>1</td>\n",
       "      <td>0-49 employees</td>\n",
       "      <td>0</td>\n",
       "      <td>...</td>\n",
       "      <td>NaN</td>\n",
       "      <td>NaN</td>\n",
       "      <td>NaN</td>\n",
       "      <td>NaN</td>\n",
       "      <td>NaN</td>\n",
       "      <td>NaN</td>\n",
       "      <td>NaN</td>\n",
       "      <td>-1</td>\n",
       "      <td>0</td>\n",
       "      <td>0-9,999</td>\n",
       "    </tr>\n",
       "    <tr>\n",
       "      <th>4</th>\n",
       "      <td>470</td>\n",
       "      <td>50-54</td>\n",
       "      <td>Male</td>\n",
       "      <td>-1</td>\n",
       "      <td>France</td>\n",
       "      <td>Master’s degree</td>\n",
       "      <td>Data Scientist</td>\n",
       "      <td>-1</td>\n",
       "      <td>0-49 employees</td>\n",
       "      <td>3-4</td>\n",
       "      <td>...</td>\n",
       "      <td>NaN</td>\n",
       "      <td>AWS Relational Database Service</td>\n",
       "      <td>NaN</td>\n",
       "      <td>NaN</td>\n",
       "      <td>NaN</td>\n",
       "      <td>NaN</td>\n",
       "      <td>NaN</td>\n",
       "      <td>-1</td>\n",
       "      <td>6</td>\n",
       "      <td>60,000-69,999</td>\n",
       "    </tr>\n",
       "  </tbody>\n",
       "</table>\n",
       "<p>5 rows × 248 columns</p>\n",
       "</div>"
      ],
      "text/plain": [
       "   Time from Start to Finish (seconds)     Q1    Q2  Q2_OTHER_TEXT         Q3  \\\n",
       "0                                  510  22-24  Male             -1     France   \n",
       "1                                  423  40-44  Male             -1      India   \n",
       "2                                  391  40-44  Male             -1  Australia   \n",
       "3                                  392  22-24  Male             -1      India   \n",
       "4                                  470  50-54  Male             -1     France   \n",
       "\n",
       "                    Q4                 Q5  Q5_OTHER_TEXT  \\\n",
       "0      Master’s degree  Software Engineer             -1   \n",
       "1  Professional degree  Software Engineer             -1   \n",
       "2      Master’s degree              Other              0   \n",
       "3    Bachelor’s degree              Other              1   \n",
       "4      Master’s degree     Data Scientist             -1   \n",
       "\n",
       "                     Q6   Q7  ... Q34_Part_6                       Q34_Part_7  \\\n",
       "0  1000-9,999 employees    0  ...        NaN                              NaN   \n",
       "1    > 10,000 employees  20+  ...        NaN                              NaN   \n",
       "2    > 10,000 employees  20+  ...        NaN                              NaN   \n",
       "3        0-49 employees    0  ...        NaN                              NaN   \n",
       "4        0-49 employees  3-4  ...        NaN  AWS Relational Database Service   \n",
       "\n",
       "  Q34_Part_8          Q34_Part_9 Q34_Part_10 Q34_Part_11 Q34_Part_12  \\\n",
       "0        NaN                 NaN         NaN         NaN         NaN   \n",
       "1        NaN                 NaN         NaN         NaN         NaN   \n",
       "2        NaN  Azure SQL Database         NaN         NaN         NaN   \n",
       "3        NaN                 NaN         NaN         NaN         NaN   \n",
       "4        NaN                 NaN         NaN         NaN         NaN   \n",
       "\n",
       "  Q34_OTHER_TEXT Q10_Encoded    Q10_buckets  \n",
       "0             -1           3  30,000-39,999  \n",
       "1             -1           0        0-9,999  \n",
       "2             -1          14       >250,000  \n",
       "3             -1           0        0-9,999  \n",
       "4             -1           6  60,000-69,999  \n",
       "\n",
       "[5 rows x 248 columns]"
      ]
     },
     "execution_count": 376,
     "metadata": {},
     "output_type": "execute_result"
    }
   ],
   "source": [
    "#df=pd.read_csv(r\"C:\\Users\\qg010\\Google Drive\\MIE 1624\\Assignment1\\Kaggle_Salary.csv\")\n",
    "df=pd.read_csv(\"Kaggle_Salary.csv\")\n",
    "df.head()"
   ]
  },
  {
   "cell_type": "code",
   "execution_count": 377,
   "metadata": {
    "ExecuteTime": {
     "end_time": "2020-02-29T03:42:45.519300Z",
     "start_time": "2020-02-29T03:42:45.513298Z"
    }
   },
   "outputs": [],
   "source": [
    "#pd.set_option('display.max_columns', 10)"
   ]
  },
  {
   "cell_type": "code",
   "execution_count": 378,
   "metadata": {
    "ExecuteTime": {
     "end_time": "2020-02-29T03:42:45.577303Z",
     "start_time": "2020-02-29T03:42:45.526300Z"
    }
   },
   "outputs": [
    {
     "name": "stdout",
     "output_type": "stream",
     "text": [
      "<class 'pandas.core.frame.DataFrame'>\n",
      "RangeIndex: 12497 entries, 0 to 12496\n",
      "Columns: 248 entries, Time from Start to Finish (seconds) to Q10_buckets\n",
      "dtypes: int64(30), object(218)\n",
      "memory usage: 23.6+ MB\n"
     ]
    }
   ],
   "source": [
    "df.info()"
   ]
  },
  {
   "cell_type": "code",
   "execution_count": 379,
   "metadata": {
    "ExecuteTime": {
     "end_time": "2020-02-29T03:42:45.873326Z",
     "start_time": "2020-02-29T03:42:45.582300Z"
    },
    "scrolled": true
   },
   "outputs": [
    {
     "data": {
      "text/html": [
       "<div>\n",
       "<style scoped>\n",
       "    .dataframe tbody tr th:only-of-type {\n",
       "        vertical-align: middle;\n",
       "    }\n",
       "\n",
       "    .dataframe tbody tr th {\n",
       "        vertical-align: top;\n",
       "    }\n",
       "\n",
       "    .dataframe thead th {\n",
       "        text-align: right;\n",
       "    }\n",
       "</style>\n",
       "<table border=\"1\" class=\"dataframe\">\n",
       "  <thead>\n",
       "    <tr style=\"text-align: right;\">\n",
       "      <th></th>\n",
       "      <th>Time from Start to Finish (seconds)</th>\n",
       "      <th>Q2_OTHER_TEXT</th>\n",
       "      <th>Q5_OTHER_TEXT</th>\n",
       "      <th>Q9_OTHER_TEXT</th>\n",
       "      <th>Q12_OTHER_TEXT</th>\n",
       "      <th>Q13_OTHER_TEXT</th>\n",
       "      <th>Q14_Part_1_TEXT</th>\n",
       "      <th>Q14_Part_2_TEXT</th>\n",
       "      <th>Q14_Part_3_TEXT</th>\n",
       "      <th>Q14_Part_4_TEXT</th>\n",
       "      <th>...</th>\n",
       "      <th>Q26_OTHER_TEXT</th>\n",
       "      <th>Q27_OTHER_TEXT</th>\n",
       "      <th>Q28_OTHER_TEXT</th>\n",
       "      <th>Q29_OTHER_TEXT</th>\n",
       "      <th>Q30_OTHER_TEXT</th>\n",
       "      <th>Q31_OTHER_TEXT</th>\n",
       "      <th>Q32_OTHER_TEXT</th>\n",
       "      <th>Q33_OTHER_TEXT</th>\n",
       "      <th>Q34_OTHER_TEXT</th>\n",
       "      <th>Q10_Encoded</th>\n",
       "    </tr>\n",
       "  </thead>\n",
       "  <tbody>\n",
       "    <tr>\n",
       "      <th>count</th>\n",
       "      <td>12497.000000</td>\n",
       "      <td>12497.000000</td>\n",
       "      <td>12497.000000</td>\n",
       "      <td>12497.000000</td>\n",
       "      <td>12497.000000</td>\n",
       "      <td>12497.000000</td>\n",
       "      <td>12497.000000</td>\n",
       "      <td>12497.000000</td>\n",
       "      <td>12497.000000</td>\n",
       "      <td>12497.000000</td>\n",
       "      <td>...</td>\n",
       "      <td>12497.000000</td>\n",
       "      <td>12497.00000</td>\n",
       "      <td>12497.000000</td>\n",
       "      <td>12497.000000</td>\n",
       "      <td>12497.000000</td>\n",
       "      <td>12497.000000</td>\n",
       "      <td>12497.000000</td>\n",
       "      <td>12497.000000</td>\n",
       "      <td>12497.000000</td>\n",
       "      <td>12497.000000</td>\n",
       "    </tr>\n",
       "    <tr>\n",
       "      <th>mean</th>\n",
       "      <td>14186.510202</td>\n",
       "      <td>-0.963191</td>\n",
       "      <td>29.216932</td>\n",
       "      <td>-0.250940</td>\n",
       "      <td>8.103465</td>\n",
       "      <td>20.657998</td>\n",
       "      <td>25.922621</td>\n",
       "      <td>4.303833</td>\n",
       "      <td>3.934304</td>\n",
       "      <td>262.422101</td>\n",
       "      <td>...</td>\n",
       "      <td>-0.959030</td>\n",
       "      <td>-0.96015</td>\n",
       "      <td>0.146995</td>\n",
       "      <td>-0.432104</td>\n",
       "      <td>-0.024486</td>\n",
       "      <td>-0.075458</td>\n",
       "      <td>-0.396975</td>\n",
       "      <td>-0.762663</td>\n",
       "      <td>0.084420</td>\n",
       "      <td>3.920061</td>\n",
       "    </tr>\n",
       "    <tr>\n",
       "      <th>std</th>\n",
       "      <td>72866.379285</td>\n",
       "      <td>0.978525</td>\n",
       "      <td>122.208237</td>\n",
       "      <td>8.257127</td>\n",
       "      <td>51.449272</td>\n",
       "      <td>101.726742</td>\n",
       "      <td>119.957741</td>\n",
       "      <td>33.044706</td>\n",
       "      <td>31.519867</td>\n",
       "      <td>615.567766</td>\n",
       "      <td>...</td>\n",
       "      <td>0.969486</td>\n",
       "      <td>0.93225</td>\n",
       "      <td>10.517404</td>\n",
       "      <td>6.495225</td>\n",
       "      <td>9.436367</td>\n",
       "      <td>9.187520</td>\n",
       "      <td>6.270585</td>\n",
       "      <td>3.395293</td>\n",
       "      <td>9.675712</td>\n",
       "      <td>4.188416</td>\n",
       "    </tr>\n",
       "    <tr>\n",
       "      <th>min</th>\n",
       "      <td>67.000000</td>\n",
       "      <td>-1.000000</td>\n",
       "      <td>-1.000000</td>\n",
       "      <td>-1.000000</td>\n",
       "      <td>-1.000000</td>\n",
       "      <td>-1.000000</td>\n",
       "      <td>-1.000000</td>\n",
       "      <td>-1.000000</td>\n",
       "      <td>-1.000000</td>\n",
       "      <td>-1.000000</td>\n",
       "      <td>...</td>\n",
       "      <td>-1.000000</td>\n",
       "      <td>-1.00000</td>\n",
       "      <td>-1.000000</td>\n",
       "      <td>-1.000000</td>\n",
       "      <td>-1.000000</td>\n",
       "      <td>-1.000000</td>\n",
       "      <td>-1.000000</td>\n",
       "      <td>-1.000000</td>\n",
       "      <td>-1.000000</td>\n",
       "      <td>0.000000</td>\n",
       "    </tr>\n",
       "    <tr>\n",
       "      <th>25%</th>\n",
       "      <td>448.000000</td>\n",
       "      <td>-1.000000</td>\n",
       "      <td>-1.000000</td>\n",
       "      <td>-1.000000</td>\n",
       "      <td>-1.000000</td>\n",
       "      <td>-1.000000</td>\n",
       "      <td>-1.000000</td>\n",
       "      <td>-1.000000</td>\n",
       "      <td>-1.000000</td>\n",
       "      <td>-1.000000</td>\n",
       "      <td>...</td>\n",
       "      <td>-1.000000</td>\n",
       "      <td>-1.00000</td>\n",
       "      <td>-1.000000</td>\n",
       "      <td>-1.000000</td>\n",
       "      <td>-1.000000</td>\n",
       "      <td>-1.000000</td>\n",
       "      <td>-1.000000</td>\n",
       "      <td>-1.000000</td>\n",
       "      <td>-1.000000</td>\n",
       "      <td>0.000000</td>\n",
       "    </tr>\n",
       "    <tr>\n",
       "      <th>50%</th>\n",
       "      <td>636.000000</td>\n",
       "      <td>-1.000000</td>\n",
       "      <td>-1.000000</td>\n",
       "      <td>-1.000000</td>\n",
       "      <td>-1.000000</td>\n",
       "      <td>-1.000000</td>\n",
       "      <td>-1.000000</td>\n",
       "      <td>-1.000000</td>\n",
       "      <td>-1.000000</td>\n",
       "      <td>-1.000000</td>\n",
       "      <td>...</td>\n",
       "      <td>-1.000000</td>\n",
       "      <td>-1.00000</td>\n",
       "      <td>-1.000000</td>\n",
       "      <td>-1.000000</td>\n",
       "      <td>-1.000000</td>\n",
       "      <td>-1.000000</td>\n",
       "      <td>-1.000000</td>\n",
       "      <td>-1.000000</td>\n",
       "      <td>-1.000000</td>\n",
       "      <td>2.000000</td>\n",
       "    </tr>\n",
       "    <tr>\n",
       "      <th>75%</th>\n",
       "      <td>1054.000000</td>\n",
       "      <td>-1.000000</td>\n",
       "      <td>-1.000000</td>\n",
       "      <td>-1.000000</td>\n",
       "      <td>-1.000000</td>\n",
       "      <td>-1.000000</td>\n",
       "      <td>-1.000000</td>\n",
       "      <td>-1.000000</td>\n",
       "      <td>-1.000000</td>\n",
       "      <td>56.000000</td>\n",
       "      <td>...</td>\n",
       "      <td>-1.000000</td>\n",
       "      <td>-1.00000</td>\n",
       "      <td>-1.000000</td>\n",
       "      <td>-1.000000</td>\n",
       "      <td>-1.000000</td>\n",
       "      <td>-1.000000</td>\n",
       "      <td>-1.000000</td>\n",
       "      <td>-1.000000</td>\n",
       "      <td>-1.000000</td>\n",
       "      <td>7.000000</td>\n",
       "    </tr>\n",
       "    <tr>\n",
       "      <th>max</th>\n",
       "      <td>843612.000000</td>\n",
       "      <td>39.000000</td>\n",
       "      <td>877.000000</td>\n",
       "      <td>137.000000</td>\n",
       "      <td>491.000000</td>\n",
       "      <td>812.000000</td>\n",
       "      <td>935.000000</td>\n",
       "      <td>366.000000</td>\n",
       "      <td>337.000000</td>\n",
       "      <td>2840.000000</td>\n",
       "      <td>...</td>\n",
       "      <td>35.000000</td>\n",
       "      <td>31.00000</td>\n",
       "      <td>162.000000</td>\n",
       "      <td>113.000000</td>\n",
       "      <td>143.000000</td>\n",
       "      <td>142.000000</td>\n",
       "      <td>108.000000</td>\n",
       "      <td>74.000000</td>\n",
       "      <td>144.000000</td>\n",
       "      <td>14.000000</td>\n",
       "    </tr>\n",
       "  </tbody>\n",
       "</table>\n",
       "<p>8 rows × 30 columns</p>\n",
       "</div>"
      ],
      "text/plain": [
       "       Time from Start to Finish (seconds)  Q2_OTHER_TEXT  Q5_OTHER_TEXT  \\\n",
       "count                         12497.000000   12497.000000   12497.000000   \n",
       "mean                          14186.510202      -0.963191      29.216932   \n",
       "std                           72866.379285       0.978525     122.208237   \n",
       "min                              67.000000      -1.000000      -1.000000   \n",
       "25%                             448.000000      -1.000000      -1.000000   \n",
       "50%                             636.000000      -1.000000      -1.000000   \n",
       "75%                            1054.000000      -1.000000      -1.000000   \n",
       "max                          843612.000000      39.000000     877.000000   \n",
       "\n",
       "       Q9_OTHER_TEXT  Q12_OTHER_TEXT  Q13_OTHER_TEXT  Q14_Part_1_TEXT  \\\n",
       "count   12497.000000    12497.000000    12497.000000     12497.000000   \n",
       "mean       -0.250940        8.103465       20.657998        25.922621   \n",
       "std         8.257127       51.449272      101.726742       119.957741   \n",
       "min        -1.000000       -1.000000       -1.000000        -1.000000   \n",
       "25%        -1.000000       -1.000000       -1.000000        -1.000000   \n",
       "50%        -1.000000       -1.000000       -1.000000        -1.000000   \n",
       "75%        -1.000000       -1.000000       -1.000000        -1.000000   \n",
       "max       137.000000      491.000000      812.000000       935.000000   \n",
       "\n",
       "       Q14_Part_2_TEXT  Q14_Part_3_TEXT  Q14_Part_4_TEXT  ...  Q26_OTHER_TEXT  \\\n",
       "count     12497.000000     12497.000000     12497.000000  ...    12497.000000   \n",
       "mean          4.303833         3.934304       262.422101  ...       -0.959030   \n",
       "std          33.044706        31.519867       615.567766  ...        0.969486   \n",
       "min          -1.000000        -1.000000        -1.000000  ...       -1.000000   \n",
       "25%          -1.000000        -1.000000        -1.000000  ...       -1.000000   \n",
       "50%          -1.000000        -1.000000        -1.000000  ...       -1.000000   \n",
       "75%          -1.000000        -1.000000        56.000000  ...       -1.000000   \n",
       "max         366.000000       337.000000      2840.000000  ...       35.000000   \n",
       "\n",
       "       Q27_OTHER_TEXT  Q28_OTHER_TEXT  Q29_OTHER_TEXT  Q30_OTHER_TEXT  \\\n",
       "count     12497.00000    12497.000000    12497.000000    12497.000000   \n",
       "mean         -0.96015        0.146995       -0.432104       -0.024486   \n",
       "std           0.93225       10.517404        6.495225        9.436367   \n",
       "min          -1.00000       -1.000000       -1.000000       -1.000000   \n",
       "25%          -1.00000       -1.000000       -1.000000       -1.000000   \n",
       "50%          -1.00000       -1.000000       -1.000000       -1.000000   \n",
       "75%          -1.00000       -1.000000       -1.000000       -1.000000   \n",
       "max          31.00000      162.000000      113.000000      143.000000   \n",
       "\n",
       "       Q31_OTHER_TEXT  Q32_OTHER_TEXT  Q33_OTHER_TEXT  Q34_OTHER_TEXT  \\\n",
       "count    12497.000000    12497.000000    12497.000000    12497.000000   \n",
       "mean        -0.075458       -0.396975       -0.762663        0.084420   \n",
       "std          9.187520        6.270585        3.395293        9.675712   \n",
       "min         -1.000000       -1.000000       -1.000000       -1.000000   \n",
       "25%         -1.000000       -1.000000       -1.000000       -1.000000   \n",
       "50%         -1.000000       -1.000000       -1.000000       -1.000000   \n",
       "75%         -1.000000       -1.000000       -1.000000       -1.000000   \n",
       "max        142.000000      108.000000       74.000000      144.000000   \n",
       "\n",
       "        Q10_Encoded  \n",
       "count  12497.000000  \n",
       "mean       3.920061  \n",
       "std        4.188416  \n",
       "min        0.000000  \n",
       "25%        0.000000  \n",
       "50%        2.000000  \n",
       "75%        7.000000  \n",
       "max       14.000000  \n",
       "\n",
       "[8 rows x 30 columns]"
      ]
     },
     "execution_count": 379,
     "metadata": {},
     "output_type": "execute_result"
    }
   ],
   "source": [
    "df.describe()"
   ]
  },
  {
   "cell_type": "markdown",
   "metadata": {},
   "source": [
    "Explore missing data associated with its counts and percentage."
   ]
  },
  {
   "cell_type": "code",
   "execution_count": 380,
   "metadata": {
    "ExecuteTime": {
     "end_time": "2020-02-29T03:42:46.173345Z",
     "start_time": "2020-02-29T03:42:45.878329Z"
    }
   },
   "outputs": [],
   "source": [
    "df.filter(regex='Part').isna().sum();"
   ]
  },
  {
   "cell_type": "markdown",
   "metadata": {},
   "source": [
    "Drop columns with high percentage (>40%) NaN values because those columns does not have enough useful information for model to learn from. "
   ]
  },
  {
   "cell_type": "code",
   "execution_count": 381,
   "metadata": {
    "ExecuteTime": {
     "end_time": "2020-02-29T03:42:46.482345Z",
     "start_time": "2020-02-29T03:42:46.179348Z"
    }
   },
   "outputs": [
    {
     "data": {
      "text/plain": [
       "Time from Start to Finish (seconds)     0.00\n",
       "Q1                                      0.00\n",
       "Q2                                      0.00\n",
       "Q2_OTHER_TEXT                           0.00\n",
       "Q3                                      0.00\n",
       "Q4                                      0.00\n",
       "Q5                                      0.00\n",
       "Q5_OTHER_TEXT                           0.00\n",
       "Q6                                      0.00\n",
       "Q7                                      0.00\n",
       "Q8                                      0.00\n",
       "Q9_Part_1                              52.16\n",
       "Q9_Part_2                              71.94\n",
       "Q9_Part_3                              60.87\n",
       "Q9_Part_4                              73.71\n",
       "Q9_Part_5                              70.92\n",
       "Q9_Part_6                              81.57\n",
       "Q9_Part_7                              95.88\n",
       "Q9_Part_8                              98.09\n",
       "Q9_OTHER_TEXT                           0.00\n",
       "Q10                                     0.00\n",
       "Q11                                     1.98\n",
       "Q12_Part_1                             77.71\n",
       "Q12_Part_2                             88.91\n",
       "Q12_Part_3                             80.76\n",
       "Q12_Part_4                             37.93\n",
       "Q12_Part_5                             77.46\n",
       "Q12_Part_6                             59.06\n",
       "Q12_Part_7                             86.84\n",
       "Q12_Part_8                             41.32\n",
       "Q12_Part_9                             72.04\n",
       "Q12_Part_10                            84.95\n",
       "Q12_Part_11                            97.01\n",
       "Q12_Part_12                            92.93\n",
       "Q12_OTHER_TEXT                          0.00\n",
       "Q13_Part_1                             81.77\n",
       "Q13_Part_2                             48.09\n",
       "Q13_Part_3                             80.48\n",
       "Q13_Part_4                             76.17\n",
       "Q13_Part_5                             95.54\n",
       "Q13_Part_6                             70.66\n",
       "Q13_Part_7                             90.48\n",
       "Q13_Part_8                             71.51\n",
       "Q13_Part_9                             91.92\n",
       "Q13_Part_10                            75.50\n",
       "Q13_Part_11                            92.05\n",
       "Q13_Part_12                            89.78\n",
       "Q13_OTHER_TEXT                          0.00\n",
       "Q14                                     8.36\n",
       "Q14_Part_1_TEXT                         0.00\n",
       "Q14_Part_2_TEXT                         0.00\n",
       "Q14_Part_3_TEXT                         0.00\n",
       "Q14_Part_4_TEXT                         0.00\n",
       "Q14_Part_5_TEXT                         0.00\n",
       "Q14_OTHER_TEXT                          0.00\n",
       "Q15                                     8.60\n",
       "Q16_Part_1                             37.46\n",
       "Q16_Part_2                             72.07\n",
       "Q16_Part_3                             74.85\n",
       "Q16_Part_4                             91.59\n",
       "Q16_Part_5                             91.17\n",
       "Q16_Part_6                             72.77\n",
       "Q16_Part_7                             82.85\n",
       "Q16_Part_8                             88.29\n",
       "Q16_Part_9                             78.94\n",
       "Q16_Part_10                            84.71\n",
       "Q16_Part_11                            98.50\n",
       "Q16_Part_12                            95.54\n",
       "Q16_OTHER_TEXT                          0.00\n",
       "Q17_Part_1                             73.21\n",
       "Q17_Part_2                             75.15\n",
       "Q17_Part_3                             94.46\n",
       "Q17_Part_4                             93.29\n",
       "Q17_Part_5                             99.02\n",
       "Q17_Part_6                             99.38\n",
       "Q17_Part_7                             90.40\n",
       "Q17_Part_8                             96.15\n",
       "Q17_Part_9                             99.52\n",
       "Q17_Part_10                            94.63\n",
       "Q17_Part_11                            67.60\n",
       "Q17_Part_12                            97.05\n",
       "Q17_OTHER_TEXT                          0.00\n",
       "Q18_Part_1                             25.08\n",
       "Q18_Part_2                             70.78\n",
       "Q18_Part_3                             56.57\n",
       "Q18_Part_4                             92.41\n",
       "Q18_Part_5                             89.15\n",
       "Q18_Part_6                             87.21\n",
       "Q18_Part_7                             86.24\n",
       "Q18_Part_8                             97.18\n",
       "Q18_Part_9                             85.89\n",
       "Q18_Part_10                            92.30\n",
       "Q18_Part_11                            99.45\n",
       "Q18_Part_12                            91.87\n",
       "Q18_OTHER_TEXT                          0.00\n",
       "Q19                                    14.76\n",
       "Q19_OTHER_TEXT                          0.00\n",
       "Q20_Part_1                             73.80\n",
       "Q20_Part_2                             39.93\n",
       "Q20_Part_3                             98.87\n",
       "Q20_Part_4                             91.12\n",
       "Q20_Part_5                             92.40\n",
       "Q20_Part_6                             79.47\n",
       "Q20_Part_7                             93.04\n",
       "Q20_Part_8                             60.17\n",
       "Q20_Part_9                             96.10\n",
       "Q20_Part_10                            96.22\n",
       "Q20_Part_11                            92.26\n",
       "Q20_Part_12                            96.90\n",
       "Q20_OTHER_TEXT                          0.00\n",
       "Q21_Part_1                             36.91\n",
       "Q21_Part_2                             60.69\n",
       "Q21_Part_3                             97.05\n",
       "Q21_Part_4                             85.91\n",
       "Q21_Part_5                             99.29\n",
       "Q21_OTHER_TEXT                          0.00\n",
       "Q22                                    15.58\n",
       "Q23                                    15.65\n",
       "Q24_Part_1                             38.84\n",
       "Q24_Part_2                             47.80\n",
       "Q24_Part_3                             64.58\n",
       "Q24_Part_4                             77.07\n",
       "Q24_Part_5                             94.40\n",
       "Q24_Part_6                             80.40\n",
       "Q24_Part_7                             68.54\n",
       "Q24_Part_8                             94.17\n",
       "Q24_Part_9                             79.21\n",
       "Q24_Part_10                            94.07\n",
       "Q24_Part_11                            93.20\n",
       "Q24_Part_12                            97.29\n",
       "Q24_OTHER_TEXT                          0.00\n",
       "Q25_Part_1                             89.02\n",
       "Q25_Part_2                             90.01\n",
       "Q25_Part_3                             81.56\n",
       "Q25_Part_4                             96.98\n",
       "Q25_Part_5                             87.99\n",
       "Q25_Part_6                             92.20\n",
       "Q25_Part_7                             53.45\n",
       "Q25_Part_8                             98.49\n",
       "Q25_OTHER_TEXT                          0.00\n",
       "Q26_Part_1                             87.16\n",
       "Q26_Part_2                             87.83\n",
       "Q26_Part_3                             88.73\n",
       "Q26_Part_4                             81.26\n",
       "Q26_Part_5                             93.61\n",
       "Q26_Part_6                             92.66\n",
       "Q26_Part_7                             99.67\n",
       "Q26_OTHER_TEXT                          0.00\n",
       "Q27_Part_1                             86.52\n",
       "Q27_Part_2                             91.59\n",
       "Q27_Part_3                             96.30\n",
       "Q27_Part_4                             93.21\n",
       "Q27_Part_5                             93.78\n",
       "Q27_Part_6                             99.63\n",
       "Q27_OTHER_TEXT                          0.00\n",
       "Q28_Part_1                             44.23\n",
       "Q28_Part_2                             65.65\n",
       "Q28_Part_3                             65.40\n",
       "Q28_Part_4                             72.03\n",
       "Q28_Part_5                             72.73\n",
       "Q28_Part_6                             79.48\n",
       "Q28_Part_7                             92.02\n",
       "Q28_Part_8                             85.96\n",
       "Q28_Part_9                             93.45\n",
       "Q28_Part_10                            94.09\n",
       "Q28_Part_11                            89.42\n",
       "Q28_Part_12                            97.65\n",
       "Q28_OTHER_TEXT                          0.00\n",
       "Q29_Part_1                             82.92\n",
       "Q29_Part_2                             77.93\n",
       "Q29_Part_3                             89.15\n",
       "Q29_Part_4                             97.02\n",
       "Q29_Part_5                             99.12\n",
       "Q29_Part_6                             99.08\n",
       "Q29_Part_7                             98.70\n",
       "Q29_Part_8                             99.28\n",
       "Q29_Part_9                             98.63\n",
       "Q29_Part_10                            99.38\n",
       "Q29_Part_11                            82.16\n",
       "Q29_Part_12                            98.64\n",
       "Q29_OTHER_TEXT                          0.00\n",
       "Q30_Part_1                             85.52\n",
       "Q30_Part_2                             90.89\n",
       "Q30_Part_3                             92.99\n",
       "Q30_Part_4                             93.29\n",
       "Q30_Part_5                             95.22\n",
       "Q30_Part_6                             94.38\n",
       "Q30_Part_7                             97.51\n",
       "Q30_Part_8                             95.79\n",
       "Q30_Part_9                             97.73\n",
       "Q30_Part_10                            96.84\n",
       "Q30_Part_11                            74.75\n",
       "Q30_Part_12                            98.09\n",
       "Q30_OTHER_TEXT                          0.00\n",
       "Q31_Part_1                             92.33\n",
       "Q31_Part_2                             95.50\n",
       "Q31_Part_3                             95.17\n",
       "Q31_Part_4                             96.57\n",
       "Q31_Part_5                             97.42\n",
       "Q31_Part_6                             96.59\n",
       "Q31_Part_7                             95.80\n",
       "Q31_Part_8                             97.05\n",
       "Q31_Part_9                             97.75\n",
       "Q31_Part_10                            96.82\n",
       "Q31_Part_11                            66.93\n",
       "Q31_Part_12                            97.87\n",
       "Q31_OTHER_TEXT                          0.00\n",
       "Q32_Part_1                             96.40\n",
       "Q32_Part_2                             96.66\n",
       "Q32_Part_3                             95.35\n",
       "Q32_Part_4                             95.31\n",
       "Q32_Part_5                             97.02\n",
       "Q32_Part_6                             96.50\n",
       "Q32_Part_7                             96.80\n",
       "Q32_Part_8                             97.88\n",
       "Q32_Part_9                             97.48\n",
       "Q32_Part_10                            95.45\n",
       "Q32_Part_11                            65.49\n",
       "Q32_Part_12                            98.20\n",
       "Q32_OTHER_TEXT                          0.00\n",
       "Q33_Part_1                             96.02\n",
       "Q33_Part_2                             97.78\n",
       "Q33_Part_3                             98.47\n",
       "Q33_Part_4                             98.63\n",
       "Q33_Part_5                             98.59\n",
       "Q33_Part_6                             96.28\n",
       "Q33_Part_7                             93.95\n",
       "Q33_Part_8                             97.77\n",
       "Q33_Part_9                             99.78\n",
       "Q33_Part_10                            98.94\n",
       "Q33_Part_11                            58.59\n",
       "Q33_Part_12                            98.94\n",
       "Q33_OTHER_TEXT                          0.00\n",
       "Q34_Part_1                             75.02\n",
       "Q34_Part_2                             82.72\n",
       "Q34_Part_3                             87.78\n",
       "Q34_Part_4                             85.18\n",
       "Q34_Part_5                             90.46\n",
       "Q34_Part_6                             95.62\n",
       "Q34_Part_7                             95.29\n",
       "Q34_Part_8                             96.68\n",
       "Q34_Part_9                             96.17\n",
       "Q34_Part_10                            95.79\n",
       "Q34_Part_11                            90.04\n",
       "Q34_Part_12                            97.70\n",
       "Q34_OTHER_TEXT                          0.00\n",
       "Q10_Encoded                             0.00\n",
       "Q10_buckets                             0.00\n",
       "dtype: float64"
      ]
     },
     "execution_count": 381,
     "metadata": {},
     "output_type": "execute_result"
    }
   ],
   "source": [
    "pd.options.display.max_rows = 300\n",
    "df.isna().mean().round(4) * 100\n",
    "#alter=df.isna().sum()/len(df)*100\n",
    "#alter.round(2)"
   ]
  },
  {
   "cell_type": "markdown",
   "metadata": {
    "ExecuteTime": {
     "end_time": "2020-02-28T21:57:27.146042Z",
     "start_time": "2020-02-28T21:56:56.484Z"
    }
   },
   "source": [
    "### Handling missing values"
   ]
  },
  {
   "cell_type": "markdown",
   "metadata": {},
   "source": [
    "There are mainly two types of questions being asked in the survey. One is multiple choice question where surveyors can submit one of options and leave the rest blank. The other one is single choice question where the answers will be record once surveyors select one choice for that particular question. "
   ]
  },
  {
   "cell_type": "markdown",
   "metadata": {},
   "source": [
    "The survey consists lots of choices for multiple choice questions, and each choice of one question is separated into individual column in the dataset. As a result, choosing one answer will stop people from choosing any other answers. In another words, the Nan values in these multiple choice questions are not actual missing values. They are appearing to be missing simply because surveyor did not choose that particular option in that specific questions only. So dropping all Nan values is not appropriate. Instead, 0 will be assigned if respondents did not choose this particular choice, and 1 will be assigned if people surveyed have picked this choice. "
   ]
  },
  {
   "cell_type": "markdown",
   "metadata": {},
   "source": [
    "Multiple choices questions will be dealt based on the method mentioned above as following.  "
   ]
  },
  {
   "cell_type": "code",
   "execution_count": 382,
   "metadata": {
    "ExecuteTime": {
     "end_time": "2020-02-29T03:42:46.596356Z",
     "start_time": "2020-02-29T03:42:46.489347Z"
    }
   },
   "outputs": [
    {
     "data": {
      "text/html": [
       "<div>\n",
       "<style scoped>\n",
       "    .dataframe tbody tr th:only-of-type {\n",
       "        vertical-align: middle;\n",
       "    }\n",
       "\n",
       "    .dataframe tbody tr th {\n",
       "        vertical-align: top;\n",
       "    }\n",
       "\n",
       "    .dataframe thead th {\n",
       "        text-align: right;\n",
       "    }\n",
       "</style>\n",
       "<table border=\"1\" class=\"dataframe\">\n",
       "  <thead>\n",
       "    <tr style=\"text-align: right;\">\n",
       "      <th></th>\n",
       "      <th>Q9_Part_1</th>\n",
       "      <th>Q9_Part_2</th>\n",
       "      <th>Q9_Part_3</th>\n",
       "      <th>Q9_Part_4</th>\n",
       "      <th>Q9_Part_5</th>\n",
       "      <th>Q9_Part_6</th>\n",
       "      <th>Q9_Part_7</th>\n",
       "      <th>Q9_Part_8</th>\n",
       "      <th>Q12_Part_1</th>\n",
       "      <th>Q12_Part_2</th>\n",
       "      <th>...</th>\n",
       "      <th>Q34_Part_3</th>\n",
       "      <th>Q34_Part_4</th>\n",
       "      <th>Q34_Part_5</th>\n",
       "      <th>Q34_Part_6</th>\n",
       "      <th>Q34_Part_7</th>\n",
       "      <th>Q34_Part_8</th>\n",
       "      <th>Q34_Part_9</th>\n",
       "      <th>Q34_Part_10</th>\n",
       "      <th>Q34_Part_11</th>\n",
       "      <th>Q34_Part_12</th>\n",
       "    </tr>\n",
       "  </thead>\n",
       "  <tbody>\n",
       "    <tr>\n",
       "      <th>0</th>\n",
       "      <td>NaN</td>\n",
       "      <td>NaN</td>\n",
       "      <td>NaN</td>\n",
       "      <td>NaN</td>\n",
       "      <td>NaN</td>\n",
       "      <td>NaN</td>\n",
       "      <td>NaN</td>\n",
       "      <td>NaN</td>\n",
       "      <td>Twitter (data science influencers)</td>\n",
       "      <td>NaN</td>\n",
       "      <td>...</td>\n",
       "      <td>NaN</td>\n",
       "      <td>NaN</td>\n",
       "      <td>NaN</td>\n",
       "      <td>NaN</td>\n",
       "      <td>NaN</td>\n",
       "      <td>NaN</td>\n",
       "      <td>NaN</td>\n",
       "      <td>NaN</td>\n",
       "      <td>NaN</td>\n",
       "      <td>NaN</td>\n",
       "    </tr>\n",
       "    <tr>\n",
       "      <th>1</th>\n",
       "      <td>Analyze and understand data to influence produ...</td>\n",
       "      <td>Build and/or run the data infrastructure that ...</td>\n",
       "      <td>Build prototypes to explore applying machine l...</td>\n",
       "      <td>Build and/or run a machine learning service th...</td>\n",
       "      <td>NaN</td>\n",
       "      <td>NaN</td>\n",
       "      <td>NaN</td>\n",
       "      <td>NaN</td>\n",
       "      <td>NaN</td>\n",
       "      <td>NaN</td>\n",
       "      <td>...</td>\n",
       "      <td>NaN</td>\n",
       "      <td>NaN</td>\n",
       "      <td>NaN</td>\n",
       "      <td>NaN</td>\n",
       "      <td>NaN</td>\n",
       "      <td>NaN</td>\n",
       "      <td>NaN</td>\n",
       "      <td>NaN</td>\n",
       "      <td>NaN</td>\n",
       "      <td>NaN</td>\n",
       "    </tr>\n",
       "    <tr>\n",
       "      <th>2</th>\n",
       "      <td>NaN</td>\n",
       "      <td>NaN</td>\n",
       "      <td>NaN</td>\n",
       "      <td>NaN</td>\n",
       "      <td>NaN</td>\n",
       "      <td>NaN</td>\n",
       "      <td>NaN</td>\n",
       "      <td>NaN</td>\n",
       "      <td>NaN</td>\n",
       "      <td>NaN</td>\n",
       "      <td>...</td>\n",
       "      <td>NaN</td>\n",
       "      <td>NaN</td>\n",
       "      <td>NaN</td>\n",
       "      <td>NaN</td>\n",
       "      <td>NaN</td>\n",
       "      <td>NaN</td>\n",
       "      <td>Azure SQL Database</td>\n",
       "      <td>NaN</td>\n",
       "      <td>NaN</td>\n",
       "      <td>NaN</td>\n",
       "    </tr>\n",
       "    <tr>\n",
       "      <th>3</th>\n",
       "      <td>NaN</td>\n",
       "      <td>NaN</td>\n",
       "      <td>NaN</td>\n",
       "      <td>NaN</td>\n",
       "      <td>NaN</td>\n",
       "      <td>NaN</td>\n",
       "      <td>NaN</td>\n",
       "      <td>NaN</td>\n",
       "      <td>NaN</td>\n",
       "      <td>NaN</td>\n",
       "      <td>...</td>\n",
       "      <td>NaN</td>\n",
       "      <td>NaN</td>\n",
       "      <td>NaN</td>\n",
       "      <td>NaN</td>\n",
       "      <td>NaN</td>\n",
       "      <td>NaN</td>\n",
       "      <td>NaN</td>\n",
       "      <td>NaN</td>\n",
       "      <td>NaN</td>\n",
       "      <td>NaN</td>\n",
       "    </tr>\n",
       "    <tr>\n",
       "      <th>4</th>\n",
       "      <td>NaN</td>\n",
       "      <td>NaN</td>\n",
       "      <td>Build prototypes to explore applying machine l...</td>\n",
       "      <td>NaN</td>\n",
       "      <td>NaN</td>\n",
       "      <td>Do research that advances the state of the art...</td>\n",
       "      <td>NaN</td>\n",
       "      <td>NaN</td>\n",
       "      <td>NaN</td>\n",
       "      <td>NaN</td>\n",
       "      <td>...</td>\n",
       "      <td>NaN</td>\n",
       "      <td>NaN</td>\n",
       "      <td>NaN</td>\n",
       "      <td>NaN</td>\n",
       "      <td>AWS Relational Database Service</td>\n",
       "      <td>NaN</td>\n",
       "      <td>NaN</td>\n",
       "      <td>NaN</td>\n",
       "      <td>NaN</td>\n",
       "      <td>NaN</td>\n",
       "    </tr>\n",
       "  </tbody>\n",
       "</table>\n",
       "<p>5 rows × 207 columns</p>\n",
       "</div>"
      ],
      "text/plain": [
       "                                           Q9_Part_1  \\\n",
       "0                                                NaN   \n",
       "1  Analyze and understand data to influence produ...   \n",
       "2                                                NaN   \n",
       "3                                                NaN   \n",
       "4                                                NaN   \n",
       "\n",
       "                                           Q9_Part_2  \\\n",
       "0                                                NaN   \n",
       "1  Build and/or run the data infrastructure that ...   \n",
       "2                                                NaN   \n",
       "3                                                NaN   \n",
       "4                                                NaN   \n",
       "\n",
       "                                           Q9_Part_3  \\\n",
       "0                                                NaN   \n",
       "1  Build prototypes to explore applying machine l...   \n",
       "2                                                NaN   \n",
       "3                                                NaN   \n",
       "4  Build prototypes to explore applying machine l...   \n",
       "\n",
       "                                           Q9_Part_4 Q9_Part_5  \\\n",
       "0                                                NaN       NaN   \n",
       "1  Build and/or run a machine learning service th...       NaN   \n",
       "2                                                NaN       NaN   \n",
       "3                                                NaN       NaN   \n",
       "4                                                NaN       NaN   \n",
       "\n",
       "                                           Q9_Part_6 Q9_Part_7 Q9_Part_8  \\\n",
       "0                                                NaN       NaN       NaN   \n",
       "1                                                NaN       NaN       NaN   \n",
       "2                                                NaN       NaN       NaN   \n",
       "3                                                NaN       NaN       NaN   \n",
       "4  Do research that advances the state of the art...       NaN       NaN   \n",
       "\n",
       "                           Q12_Part_1 Q12_Part_2  ... Q34_Part_3 Q34_Part_4  \\\n",
       "0  Twitter (data science influencers)        NaN  ...        NaN        NaN   \n",
       "1                                 NaN        NaN  ...        NaN        NaN   \n",
       "2                                 NaN        NaN  ...        NaN        NaN   \n",
       "3                                 NaN        NaN  ...        NaN        NaN   \n",
       "4                                 NaN        NaN  ...        NaN        NaN   \n",
       "\n",
       "  Q34_Part_5 Q34_Part_6                       Q34_Part_7 Q34_Part_8  \\\n",
       "0        NaN        NaN                              NaN        NaN   \n",
       "1        NaN        NaN                              NaN        NaN   \n",
       "2        NaN        NaN                              NaN        NaN   \n",
       "3        NaN        NaN                              NaN        NaN   \n",
       "4        NaN        NaN  AWS Relational Database Service        NaN   \n",
       "\n",
       "           Q34_Part_9 Q34_Part_10 Q34_Part_11 Q34_Part_12  \n",
       "0                 NaN         NaN         NaN         NaN  \n",
       "1                 NaN         NaN         NaN         NaN  \n",
       "2  Azure SQL Database         NaN         NaN         NaN  \n",
       "3                 NaN         NaN         NaN         NaN  \n",
       "4                 NaN         NaN         NaN         NaN  \n",
       "\n",
       "[5 rows x 207 columns]"
      ]
     },
     "execution_count": 382,
     "metadata": {},
     "output_type": "execute_result"
    }
   ],
   "source": [
    "df_choice = df.filter(regex='Part')\n",
    "df_choice.head()"
   ]
  },
  {
   "cell_type": "code",
   "execution_count": 383,
   "metadata": {
    "ExecuteTime": {
     "end_time": "2020-02-29T03:42:46.613352Z",
     "start_time": "2020-02-29T03:42:46.605355Z"
    }
   },
   "outputs": [],
   "source": [
    "choice = [col for col in df.columns if 'Part' in col]\n",
    "choice;"
   ]
  },
  {
   "cell_type": "code",
   "execution_count": 384,
   "metadata": {
    "ExecuteTime": {
     "end_time": "2020-02-29T03:42:46.627357Z",
     "start_time": "2020-02-29T03:42:46.620355Z"
    }
   },
   "outputs": [],
   "source": [
    "#d[d.apply(type)==str]"
   ]
  },
  {
   "cell_type": "code",
   "execution_count": 385,
   "metadata": {
    "ExecuteTime": {
     "end_time": "2020-02-29T03:42:46.641355Z",
     "start_time": "2020-02-29T03:42:46.633355Z"
    }
   },
   "outputs": [],
   "source": [
    "#df['Q18_Part_1'].replace(df['Q18_Part_1'].value_counts().index.to_list()[0],1)"
   ]
  },
  {
   "cell_type": "code",
   "execution_count": 386,
   "metadata": {
    "ExecuteTime": {
     "end_time": "2020-02-29T03:43:00.271923Z",
     "start_time": "2020-02-29T03:42:46.646357Z"
    }
   },
   "outputs": [],
   "source": [
    "for i in range(len(choice)):\n",
    "    if df[choice[i]].isna().sum()!=0:\n",
    "        replace={df[choice[i]].value_counts().index.to_list()[0]:1}\n",
    "        df[choice[i]]=df[choice].iloc[:,i].replace(replace)"
   ]
  },
  {
   "cell_type": "code",
   "execution_count": 387,
   "metadata": {
    "ExecuteTime": {
     "end_time": "2020-02-29T03:43:00.405934Z",
     "start_time": "2020-02-29T03:43:00.275926Z"
    }
   },
   "outputs": [],
   "source": [
    "###Alternative\n",
    "df[choice]=df[choice].fillna(0)"
   ]
  },
  {
   "cell_type": "markdown",
   "metadata": {},
   "source": [
    "Check if "
   ]
  },
  {
   "cell_type": "code",
   "execution_count": 388,
   "metadata": {
    "ExecuteTime": {
     "end_time": "2020-02-29T03:43:00.465940Z",
     "start_time": "2020-02-29T03:43:00.409937Z"
    }
   },
   "outputs": [
    {
     "data": {
      "text/html": [
       "<div>\n",
       "<style scoped>\n",
       "    .dataframe tbody tr th:only-of-type {\n",
       "        vertical-align: middle;\n",
       "    }\n",
       "\n",
       "    .dataframe tbody tr th {\n",
       "        vertical-align: top;\n",
       "    }\n",
       "\n",
       "    .dataframe thead th {\n",
       "        text-align: right;\n",
       "    }\n",
       "</style>\n",
       "<table border=\"1\" class=\"dataframe\">\n",
       "  <thead>\n",
       "    <tr style=\"text-align: right;\">\n",
       "      <th></th>\n",
       "      <th>Q9_Part_1</th>\n",
       "      <th>Q9_Part_2</th>\n",
       "      <th>Q9_Part_3</th>\n",
       "      <th>Q9_Part_4</th>\n",
       "      <th>Q9_Part_5</th>\n",
       "      <th>Q9_Part_6</th>\n",
       "      <th>Q9_Part_7</th>\n",
       "      <th>Q9_Part_8</th>\n",
       "      <th>Q12_Part_1</th>\n",
       "      <th>Q12_Part_2</th>\n",
       "      <th>...</th>\n",
       "      <th>Q34_Part_3</th>\n",
       "      <th>Q34_Part_4</th>\n",
       "      <th>Q34_Part_5</th>\n",
       "      <th>Q34_Part_6</th>\n",
       "      <th>Q34_Part_7</th>\n",
       "      <th>Q34_Part_8</th>\n",
       "      <th>Q34_Part_9</th>\n",
       "      <th>Q34_Part_10</th>\n",
       "      <th>Q34_Part_11</th>\n",
       "      <th>Q34_Part_12</th>\n",
       "    </tr>\n",
       "  </thead>\n",
       "  <tbody>\n",
       "    <tr>\n",
       "      <th>0</th>\n",
       "      <td>0.0</td>\n",
       "      <td>0.0</td>\n",
       "      <td>0.0</td>\n",
       "      <td>0.0</td>\n",
       "      <td>0.0</td>\n",
       "      <td>0.0</td>\n",
       "      <td>0.0</td>\n",
       "      <td>0.0</td>\n",
       "      <td>1.0</td>\n",
       "      <td>0.0</td>\n",
       "      <td>...</td>\n",
       "      <td>0.0</td>\n",
       "      <td>0.0</td>\n",
       "      <td>0.0</td>\n",
       "      <td>0.0</td>\n",
       "      <td>0.0</td>\n",
       "      <td>0.0</td>\n",
       "      <td>0.0</td>\n",
       "      <td>0.0</td>\n",
       "      <td>0.0</td>\n",
       "      <td>0.0</td>\n",
       "    </tr>\n",
       "    <tr>\n",
       "      <th>1</th>\n",
       "      <td>1.0</td>\n",
       "      <td>1.0</td>\n",
       "      <td>1.0</td>\n",
       "      <td>1.0</td>\n",
       "      <td>0.0</td>\n",
       "      <td>0.0</td>\n",
       "      <td>0.0</td>\n",
       "      <td>0.0</td>\n",
       "      <td>0.0</td>\n",
       "      <td>0.0</td>\n",
       "      <td>...</td>\n",
       "      <td>0.0</td>\n",
       "      <td>0.0</td>\n",
       "      <td>0.0</td>\n",
       "      <td>0.0</td>\n",
       "      <td>0.0</td>\n",
       "      <td>0.0</td>\n",
       "      <td>0.0</td>\n",
       "      <td>0.0</td>\n",
       "      <td>0.0</td>\n",
       "      <td>0.0</td>\n",
       "    </tr>\n",
       "    <tr>\n",
       "      <th>2</th>\n",
       "      <td>0.0</td>\n",
       "      <td>0.0</td>\n",
       "      <td>0.0</td>\n",
       "      <td>0.0</td>\n",
       "      <td>0.0</td>\n",
       "      <td>0.0</td>\n",
       "      <td>0.0</td>\n",
       "      <td>0.0</td>\n",
       "      <td>0.0</td>\n",
       "      <td>0.0</td>\n",
       "      <td>...</td>\n",
       "      <td>0.0</td>\n",
       "      <td>0.0</td>\n",
       "      <td>0.0</td>\n",
       "      <td>0.0</td>\n",
       "      <td>0.0</td>\n",
       "      <td>0.0</td>\n",
       "      <td>1.0</td>\n",
       "      <td>0.0</td>\n",
       "      <td>0.0</td>\n",
       "      <td>0.0</td>\n",
       "    </tr>\n",
       "    <tr>\n",
       "      <th>3</th>\n",
       "      <td>0.0</td>\n",
       "      <td>0.0</td>\n",
       "      <td>0.0</td>\n",
       "      <td>0.0</td>\n",
       "      <td>0.0</td>\n",
       "      <td>0.0</td>\n",
       "      <td>0.0</td>\n",
       "      <td>0.0</td>\n",
       "      <td>0.0</td>\n",
       "      <td>0.0</td>\n",
       "      <td>...</td>\n",
       "      <td>0.0</td>\n",
       "      <td>0.0</td>\n",
       "      <td>0.0</td>\n",
       "      <td>0.0</td>\n",
       "      <td>0.0</td>\n",
       "      <td>0.0</td>\n",
       "      <td>0.0</td>\n",
       "      <td>0.0</td>\n",
       "      <td>0.0</td>\n",
       "      <td>0.0</td>\n",
       "    </tr>\n",
       "    <tr>\n",
       "      <th>4</th>\n",
       "      <td>0.0</td>\n",
       "      <td>0.0</td>\n",
       "      <td>1.0</td>\n",
       "      <td>0.0</td>\n",
       "      <td>0.0</td>\n",
       "      <td>1.0</td>\n",
       "      <td>0.0</td>\n",
       "      <td>0.0</td>\n",
       "      <td>0.0</td>\n",
       "      <td>0.0</td>\n",
       "      <td>...</td>\n",
       "      <td>0.0</td>\n",
       "      <td>0.0</td>\n",
       "      <td>0.0</td>\n",
       "      <td>0.0</td>\n",
       "      <td>1.0</td>\n",
       "      <td>0.0</td>\n",
       "      <td>0.0</td>\n",
       "      <td>0.0</td>\n",
       "      <td>0.0</td>\n",
       "      <td>0.0</td>\n",
       "    </tr>\n",
       "  </tbody>\n",
       "</table>\n",
       "<p>5 rows × 207 columns</p>\n",
       "</div>"
      ],
      "text/plain": [
       "   Q9_Part_1  Q9_Part_2  Q9_Part_3  Q9_Part_4  Q9_Part_5  Q9_Part_6  \\\n",
       "0        0.0        0.0        0.0        0.0        0.0        0.0   \n",
       "1        1.0        1.0        1.0        1.0        0.0        0.0   \n",
       "2        0.0        0.0        0.0        0.0        0.0        0.0   \n",
       "3        0.0        0.0        0.0        0.0        0.0        0.0   \n",
       "4        0.0        0.0        1.0        0.0        0.0        1.0   \n",
       "\n",
       "   Q9_Part_7  Q9_Part_8  Q12_Part_1  Q12_Part_2  ...  Q34_Part_3  Q34_Part_4  \\\n",
       "0        0.0        0.0         1.0         0.0  ...         0.0         0.0   \n",
       "1        0.0        0.0         0.0         0.0  ...         0.0         0.0   \n",
       "2        0.0        0.0         0.0         0.0  ...         0.0         0.0   \n",
       "3        0.0        0.0         0.0         0.0  ...         0.0         0.0   \n",
       "4        0.0        0.0         0.0         0.0  ...         0.0         0.0   \n",
       "\n",
       "   Q34_Part_5  Q34_Part_6  Q34_Part_7  Q34_Part_8  Q34_Part_9  Q34_Part_10  \\\n",
       "0         0.0         0.0         0.0         0.0         0.0          0.0   \n",
       "1         0.0         0.0         0.0         0.0         0.0          0.0   \n",
       "2         0.0         0.0         0.0         0.0         1.0          0.0   \n",
       "3         0.0         0.0         0.0         0.0         0.0          0.0   \n",
       "4         0.0         0.0         1.0         0.0         0.0          0.0   \n",
       "\n",
       "   Q34_Part_11  Q34_Part_12  \n",
       "0          0.0          0.0  \n",
       "1          0.0          0.0  \n",
       "2          0.0          0.0  \n",
       "3          0.0          0.0  \n",
       "4          0.0          0.0  \n",
       "\n",
       "[5 rows x 207 columns]"
      ]
     },
     "execution_count": 388,
     "metadata": {},
     "output_type": "execute_result"
    }
   ],
   "source": [
    "df[choice].head()"
   ]
  },
  {
   "cell_type": "code",
   "execution_count": 389,
   "metadata": {
    "ExecuteTime": {
     "end_time": "2020-02-29T03:43:00.556942Z",
     "start_time": "2020-02-29T03:43:00.468937Z"
    }
   },
   "outputs": [],
   "source": [
    "df.loc[:,df.isna().mean()!=0].dtypes\n",
    "#df[choice].iloc[:,0].value_counts().index.values[0]\n",
    "df.isna().sum()\n",
    "df.isna().mean().value_counts();"
   ]
  },
  {
   "cell_type": "markdown",
   "metadata": {},
   "source": [
    "For columns like \"Q11 Q14 Q15 Q19 Q22 Q23\", they are categorical data with missing values less than 20%. That means that it's reasonable enough to use mode to fill missing data. These questions only have a limited amount of missing date probably because surveyor did not want to answer those questions for privacy reason or simply because they forgot or missed those questions.  "
   ]
  },
  {
   "cell_type": "code",
   "execution_count": 390,
   "metadata": {
    "ExecuteTime": {
     "end_time": "2020-02-29T03:43:00.609946Z",
     "start_time": "2020-02-29T03:43:00.559946Z"
    }
   },
   "outputs": [],
   "source": [
    "cols=df.loc[:,df.isna().mean()!=0].columns\n",
    "for col in cols:\n",
    "    df[col].fillna(df[col].mode()[0],inplace=True)\n",
    "    #print('After filling NaN value, the NaN value rows in {} column is'.format(col),df[df[col].isnull()])"
   ]
  },
  {
   "cell_type": "code",
   "execution_count": 391,
   "metadata": {
    "ExecuteTime": {
     "end_time": "2020-02-29T03:43:00.640950Z",
     "start_time": "2020-02-29T03:43:00.612946Z"
    }
   },
   "outputs": [
    {
     "data": {
      "text/plain": [
       "0"
      ]
     },
     "execution_count": 391,
     "metadata": {},
     "output_type": "execute_result"
    }
   ],
   "source": [
    "df.isna().sum().sum()"
   ]
  },
  {
   "cell_type": "markdown",
   "metadata": {},
   "source": [
    "There is no missing values at this point! Categorical data will be converted into numerical after EDA. "
   ]
  },
  {
   "cell_type": "code",
   "execution_count": 392,
   "metadata": {
    "ExecuteTime": {
     "end_time": "2020-02-29T03:43:00.647952Z",
     "start_time": "2020-02-29T03:43:00.643953Z"
    }
   },
   "outputs": [],
   "source": [
    "#Look at the number of missing data using a heatmap\n",
    "#fig, ax = plt.subplots(figsize=(12,8))\n",
    "#sns.heatmap(df_c, cmap='coolwarm', yticklabels=False, cbar=False, ax=ax)"
   ]
  },
  {
   "cell_type": "markdown",
   "metadata": {},
   "source": [
    "## Exploratory data analysis"
   ]
  },
  {
   "cell_type": "markdown",
   "metadata": {},
   "source": [
    "a. Present 3 graphical figures that represent trends in the data. How could these trends be used to help with the task of predicting yearly compensation or understanding the data? All graphs should be readable and presented in the notebook. All axes must be appropriately labeled.\n",
    "\n",
    "b. Visualize the order of feature importance. Some possible methods include correlation plot, or a similar method. Given the data, which of the original attributes in the data are most related to a survey respondent's yearly compensation?"
   ]
  },
  {
   "cell_type": "markdown",
   "metadata": {},
   "source": [
    "### Look for trends with the relation between different features and compensation by showing several graphs below. "
   ]
  },
  {
   "cell_type": "code",
   "execution_count": 393,
   "metadata": {
    "ExecuteTime": {
     "end_time": "2020-02-29T03:43:01.345002Z",
     "start_time": "2020-02-29T03:43:00.650950Z"
    },
    "scrolled": false
   },
   "outputs": [
    {
     "data": {
      "text/plain": [
       "Text(0, 0.5, 'Frequency')"
      ]
     },
     "execution_count": 393,
     "metadata": {},
     "output_type": "execute_result"
    },
    {
     "data": {
      "image/png": "[encoded data removed]",
      "text/plain": [
       "<Figure size 864x576 with 1 Axes>"
      ]
     },
     "metadata": {
      "needs_background": "light"
     },
     "output_type": "display_data"
    }
   ],
   "source": [
    "plt.figure(figsize=(12,8))\n",
    "#sns.distplot(df['Q10_buckets'], hist = False, kde = True, label='Americas')\n",
    "sns.barplot(df['Q10_buckets'].value_counts().index,df['Q10_buckets'].value_counts())\n",
    "# Plot formatting\n",
    "#plt.legend(prop={'size': 12})\n",
    "plt.title('Compensation frequncy',fontsize=14)\n",
    "plt.xlabel('Compensation range',fontsize=14)\n",
    "plt.xticks(rotation=45)\n",
    "plt.ylabel('Frequency',fontsize=14)  "
   ]
  },
  {
   "cell_type": "markdown",
   "metadata": {},
   "source": [
    "As shown clearly from the figure above, the most frequent compensation range is below $1000. Whereas high compensation is relatively rare in reality. "
   ]
  },
  {
   "cell_type": "markdown",
   "metadata": {},
   "source": [
    "In order to further explore data with better visualization, 'Q10_buckets' will be replaced with the mean value of the range interval."
   ]
  },
  {
   "cell_type": "code",
   "execution_count": 394,
   "metadata": {
    "ExecuteTime": {
     "end_time": "2020-02-29T03:43:01.357002Z",
     "start_time": "2020-02-29T03:43:01.349002Z"
    },
    "code_folding": [
     0
    ]
   },
   "outputs": [],
   "source": [
    "sal_range={'0-9,999':5000,\n",
    "           '10,000-19,999':15000,\n",
    "           '20,000-29,999':25000,\n",
    "           '100,000-124,999':125000,\n",
    "           '30,000-39,999':35000,\n",
    "           '40,000-49,999':45000,\n",
    "           '50,000-59,999':55000,\n",
    "           '60,000-69,999':65000,\n",
    "           '70,000-79,999':75000,\n",
    "           '125,000-149,9991':137500,\n",
    "           '150,000-199,999':175000,\n",
    "           '80,000-89,999':85000,\n",
    "           '90,000-99,999':95000,\n",
    "           '200,000-249,999':225000,\n",
    "           '>250,000':275000\n",
    "}"
   ]
  },
  {
   "cell_type": "code",
   "execution_count": 395,
   "metadata": {
    "ExecuteTime": {
     "end_time": "2020-02-29T03:43:01.398005Z",
     "start_time": "2020-02-29T03:43:01.361003Z"
    }
   },
   "outputs": [],
   "source": [
    "df['Q10_buckets'].replace(sal_range,inplace=True)"
   ]
  },
  {
   "cell_type": "markdown",
   "metadata": {},
   "source": [
    "From the figure below, obviously, there are certain number of countries enjoying high compensation than the rest. "
   ]
  },
  {
   "cell_type": "code",
   "execution_count": 396,
   "metadata": {
    "ExecuteTime": {
     "end_time": "2020-02-29T03:43:08.058725Z",
     "start_time": "2020-02-29T03:43:01.403006Z"
    }
   },
   "outputs": [
    {
     "data": {
      "text/plain": [
       "Text(0, 0.5, 'Mean Compensation')"
      ]
     },
     "execution_count": 396,
     "metadata": {},
     "output_type": "execute_result"
    },
    {
     "data": {
      "image/png": "[encoded data removed]",
      "text/plain": [
       "<Figure size 864x576 with 1 Axes>"
      ]
     },
     "metadata": {
      "needs_background": "light"
     },
     "output_type": "display_data"
    }
   ],
   "source": [
    "plt.figure(figsize=(12,8))\n",
    "sns.barplot(x='Q3',y='Q10_buckets',data=df)\n",
    "# Plot formatting\n",
    "#plt.legend(prop={'size': 12})\n",
    "plt.title('Mean Compensation VS Country',fontsize=14)\n",
    "plt.xlabel('Country',fontsize=14)\n",
    "plt.xticks(rotation=90)\n",
    "plt.ylabel('Mean Compensation',fontsize=14)  "
   ]
  },
  {
   "cell_type": "code",
   "execution_count": 397,
   "metadata": {
    "ExecuteTime": {
     "end_time": "2020-02-29T03:43:08.121723Z",
     "start_time": "2020-02-29T03:43:08.080720Z"
    }
   },
   "outputs": [],
   "source": [
    "comp_age=df.groupby('Q1')['Q10_buckets'].mean()"
   ]
  },
  {
   "cell_type": "code",
   "execution_count": 398,
   "metadata": {
    "ExecuteTime": {
     "end_time": "2020-02-29T03:43:09.060798Z",
     "start_time": "2020-02-29T03:43:08.138723Z"
    },
    "scrolled": false
   },
   "outputs": [
    {
     "data": {
      "text/plain": [
       "Text(0, 0.5, 'Mean Compensation')"
      ]
     },
     "execution_count": 398,
     "metadata": {},
     "output_type": "execute_result"
    },
    {
     "data": {
      "image/png": "[encoded data removed]",
      "text/plain": [
       "<Figure size 864x576 with 1 Axes>"
      ]
     },
     "metadata": {
      "needs_background": "light"
     },
     "output_type": "display_data"
    }
   ],
   "source": [
    "plt.figure(figsize=(12,8))\n",
    "#sns.distplot(df['Q10_buckets'], hist = False, kde = True, label='Americas')\n",
    "sns.barplot(comp_age.index,comp_age)\n",
    "#sns.barplot(x='Q1',y='Q10_buckets',hue='Q2',data=df,dodge=False)\n",
    "# Plot formatting\n",
    "#plt.legend(prop={'size': 12})\n",
    "plt.title('Mean Compensation VS Age',fontsize=14)\n",
    "plt.xlabel('Age range',fontsize=14)\n",
    "plt.xticks(rotation=0)\n",
    "plt.ylabel('Mean Compensation',fontsize=14)  "
   ]
  },
  {
   "cell_type": "markdown",
   "metadata": {},
   "source": [
    "From the bar plot above, it shows clearly the evidence that the older people are, the more compensation they can earn. "
   ]
  },
  {
   "cell_type": "code",
   "execution_count": 399,
   "metadata": {
    "ExecuteTime": {
     "end_time": "2020-02-29T03:43:09.761850Z",
     "start_time": "2020-02-29T03:43:09.072801Z"
    }
   },
   "outputs": [
    {
     "data": {
      "text/plain": [
       "Text(0, 0.5, 'Compensation')"
      ]
     },
     "execution_count": 399,
     "metadata": {},
     "output_type": "execute_result"
    },
    {
     "data": {
      "image/png": "[encoded data removed]",
      "text/plain": [
       "<Figure size 720x504 with 1 Axes>"
      ]
     },
     "metadata": {
      "needs_background": "light"
     },
     "output_type": "display_data"
    }
   ],
   "source": [
    "plt.figure(figsize=(10,7))\n",
    "sns.boxplot(x=\"Q2\", y=\"Q10_buckets\", data=df)\n",
    "# Plot formatting\n",
    "#plt.legend(prop={'size': 12})\n",
    "plt.title('Compensation VS Gender',fontsize=14)\n",
    "plt.xlabel('Gender group',fontsize=14)\n",
    "plt.xticks(rotation=45,fontsize=12)\n",
    "plt.ylabel('Compensation',fontsize=14)  "
   ]
  },
  {
   "cell_type": "markdown",
   "metadata": {},
   "source": [
    "As for the graph above, the difference between male and female is not remarkably significant here, which means it would contribute only certain amount of effect to the prediction of compensation. As for the other two categories, they are way less in terms of the number of samples, which can be omitted especially the variances of these two groups are too high to be generalized. "
   ]
  },
  {
   "cell_type": "code",
   "execution_count": 400,
   "metadata": {
    "ExecuteTime": {
     "end_time": "2020-02-29T03:43:11.434318Z",
     "start_time": "2020-02-29T03:43:09.769850Z"
    },
    "scrolled": false
   },
   "outputs": [
    {
     "data": {
      "image/png": "[encoded data removed]",
      "text/plain": [
       "<Figure size 576x360 with 1 Axes>"
      ]
     },
     "metadata": {
      "needs_background": "light"
     },
     "output_type": "display_data"
    }
   ],
   "source": [
    "plt.figure(figsize=(8,5))\n",
    "#sns.stripplot(x=\"Q4\", y=\"Q10_buckets\", data=df, jitter=False)\n",
    "sns.barplot(x=\"Q4\", y=\"Q10_buckets\", data=df)\n",
    "# Plot formatting\n",
    "#plt.legend(prop={'size': 12})\n",
    "plt.title('Compensation VS Education level',fontsize=14)\n",
    "plt.xlabel('Education level',fontsize=14)\n",
    "plt.xticks(rotation=90,fontsize=12)\n",
    "plt.ylabel('Compensation',fontsize=14) \n",
    "plt.savefig('edu.png')"
   ]
  },
  {
   "cell_type": "markdown",
   "metadata": {
    "ExecuteTime": {
     "end_time": "2020-02-28T10:59:04.293645Z",
     "start_time": "2020-02-28T10:59:03.534780Z"
    }
   },
   "source": [
    "From the graph above, PHD has higher potential to earn more money. The other degrees don't show significant difference in this case. "
   ]
  },
  {
   "cell_type": "markdown",
   "metadata": {},
   "source": [
    "### Visualize the order of feature importance"
   ]
  },
  {
   "cell_type": "markdown",
   "metadata": {},
   "source": [
    "In order to compute feature importance or correlation, all the categorical needs to be converted into numerical values as well. "
   ]
  },
  {
   "cell_type": "markdown",
   "metadata": {},
   "source": [
    "#### Convert categorical data"
   ]
  },
  {
   "cell_type": "code",
   "execution_count": 401,
   "metadata": {
    "ExecuteTime": {
     "end_time": "2020-02-29T03:43:11.527325Z",
     "start_time": "2020-02-29T03:43:11.439319Z"
    }
   },
   "outputs": [],
   "source": [
    "df_c=df.select_dtypes(exclude=['number'])\n",
    "df_c;"
   ]
  },
  {
   "cell_type": "markdown",
   "metadata": {},
   "source": [
    "For columns like 'Q2','Q5','Q8','Q14','Q19', they are nominal category columns without ordering. As a result, they will be transformed through one hot encoding with pandas and concatenate with original dataframe. "
   ]
  },
  {
   "cell_type": "code",
   "execution_count": 402,
   "metadata": {
    "ExecuteTime": {
     "end_time": "2020-02-29T03:43:11.544327Z",
     "start_time": "2020-02-29T03:43:11.536326Z"
    }
   },
   "outputs": [],
   "source": [
    "dm_col=['Q2','Q5','Q8','Q14','Q19']"
   ]
  },
  {
   "cell_type": "code",
   "execution_count": 403,
   "metadata": {
    "ExecuteTime": {
     "end_time": "2020-02-29T03:43:12.397415Z",
     "start_time": "2020-02-29T03:43:11.551327Z"
    }
   },
   "outputs": [],
   "source": [
    "for col in dm_col:\n",
    "    Q_d=pd.get_dummies(df[col],prefix=col,drop_first=True)\n",
    "    df=pd.concat([df,Q_d],axis=1)\n",
    "    df.drop(columns=[col],axis=1,inplace=True)"
   ]
  },
  {
   "cell_type": "code",
   "execution_count": 404,
   "metadata": {
    "ExecuteTime": {
     "end_time": "2020-02-29T03:43:12.412419Z",
     "start_time": "2020-02-29T03:43:12.402416Z"
    },
    "code_folding": [
     0
    ]
   },
   "outputs": [],
   "source": [
    "age={'25-29':27,\n",
    "     '30-34':32,\n",
    "     '35-39':37,\n",
    "     '22-24':23,\n",
    "     '40-44':42,\n",
    "     '45-49':47,\n",
    "     '50-54':52,\n",
    "     '18-21':20,\n",
    "     '55-59':57,\n",
    "     '60-69':65,\n",
    "     '70+':80\n",
    "}"
   ]
  },
  {
   "cell_type": "code",
   "execution_count": 405,
   "metadata": {
    "ExecuteTime": {
     "end_time": "2020-02-29T03:43:12.428421Z",
     "start_time": "2020-02-29T03:43:12.419418Z"
    },
    "code_folding": [
     0
    ]
   },
   "outputs": [],
   "source": [
    "degree={\n",
    "    'I prefer not to answer':0,\n",
    "    'No formal education past high school':1,\n",
    "    'Some college/university study without earning a bachelor’s degree':2,\n",
    "    'Professional degree':3,\n",
    "    'Bachelor’s degree':4,\n",
    "    'Master’s degree':5,\n",
    "    'Doctoral degree':6\n",
    "}"
   ]
  },
  {
   "cell_type": "code",
   "execution_count": 406,
   "metadata": {
    "ExecuteTime": {
     "end_time": "2020-02-29T03:43:12.446421Z",
     "start_time": "2020-02-29T03:43:12.438426Z"
    },
    "code_folding": [
     0
    ]
   },
   "outputs": [],
   "source": [
    "employee={\n",
    "    '0-49 employees':25,\n",
    "    '> 10,000 employees':15000,\n",
    "    '1000-9,999 employees':5500,\n",
    "    '50-249 employees':150,\n",
    "    '250-999 employees':625\n",
    "}"
   ]
  },
  {
   "cell_type": "code",
   "execution_count": 407,
   "metadata": {
    "ExecuteTime": {
     "end_time": "2020-02-29T03:43:12.465420Z",
     "start_time": "2020-02-29T03:43:12.453421Z"
    },
    "code_folding": [
     0
    ]
   },
   "outputs": [],
   "source": [
    "ind={\n",
    "    '20+':25,\n",
    "    '1-2':2,\n",
    "    '3-4':4,\n",
    "    '0':0,\n",
    "    '5-9':7,\n",
    "    '10-14':12,\n",
    "    '15-19':17\n",
    "}"
   ]
  },
  {
   "cell_type": "code",
   "execution_count": 408,
   "metadata": {
    "ExecuteTime": {
     "end_time": "2020-02-29T03:43:12.487422Z",
     "start_time": "2020-02-29T03:43:12.472424Z"
    },
    "code_folding": [
     0
    ]
   },
   "outputs": [],
   "source": [
    "compensatin={\n",
    "    '$0-999':500,\n",
    "    '10,000-14,999':12500,\n",
    "    '100,000-124,999':112500,\n",
    "    '30,000-39,999':35000,\n",
    "    '40,000-49,999':45000,\n",
    "    '50,000-59,999':55000,\n",
    "    '1,000-1,999':1500,\n",
    "    '60,000-69,999':65000,           \n",
    "    '5,000-7,499':6250,              \n",
    "    '15,000-19,999':17500,        \n",
    "    '20,000-24,999':22500,                 \n",
    "    '70,000-79,999':75000,       \n",
    "    '125,000-149,999':137500,             \n",
    "    '25,000-29,999':27500,               \n",
    "    '150,000-199,999':175000,             \n",
    "    '7,500-9,999':8750,              \n",
    "    '80,000-89,999':85000,             \n",
    "    '2,000-2,999':2500,                \n",
    "    '90,000-99,999':95000,              \n",
    "    '3,000-3,999':3500,                \n",
    "    '4,000-4,999':4500,    \n",
    "    '200,000-249,999':225000,   \n",
    "    '> $500,000': 600000,     \n",
    "    '300,000-500,000':400000,    \n",
    "    '250,000-299,999':275000    \n",
    "}"
   ]
  },
  {
   "cell_type": "code",
   "execution_count": 409,
   "metadata": {
    "ExecuteTime": {
     "end_time": "2020-02-29T03:43:12.502425Z",
     "start_time": "2020-02-29T03:43:12.492422Z"
    },
    "code_folding": [
     0
    ]
   },
   "outputs": [],
   "source": [
    "spend={\n",
    "    '$0 (USD)':0,  \n",
    "    '$100-$999': 550,         \n",
    "    '$1000-$9,999':5500,        \n",
    "    '$1-$99':50,               \n",
    "    '$10,000-$99,999':55000,      \n",
    "    '> $100,000 ($USD)':150000    \n",
    "}"
   ]
  },
  {
   "cell_type": "code",
   "execution_count": 410,
   "metadata": {
    "ExecuteTime": {
     "end_time": "2020-02-29T03:43:12.519402Z",
     "start_time": "2020-02-29T03:43:12.509423Z"
    },
    "code_folding": [
     0
    ]
   },
   "outputs": [],
   "source": [
    "time={\n",
    "    '3-5 years':4,\n",
    "    '1-2 years':2,\n",
    "    '< 1 years':0.5,\n",
    "    '5-10 years':8,\n",
    "    '10-20 years':15,\n",
    "    'I have never written code':0,\n",
    "    '20+ years':25\n",
    "}"
   ]
  },
  {
   "cell_type": "code",
   "execution_count": 411,
   "metadata": {
    "ExecuteTime": {
     "end_time": "2020-02-29T03:43:12.533405Z",
     "start_time": "2020-02-29T03:43:12.525401Z"
    },
    "code_folding": [
     0
    ]
   },
   "outputs": [],
   "source": [
    "TPU={\n",
    "    'Never':0,\n",
    "    'Once':1,\n",
    "    '2-5 times':4,\n",
    "    '6-24 times':15,\n",
    "    '> 25 times':30\n",
    "}"
   ]
  },
  {
   "cell_type": "code",
   "execution_count": 412,
   "metadata": {
    "ExecuteTime": {
     "end_time": "2020-02-29T03:43:12.547404Z",
     "start_time": "2020-02-29T03:43:12.540403Z"
    },
    "code_folding": [
     0
    ]
   },
   "outputs": [],
   "source": [
    "year={\n",
    "    '< 1 years':1,\n",
    "    '1-2 years':2,\n",
    "    '2-3 years':3,\n",
    "    '3-4 years':4,      \n",
    "    '4-5 years':5,       \n",
    "    '5-10 years':8,      \n",
    "    '10-15 years':13,     \n",
    "    '20+ years':25       \n",
    "}"
   ]
  },
  {
   "cell_type": "code",
   "execution_count": 413,
   "metadata": {
    "ExecuteTime": {
     "end_time": "2020-02-29T03:43:12.581410Z",
     "start_time": "2020-02-29T03:43:12.553402Z"
    }
   },
   "outputs": [],
   "source": [
    "df['Q1'].replace(age,inplace=True)"
   ]
  },
  {
   "cell_type": "markdown",
   "metadata": {},
   "source": [
    "Using frequency to encode countries has the advantage of capturing most individual country identity. But may lose some information if some countries happen to have the same frequency. In this case, duplicated frequencies are not many. Therefore, it is fair enough to encode with frequency. "
   ]
  },
  {
   "cell_type": "code",
   "execution_count": 414,
   "metadata": {
    "ExecuteTime": {
     "end_time": "2020-02-29T03:43:12.598409Z",
     "start_time": "2020-02-29T03:43:12.586407Z"
    }
   },
   "outputs": [],
   "source": [
    "country=df['Q3'].value_counts().to_dict()"
   ]
  },
  {
   "cell_type": "code",
   "execution_count": 415,
   "metadata": {
    "ExecuteTime": {
     "end_time": "2020-02-29T03:43:12.667412Z",
     "start_time": "2020-02-29T03:43:12.602407Z"
    }
   },
   "outputs": [],
   "source": [
    "df['Q3'].replace(country,inplace=True)"
   ]
  },
  {
   "cell_type": "code",
   "execution_count": 416,
   "metadata": {
    "ExecuteTime": {
     "end_time": "2020-02-29T03:43:12.695414Z",
     "start_time": "2020-02-29T03:43:12.672414Z"
    }
   },
   "outputs": [],
   "source": [
    "df['Q4'].replace(degree,inplace=True)"
   ]
  },
  {
   "cell_type": "code",
   "execution_count": 417,
   "metadata": {
    "ExecuteTime": {
     "end_time": "2020-02-29T03:43:12.723419Z",
     "start_time": "2020-02-29T03:43:12.701418Z"
    }
   },
   "outputs": [],
   "source": [
    "df['Q6'].replace(employee,inplace=True)"
   ]
  },
  {
   "cell_type": "code",
   "execution_count": 418,
   "metadata": {
    "ExecuteTime": {
     "end_time": "2020-02-29T03:43:12.741419Z",
     "start_time": "2020-02-29T03:43:12.728416Z"
    }
   },
   "outputs": [],
   "source": [
    "df['Q7'].value_counts();"
   ]
  },
  {
   "cell_type": "code",
   "execution_count": 419,
   "metadata": {
    "ExecuteTime": {
     "end_time": "2020-02-29T03:43:12.771420Z",
     "start_time": "2020-02-29T03:43:12.748421Z"
    }
   },
   "outputs": [],
   "source": [
    "df['Q7'].replace(ind,inplace=True)"
   ]
  },
  {
   "cell_type": "code",
   "execution_count": 420,
   "metadata": {
    "ExecuteTime": {
     "end_time": "2020-02-29T03:43:12.790423Z",
     "start_time": "2020-02-29T03:43:12.777420Z"
    }
   },
   "outputs": [],
   "source": [
    "df['Q10'].value_counts();"
   ]
  },
  {
   "cell_type": "code",
   "execution_count": 421,
   "metadata": {
    "ExecuteTime": {
     "end_time": "2020-02-29T03:43:12.834424Z",
     "start_time": "2020-02-29T03:43:12.796421Z"
    }
   },
   "outputs": [],
   "source": [
    "df['Q10'].replace(compensatin,inplace=True)"
   ]
  },
  {
   "cell_type": "code",
   "execution_count": 422,
   "metadata": {
    "ExecuteTime": {
     "end_time": "2020-02-29T03:43:12.859432Z",
     "start_time": "2020-02-29T03:43:12.839425Z"
    }
   },
   "outputs": [],
   "source": [
    "df['Q11'].replace(spend,inplace=True)"
   ]
  },
  {
   "cell_type": "code",
   "execution_count": 423,
   "metadata": {
    "ExecuteTime": {
     "end_time": "2020-02-29T03:43:12.888428Z",
     "start_time": "2020-02-29T03:43:12.864431Z"
    }
   },
   "outputs": [],
   "source": [
    "df['Q15'].replace(time,inplace=True)"
   ]
  },
  {
   "cell_type": "code",
   "execution_count": 424,
   "metadata": {
    "ExecuteTime": {
     "end_time": "2020-02-29T03:43:12.913435Z",
     "start_time": "2020-02-29T03:43:12.893431Z"
    }
   },
   "outputs": [],
   "source": [
    "df['Q22'].replace(TPU,inplace=True)"
   ]
  },
  {
   "cell_type": "code",
   "execution_count": 425,
   "metadata": {
    "ExecuteTime": {
     "end_time": "2020-02-29T03:43:12.941433Z",
     "start_time": "2020-02-29T03:43:12.918432Z"
    }
   },
   "outputs": [],
   "source": [
    "df['Q23'].replace(year,inplace=True)"
   ]
  },
  {
   "cell_type": "code",
   "execution_count": 426,
   "metadata": {
    "ExecuteTime": {
     "end_time": "2020-02-29T03:43:12.951434Z",
     "start_time": "2020-02-29T03:43:12.946435Z"
    }
   },
   "outputs": [],
   "source": [
    "#df.drop(['Q10','Q10_buckets'],axis=1,inplace=True)"
   ]
  },
  {
   "cell_type": "code",
   "execution_count": 427,
   "metadata": {
    "ExecuteTime": {
     "end_time": "2020-02-29T03:43:13.100444Z",
     "start_time": "2020-02-29T03:43:12.956434Z"
    }
   },
   "outputs": [
    {
     "name": "stdout",
     "output_type": "stream",
     "text": [
      "Non-numerical columns left are Index([], dtype='object')\n"
     ]
    }
   ],
   "source": [
    "df_c=df.select_dtypes(exclude=['number'])\n",
    "print('Non-numerical columns left are',df_c.columns)"
   ]
  },
  {
   "cell_type": "markdown",
   "metadata": {},
   "source": [
    "At this point, all the categorical data have been transformed to numerical data. "
   ]
  },
  {
   "cell_type": "code",
   "execution_count": 428,
   "metadata": {
    "ExecuteTime": {
     "end_time": "2020-02-29T03:43:13.143444Z",
     "start_time": "2020-02-29T03:43:13.106443Z"
    }
   },
   "outputs": [],
   "source": [
    "X=df.drop(['Q10','Q10_buckets','Q10_Encoded'],axis=1)\n",
    "y=df['Q10_Encoded']"
   ]
  },
  {
   "cell_type": "markdown",
   "metadata": {},
   "source": [
    "#### Results of feature importance with tree model"
   ]
  },
  {
   "cell_type": "code",
   "execution_count": 429,
   "metadata": {
    "ExecuteTime": {
     "end_time": "2020-02-29T03:43:14.936599Z",
     "start_time": "2020-02-29T03:43:13.149448Z"
    }
   },
   "outputs": [
    {
     "data": {
      "text/plain": [
       "ExtraTreesClassifier(bootstrap=False, class_weight=None, criterion='gini',\n",
       "                     max_depth=None, max_features='auto', max_leaf_nodes=None,\n",
       "                     min_impurity_decrease=0.0, min_impurity_split=None,\n",
       "                     min_samples_leaf=1, min_samples_split=2,\n",
       "                     min_weight_fraction_leaf=0.0, n_estimators=10, n_jobs=None,\n",
       "                     oob_score=False, random_state=None, verbose=0,\n",
       "                     warm_start=False)"
      ]
     },
     "execution_count": 429,
     "metadata": {},
     "output_type": "execute_result"
    }
   ],
   "source": [
    "tree_sel = ExtraTreesClassifier()\n",
    "tree_sel.fit(X,y)"
   ]
  },
  {
   "cell_type": "markdown",
   "metadata": {},
   "source": [
    "The top 20 features will be selected for later analysis based on feature importance computed. "
   ]
  },
  {
   "cell_type": "code",
   "execution_count": 430,
   "metadata": {
    "ExecuteTime": {
     "end_time": "2020-02-29T03:43:15.625656Z",
     "start_time": "2020-02-29T03:43:14.939600Z"
    },
    "scrolled": true
   },
   "outputs": [
    {
     "data": {
      "image/png": "[encoded data removed]",
      "text/plain": [
       "<Figure size 432x288 with 1 Axes>"
      ]
     },
     "metadata": {
      "needs_background": "light"
     },
     "output_type": "display_data"
    }
   ],
   "source": [
    "top=20\n",
    "feat_importances = pd.Series(tree_sel.feature_importances_, index=X.columns)\n",
    "feat_importances.nlargest(top).plot(kind='barh')\n",
    "plt.xlabel('Importance')\n",
    "plt.show()"
   ]
  },
  {
   "cell_type": "code",
   "execution_count": 431,
   "metadata": {
    "ExecuteTime": {
     "end_time": "2020-02-29T03:43:15.644827Z",
     "start_time": "2020-02-29T03:43:15.632657Z"
    }
   },
   "outputs": [],
   "source": [
    "top_cols=feat_importances.nlargest(top).index.values"
   ]
  },
  {
   "cell_type": "code",
   "execution_count": 432,
   "metadata": {
    "ExecuteTime": {
     "end_time": "2020-02-29T03:43:15.669659Z",
     "start_time": "2020-02-29T03:43:15.651658Z"
    }
   },
   "outputs": [
    {
     "name": "stdout",
     "output_type": "stream",
     "text": [
      "Then the features that are most related to a survey respondent's yearly compensation are ['Q1' 'Q3' 'Q15' 'Q11' 'Q6' 'Time from Start to Finish (seconds)' 'Q7'\n",
      " 'Q4' 'Q23' 'Q12_Part_6' 'Q9_Part_3' 'Q14_Part_4_TEXT' 'Q12_Part_4'\n",
      " 'Q14_Local development environments (RStudio, JupyterLab, etc.)'\n",
      " 'Q12_Part_8' 'Q13_Part_8' 'Q9_Part_1' 'Q12_Part_9' 'Q13_Part_2'\n",
      " 'Q13_Part_6']\n"
     ]
    }
   ],
   "source": [
    "print(\"Then the features that are most related to a survey respondent's yearly compensation are %s\" % top_cols)"
   ]
  },
  {
   "cell_type": "markdown",
   "metadata": {},
   "source": [
    "## Feature selection"
   ]
  },
  {
   "cell_type": "markdown",
   "metadata": {},
   "source": [
    "Explain how feature engineering is a useful tool in machine learning. Then select the features to be used for analysis either manually or through some feature selection algorithm (e.g. regularized regression).\n",
    "\n",
    "Not all features need to be used; features can be removed or added as desired. If the resulting number of features is very high, dimensionality reduction can also be used (e.g. PCA). Use at least one feature selection technique – describe the technique and provide justification on why you selected that set of features."
   ]
  },
  {
   "cell_type": "markdown",
   "metadata": {},
   "source": [
    "### Importance of feature engineering and justification of technique used"
   ]
  },
  {
   "cell_type": "markdown",
   "metadata": {},
   "source": [
    "Feature engineering is a process of extracting information from raw data to construct explanatory variables in order to train models based on the domain knowledge. With the tool of feature engineering, it is easier to extract the underly meanings of the data and reduce the effect of overfitting and help to simplify the model, which in turn saving cost and time. \n",
    "\n",
    "The technique used in the last section computing feature importance for feature selection is embedded method with ExtraTreesClassifier. By applying this model, it generated feature importance while fitting the classifier model. Here, ExtraTreesClassifier is selected not only because it provides more accurate and takes considerations of feature interaction, but also because several trees will be averaged in the algorithm resulting less prone to overfitting with less cost. "
   ]
  },
  {
   "cell_type": "markdown",
   "metadata": {},
   "source": [
    "### Visualization of correlation for top columns selected"
   ]
  },
  {
   "cell_type": "code",
   "execution_count": 433,
   "metadata": {
    "ExecuteTime": {
     "end_time": "2020-02-29T03:43:15.805670Z",
     "start_time": "2020-02-29T03:43:15.677660Z"
    }
   },
   "outputs": [
    {
     "data": {
      "text/html": [
       "<div>\n",
       "<style scoped>\n",
       "    .dataframe tbody tr th:only-of-type {\n",
       "        vertical-align: middle;\n",
       "    }\n",
       "\n",
       "    .dataframe tbody tr th {\n",
       "        vertical-align: top;\n",
       "    }\n",
       "\n",
       "    .dataframe thead th {\n",
       "        text-align: right;\n",
       "    }\n",
       "</style>\n",
       "<table border=\"1\" class=\"dataframe\">\n",
       "  <thead>\n",
       "    <tr style=\"text-align: right;\">\n",
       "      <th></th>\n",
       "      <th>Q1</th>\n",
       "      <th>Q3</th>\n",
       "      <th>Q15</th>\n",
       "      <th>Q11</th>\n",
       "      <th>Q6</th>\n",
       "      <th>Time from Start to Finish (seconds)</th>\n",
       "      <th>Q7</th>\n",
       "      <th>Q4</th>\n",
       "      <th>Q23</th>\n",
       "      <th>Q12_Part_6</th>\n",
       "      <th>...</th>\n",
       "      <th>Q14_Part_4_TEXT</th>\n",
       "      <th>Q12_Part_4</th>\n",
       "      <th>Q14_Local development environments (RStudio, JupyterLab, etc.)</th>\n",
       "      <th>Q12_Part_8</th>\n",
       "      <th>Q13_Part_8</th>\n",
       "      <th>Q9_Part_1</th>\n",
       "      <th>Q12_Part_9</th>\n",
       "      <th>Q13_Part_2</th>\n",
       "      <th>Q13_Part_6</th>\n",
       "      <th>Q10_Encoded</th>\n",
       "    </tr>\n",
       "  </thead>\n",
       "  <tbody>\n",
       "    <tr>\n",
       "      <th>Q1</th>\n",
       "      <td>1.000000</td>\n",
       "      <td>-0.073423</td>\n",
       "      <td>0.427918</td>\n",
       "      <td>0.139168</td>\n",
       "      <td>0.019146</td>\n",
       "      <td>0.016775</td>\n",
       "      <td>0.006588</td>\n",
       "      <td>0.085271</td>\n",
       "      <td>0.283256</td>\n",
       "      <td>-0.079695</td>\n",
       "      <td>...</td>\n",
       "      <td>-0.011275</td>\n",
       "      <td>-0.052206</td>\n",
       "      <td>-0.065224</td>\n",
       "      <td>-0.048053</td>\n",
       "      <td>-0.042540</td>\n",
       "      <td>-0.012371</td>\n",
       "      <td>0.105202</td>\n",
       "      <td>-0.011240</td>\n",
       "      <td>-0.044058</td>\n",
       "      <td>0.358614</td>\n",
       "    </tr>\n",
       "    <tr>\n",
       "      <th>Q3</th>\n",
       "      <td>-0.073423</td>\n",
       "      <td>1.000000</td>\n",
       "      <td>0.005364</td>\n",
       "      <td>0.083090</td>\n",
       "      <td>0.183507</td>\n",
       "      <td>-0.033846</td>\n",
       "      <td>0.151303</td>\n",
       "      <td>-0.030937</td>\n",
       "      <td>-0.014485</td>\n",
       "      <td>0.038903</td>\n",
       "      <td>...</td>\n",
       "      <td>-0.020117</td>\n",
       "      <td>0.035873</td>\n",
       "      <td>-0.043512</td>\n",
       "      <td>0.060586</td>\n",
       "      <td>0.057191</td>\n",
       "      <td>0.045629</td>\n",
       "      <td>-0.037987</td>\n",
       "      <td>0.001726</td>\n",
       "      <td>0.000449</td>\n",
       "      <td>0.117753</td>\n",
       "    </tr>\n",
       "    <tr>\n",
       "      <th>Q15</th>\n",
       "      <td>0.427918</td>\n",
       "      <td>0.005364</td>\n",
       "      <td>1.000000</td>\n",
       "      <td>0.237159</td>\n",
       "      <td>0.058536</td>\n",
       "      <td>-0.010836</td>\n",
       "      <td>0.130518</td>\n",
       "      <td>0.171964</td>\n",
       "      <td>0.597231</td>\n",
       "      <td>-0.094018</td>\n",
       "      <td>...</td>\n",
       "      <td>0.041628</td>\n",
       "      <td>-0.066025</td>\n",
       "      <td>0.021533</td>\n",
       "      <td>0.069407</td>\n",
       "      <td>-0.060214</td>\n",
       "      <td>0.155930</td>\n",
       "      <td>0.201681</td>\n",
       "      <td>0.065451</td>\n",
       "      <td>-0.074180</td>\n",
       "      <td>0.409013</td>\n",
       "    </tr>\n",
       "    <tr>\n",
       "      <th>Q11</th>\n",
       "      <td>0.139168</td>\n",
       "      <td>0.083090</td>\n",
       "      <td>0.237159</td>\n",
       "      <td>1.000000</td>\n",
       "      <td>0.181415</td>\n",
       "      <td>-0.000896</td>\n",
       "      <td>0.250674</td>\n",
       "      <td>0.052797</td>\n",
       "      <td>0.220715</td>\n",
       "      <td>-0.054564</td>\n",
       "      <td>...</td>\n",
       "      <td>0.013459</td>\n",
       "      <td>-0.038444</td>\n",
       "      <td>-0.031759</td>\n",
       "      <td>0.079090</td>\n",
       "      <td>0.002352</td>\n",
       "      <td>0.180840</td>\n",
       "      <td>0.082681</td>\n",
       "      <td>0.075274</td>\n",
       "      <td>-0.035135</td>\n",
       "      <td>0.363425</td>\n",
       "    </tr>\n",
       "    <tr>\n",
       "      <th>Q6</th>\n",
       "      <td>0.019146</td>\n",
       "      <td>0.183507</td>\n",
       "      <td>0.058536</td>\n",
       "      <td>0.181415</td>\n",
       "      <td>1.000000</td>\n",
       "      <td>-0.023935</td>\n",
       "      <td>0.506287</td>\n",
       "      <td>0.036927</td>\n",
       "      <td>0.046464</td>\n",
       "      <td>-0.002191</td>\n",
       "      <td>...</td>\n",
       "      <td>-0.013992</td>\n",
       "      <td>0.033138</td>\n",
       "      <td>-0.036074</td>\n",
       "      <td>0.046472</td>\n",
       "      <td>0.028804</td>\n",
       "      <td>0.080924</td>\n",
       "      <td>-0.028196</td>\n",
       "      <td>0.034018</td>\n",
       "      <td>-0.001889</td>\n",
       "      <td>0.171243</td>\n",
       "    </tr>\n",
       "  </tbody>\n",
       "</table>\n",
       "<p>5 rows × 21 columns</p>\n",
       "</div>"
      ],
      "text/plain": [
       "           Q1        Q3       Q15       Q11        Q6  \\\n",
       "Q1   1.000000 -0.073423  0.427918  0.139168  0.019146   \n",
       "Q3  -0.073423  1.000000  0.005364  0.083090  0.183507   \n",
       "Q15  0.427918  0.005364  1.000000  0.237159  0.058536   \n",
       "Q11  0.139168  0.083090  0.237159  1.000000  0.181415   \n",
       "Q6   0.019146  0.183507  0.058536  0.181415  1.000000   \n",
       "\n",
       "     Time from Start to Finish (seconds)        Q7        Q4       Q23  \\\n",
       "Q1                              0.016775  0.006588  0.085271  0.283256   \n",
       "Q3                             -0.033846  0.151303 -0.030937 -0.014485   \n",
       "Q15                            -0.010836  0.130518  0.171964  0.597231   \n",
       "Q11                            -0.000896  0.250674  0.052797  0.220715   \n",
       "Q6                             -0.023935  0.506287  0.036927  0.046464   \n",
       "\n",
       "     Q12_Part_6  ...  Q14_Part_4_TEXT  Q12_Part_4  \\\n",
       "Q1    -0.079695  ...        -0.011275   -0.052206   \n",
       "Q3     0.038903  ...        -0.020117    0.035873   \n",
       "Q15   -0.094018  ...         0.041628   -0.066025   \n",
       "Q11   -0.054564  ...         0.013459   -0.038444   \n",
       "Q6    -0.002191  ...        -0.013992    0.033138   \n",
       "\n",
       "     Q14_Local development environments (RStudio, JupyterLab, etc.)  \\\n",
       "Q1                                           -0.065224                \n",
       "Q3                                           -0.043512                \n",
       "Q15                                           0.021533                \n",
       "Q11                                          -0.031759                \n",
       "Q6                                           -0.036074                \n",
       "\n",
       "     Q12_Part_8  Q13_Part_8  Q9_Part_1  Q12_Part_9  Q13_Part_2  Q13_Part_6  \\\n",
       "Q1    -0.048053   -0.042540  -0.012371    0.105202   -0.011240   -0.044058   \n",
       "Q3     0.060586    0.057191   0.045629   -0.037987    0.001726    0.000449   \n",
       "Q15    0.069407   -0.060214   0.155930    0.201681    0.065451   -0.074180   \n",
       "Q11    0.079090    0.002352   0.180840    0.082681    0.075274   -0.035135   \n",
       "Q6     0.046472    0.028804   0.080924   -0.028196    0.034018   -0.001889   \n",
       "\n",
       "     Q10_Encoded  \n",
       "Q1      0.358614  \n",
       "Q3      0.117753  \n",
       "Q15     0.409013  \n",
       "Q11     0.363425  \n",
       "Q6      0.171243  \n",
       "\n",
       "[5 rows x 21 columns]"
      ]
     },
     "execution_count": 433,
     "metadata": {},
     "output_type": "execute_result"
    }
   ],
   "source": [
    "corr_table=pd.concat([df[top_cols],df['Q10_Encoded']],axis=1)\n",
    "corr=corr_table.corr()\n",
    "corr.head()"
   ]
  },
  {
   "cell_type": "code",
   "execution_count": 434,
   "metadata": {
    "ExecuteTime": {
     "end_time": "2020-02-29T03:43:21.023315Z",
     "start_time": "2020-02-29T03:43:15.810670Z"
    }
   },
   "outputs": [
    {
     "data": {
      "image/png": "[encoded data removed]",
      "text/plain": [
       "<Figure size 720x576 with 2 Axes>"
      ]
     },
     "metadata": {
      "needs_background": "light"
     },
     "output_type": "display_data"
    }
   ],
   "source": [
    "plt.figure(figsize=(10,8))\n",
    "sns.heatmap(corr, annot=True, cmap=plt.cm.Reds)\n",
    "plt.show()"
   ]
  },
  {
   "cell_type": "code",
   "execution_count": 435,
   "metadata": {
    "ExecuteTime": {
     "end_time": "2020-02-29T03:43:21.036331Z",
     "start_time": "2020-02-29T03:43:21.029332Z"
    }
   },
   "outputs": [],
   "source": [
    "#sns.pairplot(corr_table)"
   ]
  },
  {
   "cell_type": "markdown",
   "metadata": {},
   "source": [
    "Updated dataframe after feature selection:"
   ]
  },
  {
   "cell_type": "code",
   "execution_count": 436,
   "metadata": {
    "ExecuteTime": {
     "end_time": "2020-02-29T03:43:21.065334Z",
     "start_time": "2020-02-29T03:43:21.044336Z"
    }
   },
   "outputs": [],
   "source": [
    "X=X[top_cols]"
   ]
  },
  {
   "cell_type": "markdown",
   "metadata": {},
   "source": [
    "## Model implementation"
   ]
  },
  {
   "cell_type": "markdown",
   "metadata": {},
   "source": [
    "Implement logistic regression algorithm on the training data using 10-fold cross-validation. How does your model accuracy compare across the folds? What is average and variance of accuracy for folds? Treating each value of hyperparameter(s) as a new model, which model performed best? Give the reason based on bias-variance trade-off. An output of your algorithm should be a probability of belonging to each of the salary buckets. Apply scaling/normalization of features, if necessary."
   ]
  },
  {
   "cell_type": "markdown",
   "metadata": {},
   "source": [
    "### Spliting and Standarization of data"
   ]
  },
  {
   "cell_type": "code",
   "execution_count": 437,
   "metadata": {
    "ExecuteTime": {
     "end_time": "2020-02-29T03:43:21.098333Z",
     "start_time": "2020-02-29T03:43:21.073339Z"
    }
   },
   "outputs": [],
   "source": [
    "X_train, X_test, y_train, y_test = train_test_split(X, y, random_state=42, test_size=0.3)"
   ]
  },
  {
   "cell_type": "code",
   "execution_count": 438,
   "metadata": {
    "ExecuteTime": {
     "end_time": "2020-02-29T03:43:21.133338Z",
     "start_time": "2020-02-29T03:43:21.104337Z"
    }
   },
   "outputs": [],
   "source": [
    "scaler = StandardScaler()\n",
    "X_train= scaler.fit_transform(X_train)\n",
    "X_test = scaler.transform(X_test)"
   ]
  },
  {
   "cell_type": "markdown",
   "metadata": {},
   "source": [
    "### Create and fit a model"
   ]
  },
  {
   "cell_type": "markdown",
   "metadata": {},
   "source": [
    "Since the target variable is ordinal, the default logistic regression model is not capable of taking consideration of ordering in the target variable. Therefore, new model with the function of ordinal classification should be built. In order to do, consecutive binary classification will be constructed. For each iteration, the target variables will be divided into class 0 and class 1. The original class 0 will remain 0, and class 1 to 14 will be turned into 1. For the second iteration, the original class 0 and 1 will be grouped into 0 and the rest would be 1. The class 0 and 1 will be updated for each iteration. Thus, for each iteration, default logistic regression model could perform binary classification. Then the probability of sample belonging to each class can be computed. At last, the class with the highest probability will be selected as prediction result. The corresponding code of this model is as following. "
   ]
  },
  {
   "cell_type": "code",
   "execution_count": 439,
   "metadata": {
    "ExecuteTime": {
     "end_time": "2020-02-29T03:43:21.166343Z",
     "start_time": "2020-02-29T03:43:21.138339Z"
    }
   },
   "outputs": [],
   "source": [
    "def OrdinalLogistic(X_train,y_train,X_test,y_test,n_target=14,C=1,solver='lbfgs'):\n",
    "    class0=[0]\n",
    "    count=0    \n",
    "    prob=[] \n",
    "    for i in range(n_target):\n",
    "        y_train_c=[]\n",
    "        #prob=list(range(n_target))\n",
    "        for ix,target in enumerate(y_train):\n",
    "            if target in class0:  \n",
    "                y_train_c.append(0)\n",
    "            else: \n",
    "                y_train_c.append(1)\n",
    "        #print('For the {} iteration, class 0 contains {}'.format(count+1,class0))\n",
    "        #print('The first 15 values of updated y_train is',y_train_c[:15])\n",
    "        model = LogisticRegression(C=C,solver=solver)    \n",
    "        model.fit(X_train, y_train_c)\n",
    "        y_pred = model.predict(X_test)\n",
    "        y_pred_prob=model.predict_proba(X_test)[:,0]\n",
    "        prob.append(y_pred_prob)\n",
    "\n",
    "        #print('Probability of class0 {} is {}{}'.format(class0,'\\n',y_pred_prob))\n",
    "        #print('The cumulative probibilty of is {}{}'.format('\\n',prob))\n",
    "        #print('Length---',len(prob))\n",
    "        ###print(\"Accuracy is\", accuracy_score(y_test, y_pred))\n",
    "        #print('*'*80)\n",
    "        count+=1\n",
    "        class0.append(count)\n",
    "    p_last=model.predict_proba(X_test)[:,1]\n",
    "    prob_each_class=[]\n",
    "    for i in range(n_target):\n",
    "        if len(prob_each_class)==0:\n",
    "            prob_each_class.append(prob[0])\n",
    "        else:\n",
    "            prob_each_class.append(prob[i]-prob[i-1])\n",
    "    prob_each_class.append(p_last)\n",
    "    prediction=np.argmax(prob_each_class,axis=0)\n",
    "    #print(prediction)\n",
    "    #print(\"Accuracy is\", accuracy_score(y_test, prediction))\n",
    "    return prediction"
   ]
  },
  {
   "cell_type": "markdown",
   "metadata": {},
   "source": [
    "### Evaluation: Cross validation"
   ]
  },
  {
   "cell_type": "code",
   "execution_count": 440,
   "metadata": {
    "ExecuteTime": {
     "end_time": "2020-02-29T03:43:30.678715Z",
     "start_time": "2020-02-29T03:43:21.173343Z"
    }
   },
   "outputs": [
    {
     "name": "stdout",
     "output_type": "stream",
     "text": [
      "Fold 1: Accuracy: 0.269%\n",
      "Fold 2: Accuracy: 0.324%\n",
      "Fold 3: Accuracy: 0.303%\n",
      "Fold 4: Accuracy: 0.316%\n",
      "Fold 5: Accuracy: 0.305%\n",
      "Fold 6: Accuracy: 0.347%\n",
      "Fold 7: Accuracy: 0.325%\n",
      "Fold 8: Accuracy: 0.376%\n",
      "Fold 9: Accuracy: 0.415%\n",
      "Fold 10: Accuracy: 0.408%\n",
      "Average Score: 33.874%(4.503%)\n"
     ]
    }
   ],
   "source": [
    "#model = OrdinalLogistic(X_train=X,y_train=y,X_test,n_target=14)\n",
    "scaler = StandardScaler()\n",
    "kfold = KFold(n_splits=10)\n",
    "kfold.get_n_splits(X)\n",
    "\n",
    "accuracy = np.zeros(10)\n",
    "np_idx = 0\n",
    "\n",
    "for train_idx, test_idx in kfold.split(X):\n",
    "    X_train, X_test = X.values[train_idx], X.values[test_idx]\n",
    "    y_train, y_test = y.values[train_idx], y.values[test_idx]\n",
    "    \n",
    "    X_train = scaler.fit_transform(X_train)\n",
    "    X_test = scaler.transform(X_test)\n",
    "    \n",
    "    #Use our own model instead default one.\n",
    "    #model.fit(X_train, y_train)\n",
    "    #predictions = model.predict(X_test)\n",
    "    predictions=OrdinalLogistic(X_train=X_train,y_train=y_train,X_test=X_test,y_test=y_test, n_target=14)\n",
    "\n",
    "# For non-binary classification problem, confusion matrix is not 2X2.   \n",
    "#     TN = confusion_matrix(y_test, predictions)[0][0]\n",
    "#     FP = confusion_matrix(y_test, predictions)[0][1]\n",
    "#     FN = confusion_matrix(y_test, predictions)[1][0]\n",
    "#     TP = confusion_matrix(y_test, predictions)[1][1]\n",
    "#     total = TN + FP + FN + TP\n",
    "#     ACC = (TP + TN) / float(total)\n",
    "\n",
    "    cm=confusion_matrix(y_test, predictions)\n",
    "    correct=np.diag(cm).sum()\n",
    "    ACC=correct/len(X_test)\n",
    "    \n",
    "    accuracy[np_idx] = ACC*100\n",
    "    np_idx += 1\n",
    "    \n",
    "    print (\"Fold {}: Accuracy: {}%\".format(np_idx, round(ACC,3)))   \n",
    "\n",
    "print (\"Average Score: {}%({}%)\".format(round(np.mean(accuracy),3),round(np.std(accuracy),3)))"
   ]
  },
  {
   "cell_type": "markdown",
   "metadata": {},
   "source": [
    "Clearly, the bias of this model is high whereas the variance is relatively high. "
   ]
  },
  {
   "cell_type": "markdown",
   "metadata": {},
   "source": [
    "## Model tuning"
   ]
  },
  {
   "cell_type": "markdown",
   "metadata": {},
   "source": [
    "Improve the performance of the models from the previous step with hyperparameter tuning and select a final optimal model using grid search based on a metric (or metrics) that you choose. Choosing an optimal model for a given task (comparing multiple classifiers on a specific domain) requires selecting performance measures, for example accuracy, precision, recall and/or F1-score to compare the model performance.\n",
    "There is no minimum model accuracy, as long as your methodology is reasonable and well explained."
   ]
  },
  {
   "cell_type": "markdown",
   "metadata": {},
   "source": [
    "### Hyperparameters tuning for Ordinal Logistic Regression Model constructed  "
   ]
  },
  {
   "cell_type": "markdown",
   "metadata": {},
   "source": [
    "Grid search has been used tuning both \"C\" and \"solver\" for binary logistic classifier in each loop. Inside of each loop, the corresponding logistic regression model can be tuned. Then the best-tunned logistic regression model will be used to predict binary class with probability output for that loop. "
   ]
  },
  {
   "cell_type": "code",
   "execution_count": 441,
   "metadata": {
    "ExecuteTime": {
     "end_time": "2020-02-29T03:43:30.700718Z",
     "start_time": "2020-02-29T03:43:30.685715Z"
    }
   },
   "outputs": [],
   "source": [
    "param_grid = { \n",
    "        \"C\": [0.001,0.01,0.05,0.1,0.5,1,5,10, 100],\n",
    "        \"solver\" : ['newton-cg','lbfgs','liblinear','sag']\n",
    "}"
   ]
  },
  {
   "cell_type": "code",
   "execution_count": 442,
   "metadata": {
    "ExecuteTime": {
     "end_time": "2020-02-29T03:43:30.744721Z",
     "start_time": "2020-02-29T03:43:30.708721Z"
    }
   },
   "outputs": [],
   "source": [
    "def OrdinalLogistic_tuning(X_train=X_train,y_train=y_train,X_test=X_test,y_test=y_test,n_target=14):\n",
    "    class0=[0]\n",
    "    count=0    \n",
    "    prob=[] \n",
    "    for i in range(n_target):\n",
    "        y_train_c=[]\n",
    "        #prob=list(range(n_target))\n",
    "        for ix,target in enumerate(y_train):\n",
    "            if target in class0:  \n",
    "                y_train_c.append(0)\n",
    "            else: \n",
    "                y_train_c.append(1)\n",
    "        #print('For the {} iteration, class 0 contains {}'.format(count+1,class0))\n",
    "        #print('The first 15 values of updated y_train is',y_train_c[:15])\n",
    "        model = LogisticRegression() \n",
    "        grid = GridSearchCV(model, param_grid, cv=10, return_train_score=False)\n",
    "        grid.fit(X_train, y_train_c)\n",
    "        #Use the best parameter to predict\n",
    "        #print(\"For the scenario {} :\".format(i+1))\n",
    "        #print(\"Best score is \",grid.best_score_)\n",
    "        #print(\"Best parameter is \",grid.best_params_)\n",
    "        #print('*'*80)\n",
    "        y_pred = grid.predict(X_test)\n",
    "        y_pred_prob=grid.predict_proba(X_test)[:,0]\n",
    "        prob.append(y_pred_prob)\n",
    "\n",
    "        #print('Probability of class0 {} is {}{}'.format(class0,'\\n',y_pred_prob))\n",
    "        #print('The cumulative probibilty of is {}{}'.format('\\n',prob))\n",
    "        #print('Length---',len(prob))\n",
    "        ###print(\"Accuracy is\", accuracy_score(y_test, y_pred))\n",
    "        #print('+'*80)\n",
    "        count+=1\n",
    "        class0.append(count)\n",
    "    p_last=grid.predict_proba(X_test)[:,1]\n",
    "    prob_each_class=[]\n",
    "    for i in range(n_target):\n",
    "        if len(prob_each_class)==0:\n",
    "            prob_each_class.append(prob[0])\n",
    "        else:\n",
    "            prob_each_class.append(prob[i]-prob[i-1])\n",
    "    prob_each_class.append(p_last)\n",
    "    prediction=np.argmax(prob_each_class,axis=0)\n",
    "    \n",
    "    cm=confusion_matrix(y_test, prediction)\n",
    "    correct=np.diag(cm).sum()\n",
    "    ACC=correct/cm.sum().sum()\n",
    "    \n",
    "    accuracy = ACC*100\n",
    "    print(\"Accuracy is {}%\".format(accuracy))\n",
    "    # print(\"Sklearn accuracy is\", accuracy_score(y_test, prediction))\n",
    "    return prediction"
   ]
  },
  {
   "cell_type": "code",
   "execution_count": null,
   "metadata": {
    "ExecuteTime": {
     "end_time": "2020-02-29T03:42:32.837152Z",
     "start_time": "2020-02-29T03:42:20.159Z"
    }
   },
   "outputs": [],
   "source": [
    "y_pred=OrdinalLogistic_tuning(X_train,y_train,X_test,n_target=14)"
   ]
  },
  {
   "cell_type": "markdown",
   "metadata": {},
   "source": [
    "After hyperparameter tuning, the accuracy of the model has increased to about 40%. "
   ]
  },
  {
   "cell_type": "markdown",
   "metadata": {},
   "source": [
    "### Comparison with other classification models "
   ]
  },
  {
   "cell_type": "markdown",
   "metadata": {},
   "source": [
    "Overall, the ordinal logistic regression model performs fairly good comparing other models. "
   ]
  },
  {
   "cell_type": "code",
   "execution_count": 448,
   "metadata": {
    "ExecuteTime": {
     "end_time": "2020-02-29T04:42:01.882820Z",
     "start_time": "2020-02-29T04:42:01.834807Z"
    }
   },
   "outputs": [],
   "source": [
    "# X_train, X_test, y_train, y_test = train_test_split(X.iloc[0:500,:], y.iloc[0:500], random_state=42, test_size=0.3)\n",
    "# scaler = StandardScaler()\n",
    "# X_train= scaler.fit_transform(X_train)\n",
    "# X_test = scaler.transform(X_test)"
   ]
  },
  {
   "cell_type": "markdown",
   "metadata": {},
   "source": [
    "#### Decision tree"
   ]
  },
  {
   "cell_type": "code",
   "execution_count": 192,
   "metadata": {
    "ExecuteTime": {
     "end_time": "2020-02-29T02:08:52.581018Z",
     "start_time": "2020-02-29T02:08:52.569017Z"
    }
   },
   "outputs": [],
   "source": [
    " def get_accuracy(y_test, y_pred):\n",
    "    cm=confusion_matrix(y_test, y_pred)\n",
    "    correct=np.diag(cm).sum()\n",
    "    ACC=correct/cm.sum().sum()\n",
    "    accuracy = ACC*100\n",
    "    return accuracy "
   ]
  },
  {
   "cell_type": "code",
   "execution_count": 193,
   "metadata": {
    "ExecuteTime": {
     "end_time": "2020-02-29T02:08:55.264214Z",
     "start_time": "2020-02-29T02:08:52.589016Z"
    }
   },
   "outputs": [
    {
     "name": "stdout",
     "output_type": "stream",
     "text": [
      "The average of 10-fold cross validation score of Decision Tree is:0.2413529340990149\n",
      "The standard deviation of Decision Tree is:0.00963379693612128\n"
     ]
    }
   ],
   "source": [
    "Dct=DecisionTreeClassifier()\n",
    "Dct_score=cross_val_score(Dct, X, y, cv=10)\n",
    "print('The average of 10-fold cross validation score of Decision Tree is:{}'.format(np.average(Dct_score)))\n",
    "print('The standard deviation of Decision Tree is:{}'.format(np.std(Dct_score)))"
   ]
  },
  {
   "cell_type": "code",
   "execution_count": 194,
   "metadata": {
    "ExecuteTime": {
     "end_time": "2020-02-29T02:09:18.791476Z",
     "start_time": "2020-02-29T02:08:55.271224Z"
    },
    "scrolled": false
   },
   "outputs": [
    {
     "name": "stdout",
     "output_type": "stream",
     "text": [
      "For Decision Tree model, best Parameters after tuning is {'max_depth': 5, 'max_features': None, 'min_samples_leaf': 100, 'min_samples_split': 2} with the prediction accuracy 34.586666666666666.\n"
     ]
    }
   ],
   "source": [
    "param_grid = [{ \n",
    "        \"max_depth\" : [5,10, 20, 30,50],\n",
    "        \"max_features\"  : [\"sqrt\", \"log2\", None],\n",
    "        \"min_samples_split\":[2,5,10],\n",
    "        \"min_samples_leaf\": [10,30,40,50,100]       \n",
    "        }]\n",
    "Dct_grid= GridSearchCV(Dct, param_grid)\n",
    "Dct_grid.fit(X_train, y_train)\n",
    "y_pred_Dct=Dct_grid.predict(X_test)\n",
    "print('For Decision Tree model, best Parameters after tuning is {} with the prediction accuracy {}.'.format(Dct_grid.best_params_,get_accuracy(y_test,y_pred_Dct)))"
   ]
  },
  {
   "cell_type": "markdown",
   "metadata": {},
   "source": [
    "#### Random Forest"
   ]
  },
  {
   "cell_type": "code",
   "execution_count": 195,
   "metadata": {
    "ExecuteTime": {
     "end_time": "2020-02-29T02:09:22.660765Z",
     "start_time": "2020-02-29T02:09:18.801481Z"
    }
   },
   "outputs": [
    {
     "name": "stdout",
     "output_type": "stream",
     "text": [
      "The average of 10-fold cross validation score of Random Forest is:0.3218403002974631\n",
      "The standard deviation of Random Forest is:0.008312011776830736\n"
     ]
    }
   ],
   "source": [
    "RF=RandomForestClassifier()\n",
    "RF_score=cross_val_score(RF, X_train, y_train, cv=10)\n",
    "print('The average of 10-fold cross validation score of Random Forest is:{}'.format(np.average(RF_score)))\n",
    "print('The standard deviation of Random Forest is:{}'.format(np.std(RF_score)))  "
   ]
  },
  {
   "cell_type": "code",
   "execution_count": 196,
   "metadata": {
    "ExecuteTime": {
     "end_time": "2020-02-29T02:11:32.728599Z",
     "start_time": "2020-02-29T02:09:22.671768Z"
    }
   },
   "outputs": [
    {
     "name": "stdout",
     "output_type": "stream",
     "text": [
      "For Random Forest model, best Parameters after tuning is {'max_depth': 5, 'max_features': None, 'min_samples_leaf': 100, 'min_samples_split': 2} with the prediction accuracy 34.85333333333333.\n"
     ]
    }
   ],
   "source": [
    "param_grid = [{ \n",
    "            'n_estimators' : [10,50,100],\n",
    "            'max_depth': [10,50,100,None],\n",
    "            'min_samples_leaf':[1,2,5]\n",
    "        }]\n",
    "RF_grid = GridSearchCV(RF, param_grid)\n",
    "RF_grid.fit(X_train, y_train)\n",
    "y_pred_RF=RF_grid.predict(X_test)\n",
    "print('For Random Forest model, best Parameters after tuning is {} with the prediction accuracy {}.'.format(Dct_grid.best_params_,get_accuracy(y_test,y_pred_RF)))"
   ]
  },
  {
   "cell_type": "markdown",
   "metadata": {},
   "source": [
    "#### Support Vector Machines"
   ]
  },
  {
   "cell_type": "code",
   "execution_count": 197,
   "metadata": {
    "ExecuteTime": {
     "end_time": "2020-02-29T02:13:25.066647Z",
     "start_time": "2020-02-29T02:11:32.734602Z"
    }
   },
   "outputs": [
    {
     "name": "stdout",
     "output_type": "stream",
     "text": [
      "The average of 10-fold cross validation score of Support Vector Machines is:0.34194361242227045\n",
      "The standard deviation of Support Vector Machines is:0.004349917321285919\n"
     ]
    }
   ],
   "source": [
    "SVM=SVC()\n",
    "SVM_score=cross_val_score(SVM, X_train, y_train, cv=10)\n",
    "print('The average of 10-fold cross validation score of Support Vector Machines is:{}'.format(np.average(SVM_score)))\n",
    "print('The standard deviation of Support Vector Machines is:{}'.format(np.std(SVM_score)))  "
   ]
  },
  {
   "cell_type": "code",
   "execution_count": 198,
   "metadata": {
    "ExecuteTime": {
     "end_time": "2020-02-29T02:23:42.554792Z",
     "start_time": "2020-02-29T02:13:25.073651Z"
    }
   },
   "outputs": [
    {
     "name": "stdout",
     "output_type": "stream",
     "text": [
      "For Random Forest model, best Parameters after tuning is {'C': 1} with the best accuracy 33.54666666666667 during cross validation tunning.\n"
     ]
    }
   ],
   "source": [
    "param_grid = [{ \n",
    "        'C':[0.001,0.1,1,5,10]\n",
    "        }]\n",
    "SVM_grid = GridSearchCV(SVM, param_grid,cv=10)\n",
    "SVM_grid.fit(X_train, y_train)\n",
    "y_pred_SVM=SVM_grid.predict(X_test)\n",
    "print('For Random Forest model, best Parameters after tuning is {} with the prediction accuracy {}.'.format(SVM_grid.best_params_,get_accuracy(y_test,y_pred_SVM)))"
   ]
  },
  {
   "cell_type": "markdown",
   "metadata": {},
   "source": [
    "#### Gradient Boosted Trees"
   ]
  },
  {
   "cell_type": "code",
   "execution_count": 358,
   "metadata": {
    "ExecuteTime": {
     "end_time": "2020-02-29T03:37:53.257225Z",
     "start_time": "2020-02-29T03:36:33.553432Z"
    }
   },
   "outputs": [
    {
     "name": "stdout",
     "output_type": "stream",
     "text": [
      "The average of 10-fold cross validation score of Gradient Boosted Trees is:0.25578233143396123\n",
      "The standard deviation of Gradient Boosted Trees is:0.022389645908106673\n"
     ]
    }
   ],
   "source": [
    "GB=GradientBoostingClassifier()\n",
    "GB_score=cross_val_score(GB, X_train, y_train, cv=5)\n",
    "print('The average of 10-fold cross validation score of Gradient Boosted Trees is:{}'.format(np.average(GB_score)))\n",
    "print('The standard deviation of Gradient Boosted Trees is:{}'.format(np.std(GB_score)))  "
   ]
  },
  {
   "cell_type": "code",
   "execution_count": 359,
   "metadata": {
    "ExecuteTime": {
     "end_time": "2020-02-29T03:41:08.030254Z",
     "start_time": "2020-02-29T03:37:58.308574Z"
    }
   },
   "outputs": [
    {
     "name": "stdout",
     "output_type": "stream",
     "text": [
      "For Random Forest model, best Parameters after tuning is {'n_estimators': 150} with the prediction accuracy 28.000000000000004.\n"
     ]
    }
   ],
   "source": [
    "param_grid = [{ \n",
    "#        'learning_rate': [0.001,0.01,0.1,1,10],\n",
    "        \"n_estimators\" : [100, 150, 200]\n",
    "        }]\n",
    "GB_grid = GridSearchCV(GB, param_grid)\n",
    "GB_grid.fit(X_train, y_train)\n",
    "y_pred_GB=GB_grid.predict(X_test)\n",
    "print('For Random Forest model, best Parameters after tuning is {} with the prediction accuracy {}.'.format(GB_grid.best_params_,get_accuracy(y_test,y_pred_GB)))"
   ]
  },
  {
   "cell_type": "markdown",
   "metadata": {},
   "source": [
    "## Testing & Discussion"
   ]
  },
  {
   "cell_type": "markdown",
   "metadata": {},
   "source": [
    "Use your optimal model to make classifications on the test set. How does your model perform on the test set vs. the training set? The overall fit of the model, how to increase the accuracy (test, training)? Is it overfitting or underfitting? Why? Plot the distribution.\n",
    "Insufficient discussion will lead to the deduction on marks."
   ]
  },
  {
   "cell_type": "markdown",
   "metadata": {},
   "source": [
    "High bias is obtained for current model. So current model is underfitting. From the error plot and accuracy, it is shown that in the beginning, both training and testing errors are huge with low degree model. As increasing the complexity of the model to about 2 degree, the training error drops while tesing error continues increasing. Eventually, training error decreases till the model is overfitting. Overall, the current ordinal logistic regression model is underfitting which did not learn well the underline function from features. In order to increase accuracy, possible solutions are adding polynomial features, getting additional features, decreasing penalty etc. "
   ]
  },
  {
   "cell_type": "markdown",
   "metadata": {},
   "source": [
    "### Train model with varying polynomial data and plot error plot "
   ]
  },
  {
   "cell_type": "code",
   "execution_count": 449,
   "metadata": {
    "ExecuteTime": {
     "end_time": "2020-02-29T04:42:27.489223Z",
     "start_time": "2020-02-29T04:42:27.437206Z"
    }
   },
   "outputs": [],
   "source": [
    "def OrdinalLogistic_tuning(X_train=X_train,y_train=y_train,X_test=X_test,y_test=y_test,n_target=14):\n",
    "    class0=[0]\n",
    "    count=0    \n",
    "    prob=[] \n",
    "    for i in range(n_target):\n",
    "        y_train_c=[]\n",
    "        #prob=list(range(n_target))\n",
    "        for ix,target in enumerate(y_train):\n",
    "            if target in class0:  \n",
    "                y_train_c.append(0)\n",
    "            else: \n",
    "                y_train_c.append(1)\n",
    "        #print('For the {} iteration, class 0 contains {}'.format(count+1,class0))\n",
    "        #print('The first 15 values of updated y_train is',y_train_c[:15])\n",
    "        model = LogisticRegression() \n",
    "        grid = GridSearchCV(model, param_grid, cv=2, return_train_score=False)\n",
    "        grid.fit(X_train, y_train_c)\n",
    "        #Use the best parameter to predict\n",
    "        #print(\"For the scenario {} :\".format(i+1))\n",
    "        #print(\"Best score is \",grid.best_score_)\n",
    "        #print(\"Best parameter is \",grid.best_params_)\n",
    "        #print('*'*80)\n",
    "        y_pred = grid.predict(X_test)\n",
    "        y_pred_prob=grid.predict_proba(X_test)[:,0]\n",
    "        prob.append(y_pred_prob)\n",
    "\n",
    "        #print('Probability of class0 {} is {}{}'.format(class0,'\\n',y_pred_prob))\n",
    "        #print('The cumulative probibilty of is {}{}'.format('\\n',prob))\n",
    "        #print('Length---',len(prob))\n",
    "        ###print(\"Accuracy is\", accuracy_score(y_test, y_pred))\n",
    "        #print('+'*80)\n",
    "        count+=1\n",
    "        class0.append(count)\n",
    "    p_last=grid.predict_proba(X_test)[:,1]\n",
    "    prob_each_class=[]\n",
    "    for i in range(n_target):\n",
    "        if len(prob_each_class)==0:\n",
    "            prob_each_class.append(prob[0])\n",
    "        else:\n",
    "            prob_each_class.append(prob[i]-prob[i-1])\n",
    "    prob_each_class.append(p_last)\n",
    "    prediction=np.argmax(prob_each_class,axis=0)\n",
    "    \n",
    "    cm=confusion_matrix(y_test, prediction)\n",
    "    correct=np.diag(cm).sum()\n",
    "    ACC=correct/cm.sum().sum()\n",
    "    \n",
    "    accuracy = ACC*100\n",
    "    print(\"Accuracy is {}%\".format(accuracy))\n",
    "    # print(\"Sklearn accuracy is\", accuracy_score(y_test, prediction))\n",
    "    return prediction"
   ]
  },
  {
   "cell_type": "code",
   "execution_count": 453,
   "metadata": {
    "ExecuteTime": {
     "end_time": "2020-02-29T05:04:27.808841Z",
     "start_time": "2020-02-29T04:55:45.519514Z"
    },
    "scrolled": false
   },
   "outputs": [
    {
     "name": "stdout",
     "output_type": "stream",
     "text": [
      "Accuracy is 21.714285714285715%\n",
      "Accuracy is 23.333333333333332%\n",
      "Accuracy is 69.71428571428572%\n",
      "Accuracy is 19.333333333333332%\n",
      "Accuracy is 67.71428571428572%\n",
      "Accuracy is 14.000000000000002%\n"
     ]
    }
   ],
   "source": [
    "steps = np.arange(1,4,1)\n",
    "\n",
    "trainErr = np.zeros(steps.shape)\n",
    "testErr = np.zeros(steps.shape)\n",
    "\n",
    "for i, step in enumerate(steps):\n",
    "    # Generate polynomial features\n",
    "    poly = PolynomialFeatures(step, interaction_only=True)\n",
    "    pX_train = poly.fit_transform(X_train)\n",
    "    pX_test = poly.transform(X_test)\n",
    "    \n",
    "    # Rescale the features with mean = 0, std = 1 for numerical stability\n",
    "    scaler = StandardScaler()\n",
    "    pX_train = scaler.fit_transform(pX_train)\n",
    "    pX_test = scaler.transform(pX_test)\n",
    "        \n",
    "    # Train model and Make Predictions    \n",
    "    y_train_pred = OrdinalLogistic_tuning(X_train=pX_train,y_train=y_train,X_test=pX_train,y_test=y_train)\n",
    "    y_test_pred = OrdinalLogistic_tuning(X_train=pX_train,y_train=y_train,X_test=pX_test,y_test=y_test)\n",
    "    \n",
    "    # Calculate Error\n",
    "    trainErr[i] = mean_squared_error(y_train, y_train_pred)\n",
    "    testErr[i] = mean_squared_error(y_test, y_test_pred)"
   ]
  },
  {
   "cell_type": "code",
   "execution_count": 455,
   "metadata": {
    "ExecuteTime": {
     "end_time": "2020-02-29T05:08:14.329858Z",
     "start_time": "2020-02-29T05:08:12.439947Z"
    }
   },
   "outputs": [
    {
     "name": "stderr",
     "output_type": "stream",
     "text": [
      "No handles with labels found to put in legend.\n"
     ]
    },
    {
     "data": {
      "text/plain": [
       "<matplotlib.legend.Legend at 0x293331a3080>"
      ]
     },
     "execution_count": 455,
     "metadata": {},
     "output_type": "execute_result"
    },
    {
     "data": {
      "image/png": "[encoded data removed]",
      "text/plain": [
       "<Figure size 864x360 with 2 Axes>"
      ]
     },
     "metadata": {
      "needs_background": "light"
     },
     "output_type": "display_data"
    }
   ],
   "source": [
    "fig = plt.figure(figsize=(12,5))\n",
    "\n",
    "totalErr = trainErr + testErr\n",
    "\n",
    "axes1 = fig.add_axes([0, 0, 1, 1]) # main axes\n",
    "axes2 = fig.add_axes([0.05, .5, .3, .4]) # inner axes\n",
    "\n",
    "axes1.plot(trainErr,'r',label='Training Error')\n",
    "axes1.plot(testErr,'g',label='Testing Error')\n",
    "axes1.plot(totalErr, 'b', label='Total Error')\n",
    "\n",
    "axes1.set_title(\"Mean Squared Error\")\n",
    "axes1.set_xlabel(\"Degree\")\n",
    "axes1.set_ylabel(\"Error\")\n",
    "axes1.set_xlim(0.5,steps[-2])\n",
    "axes1.legend(loc=1)\n",
    "\n",
    "axes2.plot(trainErr,'r')\n",
    "axes2.plot(testErr,'g')\n",
    "axes2.plot(totalErr,'b')\n",
    "axes2.set_xlim(0.5,steps[-2])\n",
    "axes2.set_ylim(0, totalErr[1]+10)\n",
    "axes2.set_title(\"Minimum Testing Error\")\n",
    "axes2.set_xlabel(\"Degree\")\n",
    "axes2.set_ylabel(\"Error\")\n",
    "\n",
    "plt.legend(loc=4)"
   ]
  },
  {
   "cell_type": "code",
   "execution_count": 454,
   "metadata": {
    "ExecuteTime": {
     "end_time": "2020-02-29T05:07:50.730325Z",
     "start_time": "2020-02-29T05:07:49.671534Z"
    }
   },
   "outputs": [
    {
     "data": {
      "text/plain": [
       "(1, 2)"
      ]
     },
     "execution_count": 454,
     "metadata": {},
     "output_type": "execute_result"
    },
    {
     "data": {
      "image/png": "[encoded data removed]",
      "text/plain": [
       "<Figure size 864x360 with 1 Axes>"
      ]
     },
     "metadata": {
      "needs_background": "light"
     },
     "output_type": "display_data"
    }
   ],
   "source": [
    "plt.figure(figsize=(12,5))\n",
    "\n",
    "\n",
    "plt.plot(trainErr,'r',label='Training Error')\n",
    "plt.plot(testErr,'g',label='Testing Error')\n",
    "plt.plot(trainErr + testErr, 'b', label='Total Error')\n",
    "\n",
    "test_loss_min = testErr.min()\n",
    "deg_min = testErr.argmin() + steps[0]\n",
    "\n",
    "#Annotate the plot:plt.annotate(text,pointing coordinates,text coordinates,arrowproperty={})\n",
    "plt.annotate('Minimum Test Loss (%.4f)' % test_loss_min,xy=(deg_min,test_loss_min),xytext=(deg_min,test_loss_min+0.08),arrowprops=dict(width=1,headwidth=2,facecolor='r',shrink=0.05))\n",
    "\n",
    "plt.title(\"Mean Squared Error\")\n",
    "plt.xlabel(\"degree\")\n",
    "plt.ylabel(\"mean squared error\")\n",
    "plt.legend(loc=1)\n",
    "plt.xlim(1,steps[-2])"
   ]
  },
  {
   "cell_type": "code",
   "execution_count": null,
   "metadata": {
    "ExecuteTime": {
     "end_time": "2020-02-29T01:52:46.784861Z",
     "start_time": "2020-02-28T22:47:29.220Z"
    },
    "code_folding": [
     0
    ]
   },
   "outputs": [],
   "source": [
    "def plot_learning_curve(estimator, title, X, y, ylim=None, cv=None, n_jobs=1,\\\n",
    "                        train_sizes=np.linspace(.1, 1.0, 5), scoring='accuracy'):\n",
    "    \n",
    "    plt.figure(figsize=(10,6))\n",
    "    plt.title(title)\n",
    "    \n",
    "    if ylim is not None:\n",
    "        plt.ylim(*ylim)\n",
    "        \n",
    "    plt.xlabel(\"Training examples\")\n",
    "    plt.ylabel(scoring)\n",
    "    \n",
    "    train_sizes, train_scores, test_scores = learning_curve(estimator, X, y, cv=cv, scoring=scoring, n_jobs=n_jobs, train_sizes=train_sizes)\n",
    "    train_scores_mean = np.mean(train_scores, axis=1)\n",
    "    train_scores_std = np.std(train_scores, axis=1)\n",
    "    test_scores_mean = np.mean(test_scores, axis=1)\n",
    "    test_scores_std = np.std(test_scores, axis=1)\n",
    "    \n",
    "    plt.grid()\n",
    "\n",
    "    plt.fill_between(train_sizes, train_scores_mean - train_scores_std,\\\n",
    "                     train_scores_mean + train_scores_std, alpha=0.1, \\\n",
    "                     color=\"r\")\n",
    "    plt.fill_between(train_sizes, test_scores_mean - test_scores_std,\\\n",
    "                     test_scores_mean + test_scores_std, alpha=0.1, color=\"g\")\n",
    "    \n",
    "    plt.plot(train_sizes, train_scores_mean, 'o-', color=\"r\",label=\"Training score\")\n",
    "    plt.plot(train_sizes, test_scores_mean, 'o-', color=\"g\", label=\"Cross-validation score\")\n",
    "    plt.legend(loc=\"best\")\n",
    "    \n",
    "    return plt"
   ]
  },
  {
   "cell_type": "markdown",
   "metadata": {
    "ExecuteTime": {
     "end_time": "2020-02-29T04:41:03.246953Z",
     "start_time": "2020-02-29T04:27:57.817Z"
    }
   },
   "source": [
    "### Computer R2 socre for overall fitting performance3"
   ]
  },
  {
   "cell_type": "code",
   "execution_count": null,
   "metadata": {
    "ExecuteTime": {
     "end_time": "2020-02-29T01:52:46.791858Z",
     "start_time": "2020-02-28T22:47:29.239Z"
    }
   },
   "outputs": [],
   "source": [
    "# y_pred=OrdinalLogistic_tuning(X_train,y_train,X_test,y_test,n_target=14)\n",
    "# print('R2 score----',r2_score(y_test, y_pred))"
   ]
  }
 ],
 "metadata": {
  "hide_input": false,
  "kernelspec": {
   "display_name": "Python 3",
   "language": "python",
   "name": "python3"
  },
  "language_info": {
   "codemirror_mode": {
    "name": "ipython",
    "version": 3
   },
   "file_extension": ".py",
   "mimetype": "text/x-python",
   "name": "python",
   "nbconvert_exporter": "python",
   "pygments_lexer": "ipython3",
   "version": "3.7.3"
  },
  "toc": {
   "base_numbering": 1,
   "nav_menu": {},
   "number_sections": true,
   "sideBar": true,
   "skip_h1_title": false,
   "title_cell": "Table of Contents",
   "title_sidebar": "Contents",
   "toc_cell": false,
   "toc_position": {
    "height": "calc(100% - 180px)",
    "left": "10px",
    "top": "150px",
    "width": "303.825px"
   },
   "toc_section_display": true,
   "toc_window_display": true
  },
  "varInspector": {
   "cols": {
    "lenName": 16,
    "lenType": 16,
    "lenVar": 40
   },
   "kernels_config": {
    "python": {
     "delete_cmd_postfix": "",
     "delete_cmd_prefix": "del ",
     "library": "var_list.py",
     "varRefreshCmd": "print(var_dic_list())"
    },
    "r": {
     "delete_cmd_postfix": ") ",
     "delete_cmd_prefix": "rm(",
     "library": "var_list.r",
     "varRefreshCmd": "cat(var_dic_list()) "
    }
   },
   "position": {
    "height": "337.4px",
    "left": "1149.2px",
    "right": "20px",
    "top": "120px",
    "width": "350px"
   },
   "types_to_exclude": [
    "module",
    "function",
    "builtin_function_or_method",
    "instance",
    "_Feature"
   ],
   "window_display": false
  }
 },
 "nbformat": 4,
 "nbformat_minor": 2
}
