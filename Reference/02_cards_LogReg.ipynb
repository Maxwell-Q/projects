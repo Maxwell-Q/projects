{
 "cells": [
  {
   "cell_type": "markdown",
   "metadata": {},
   "source": [
    "### Credit card default data set from UCI-ML Repository [link to dataset](https://archive.ics.uci.edu/ml/datasets/default+of+credit+card+clients)\n",
    "#### A classification problem with: \n",
    "- 30,000 client data, \n",
    "- 23 variables (or inputs), \n",
    "- 1 binary output: Default payment (Yes=1, No=0)\n",
    "- no missing values\n",
    "\n",
    "### PROBLEM STATEMENT: Predict the probability that a client will default\n",
    "\n",
    "### **NOTE:** First, check the exploratory data analysis notebook"
   ]
  },
  {
   "cell_type": "markdown",
   "metadata": {},
   "source": [
    "### Logistic regression, despite the term \"regression\", is **not** a regression algorithm. It is a **classification** algorithm. \n",
    "### LogReg models the relationship between one or more inputs to a binary (0-1) output? For example, in the credit card problem, defaulting payment is represented as 1 (implying 100\\% probability that a client does not pay off the balance), and not defaulting is represented as 0 (in other words 0\\% probability that a client defaults). \n",
    "### With past data, we can be **absolutely certain** (i.e. 0 or 100\\%) about the payment status. If we want to predict the **future behaviour** of a client we have to think **probabilistically**. \n",
    "### E.g. Tyrion has 0.1\\% probability of defaulting because he has paid fully his CC his whole life, except a couple of times that he forgot. Why do I trust this statement instead of 0\\% probability of defaulting? First, unexpected things can always happen. The value of 0.1\\% a model may predict simply tells me that: good clients who look like Tyrion (i.e. always pay off their debt, he is a Lannister) fail to pay their debt at a rate of 1 out of 1,000 (i.e. 0.1\\%)\n"
   ]
  },
  {
   "cell_type": "markdown",
   "metadata": {},
   "source": [
    "### The [LogReg](https://scikit-learn.org/stable/modules/generated/sklearn.linear_model.LogisticRegression.html) models the input(s)-output relationship based on the sigmoid equation: $P(x) = \\frac{1}{1+e^{-(mx+b)}}$ where P(x) is the output as probability between 0 and 1, x is the vector of inputs, m and b are the slope and intercept parameters calculated from fitting the data.\n",
    "<img src=\"LogReg.png\" width=500  />"
   ]
  },
  {
   "cell_type": "code",
   "execution_count": 1,
   "metadata": {},
   "outputs": [],
   "source": [
    "# Import libraries and settings\n",
    "import pandas as pd\n",
    "import numpy as np\n",
    "from sklearn.model_selection import train_test_split\n",
    "from sklearn.linear_model import LogisticRegression\n",
    "from sklearn.preprocessing import StandardScaler\n",
    "import matplotlib\n",
    "import matplotlib.pyplot as plt\n",
    "matplotlib.rcParams['figure.figsize'] = (8, 8)\n",
    "matplotlib.rcParams.update({'font.size': 16})\n",
    "import seaborn as sns"
   ]
  },
  {
   "cell_type": "code",
   "execution_count": 2,
   "metadata": {},
   "outputs": [
    {
     "data": {
      "text/html": [
       "<div>\n",
       "<style scoped>\n",
       "    .dataframe tbody tr th:only-of-type {\n",
       "        vertical-align: middle;\n",
       "    }\n",
       "\n",
       "    .dataframe tbody tr th {\n",
       "        vertical-align: top;\n",
       "    }\n",
       "\n",
       "    .dataframe thead th {\n",
       "        text-align: right;\n",
       "    }\n",
       "</style>\n",
       "<table border=\"1\" class=\"dataframe\">\n",
       "  <thead>\n",
       "    <tr style=\"text-align: right;\">\n",
       "      <th></th>\n",
       "      <th>LIMIT_BAL</th>\n",
       "      <th>SEX</th>\n",
       "      <th>EDUCATION</th>\n",
       "      <th>MARRIAGE</th>\n",
       "      <th>AGE</th>\n",
       "      <th>PAY_0</th>\n",
       "      <th>PAY_2</th>\n",
       "      <th>PAY_3</th>\n",
       "      <th>PAY_4</th>\n",
       "      <th>PAY_5</th>\n",
       "      <th>...</th>\n",
       "      <th>BILL_AMT4</th>\n",
       "      <th>BILL_AMT5</th>\n",
       "      <th>BILL_AMT6</th>\n",
       "      <th>PAY_AMT1</th>\n",
       "      <th>PAY_AMT2</th>\n",
       "      <th>PAY_AMT3</th>\n",
       "      <th>PAY_AMT4</th>\n",
       "      <th>PAY_AMT5</th>\n",
       "      <th>PAY_AMT6</th>\n",
       "      <th>OUTPUT</th>\n",
       "    </tr>\n",
       "  </thead>\n",
       "  <tbody>\n",
       "    <tr>\n",
       "      <th>0</th>\n",
       "      <td>20000</td>\n",
       "      <td>2</td>\n",
       "      <td>2</td>\n",
       "      <td>1</td>\n",
       "      <td>24</td>\n",
       "      <td>2</td>\n",
       "      <td>2</td>\n",
       "      <td>-1</td>\n",
       "      <td>-1</td>\n",
       "      <td>-2</td>\n",
       "      <td>...</td>\n",
       "      <td>0</td>\n",
       "      <td>0</td>\n",
       "      <td>0</td>\n",
       "      <td>0</td>\n",
       "      <td>689</td>\n",
       "      <td>0</td>\n",
       "      <td>0</td>\n",
       "      <td>0</td>\n",
       "      <td>0</td>\n",
       "      <td>1</td>\n",
       "    </tr>\n",
       "    <tr>\n",
       "      <th>1</th>\n",
       "      <td>120000</td>\n",
       "      <td>2</td>\n",
       "      <td>2</td>\n",
       "      <td>2</td>\n",
       "      <td>26</td>\n",
       "      <td>-1</td>\n",
       "      <td>2</td>\n",
       "      <td>0</td>\n",
       "      <td>0</td>\n",
       "      <td>0</td>\n",
       "      <td>...</td>\n",
       "      <td>3272</td>\n",
       "      <td>3455</td>\n",
       "      <td>3261</td>\n",
       "      <td>0</td>\n",
       "      <td>1000</td>\n",
       "      <td>1000</td>\n",
       "      <td>1000</td>\n",
       "      <td>0</td>\n",
       "      <td>2000</td>\n",
       "      <td>1</td>\n",
       "    </tr>\n",
       "    <tr>\n",
       "      <th>2</th>\n",
       "      <td>90000</td>\n",
       "      <td>2</td>\n",
       "      <td>2</td>\n",
       "      <td>2</td>\n",
       "      <td>34</td>\n",
       "      <td>0</td>\n",
       "      <td>0</td>\n",
       "      <td>0</td>\n",
       "      <td>0</td>\n",
       "      <td>0</td>\n",
       "      <td>...</td>\n",
       "      <td>14331</td>\n",
       "      <td>14948</td>\n",
       "      <td>15549</td>\n",
       "      <td>1518</td>\n",
       "      <td>1500</td>\n",
       "      <td>1000</td>\n",
       "      <td>1000</td>\n",
       "      <td>1000</td>\n",
       "      <td>5000</td>\n",
       "      <td>0</td>\n",
       "    </tr>\n",
       "    <tr>\n",
       "      <th>3</th>\n",
       "      <td>50000</td>\n",
       "      <td>2</td>\n",
       "      <td>2</td>\n",
       "      <td>1</td>\n",
       "      <td>37</td>\n",
       "      <td>0</td>\n",
       "      <td>0</td>\n",
       "      <td>0</td>\n",
       "      <td>0</td>\n",
       "      <td>0</td>\n",
       "      <td>...</td>\n",
       "      <td>28314</td>\n",
       "      <td>28959</td>\n",
       "      <td>29547</td>\n",
       "      <td>2000</td>\n",
       "      <td>2019</td>\n",
       "      <td>1200</td>\n",
       "      <td>1100</td>\n",
       "      <td>1069</td>\n",
       "      <td>1000</td>\n",
       "      <td>0</td>\n",
       "    </tr>\n",
       "    <tr>\n",
       "      <th>4</th>\n",
       "      <td>50000</td>\n",
       "      <td>1</td>\n",
       "      <td>2</td>\n",
       "      <td>1</td>\n",
       "      <td>57</td>\n",
       "      <td>-1</td>\n",
       "      <td>0</td>\n",
       "      <td>-1</td>\n",
       "      <td>0</td>\n",
       "      <td>0</td>\n",
       "      <td>...</td>\n",
       "      <td>20940</td>\n",
       "      <td>19146</td>\n",
       "      <td>19131</td>\n",
       "      <td>2000</td>\n",
       "      <td>36681</td>\n",
       "      <td>10000</td>\n",
       "      <td>9000</td>\n",
       "      <td>689</td>\n",
       "      <td>679</td>\n",
       "      <td>0</td>\n",
       "    </tr>\n",
       "    <tr>\n",
       "      <th>5</th>\n",
       "      <td>50000</td>\n",
       "      <td>1</td>\n",
       "      <td>1</td>\n",
       "      <td>2</td>\n",
       "      <td>37</td>\n",
       "      <td>0</td>\n",
       "      <td>0</td>\n",
       "      <td>0</td>\n",
       "      <td>0</td>\n",
       "      <td>0</td>\n",
       "      <td>...</td>\n",
       "      <td>19394</td>\n",
       "      <td>19619</td>\n",
       "      <td>20024</td>\n",
       "      <td>2500</td>\n",
       "      <td>1815</td>\n",
       "      <td>657</td>\n",
       "      <td>1000</td>\n",
       "      <td>1000</td>\n",
       "      <td>800</td>\n",
       "      <td>0</td>\n",
       "    </tr>\n",
       "    <tr>\n",
       "      <th>6</th>\n",
       "      <td>500000</td>\n",
       "      <td>1</td>\n",
       "      <td>1</td>\n",
       "      <td>2</td>\n",
       "      <td>29</td>\n",
       "      <td>0</td>\n",
       "      <td>0</td>\n",
       "      <td>0</td>\n",
       "      <td>0</td>\n",
       "      <td>0</td>\n",
       "      <td>...</td>\n",
       "      <td>542653</td>\n",
       "      <td>483003</td>\n",
       "      <td>473944</td>\n",
       "      <td>55000</td>\n",
       "      <td>40000</td>\n",
       "      <td>38000</td>\n",
       "      <td>20239</td>\n",
       "      <td>13750</td>\n",
       "      <td>13770</td>\n",
       "      <td>0</td>\n",
       "    </tr>\n",
       "    <tr>\n",
       "      <th>7</th>\n",
       "      <td>100000</td>\n",
       "      <td>2</td>\n",
       "      <td>2</td>\n",
       "      <td>2</td>\n",
       "      <td>23</td>\n",
       "      <td>0</td>\n",
       "      <td>-1</td>\n",
       "      <td>-1</td>\n",
       "      <td>0</td>\n",
       "      <td>0</td>\n",
       "      <td>...</td>\n",
       "      <td>221</td>\n",
       "      <td>-159</td>\n",
       "      <td>567</td>\n",
       "      <td>380</td>\n",
       "      <td>601</td>\n",
       "      <td>0</td>\n",
       "      <td>581</td>\n",
       "      <td>1687</td>\n",
       "      <td>1542</td>\n",
       "      <td>0</td>\n",
       "    </tr>\n",
       "    <tr>\n",
       "      <th>8</th>\n",
       "      <td>140000</td>\n",
       "      <td>2</td>\n",
       "      <td>3</td>\n",
       "      <td>1</td>\n",
       "      <td>28</td>\n",
       "      <td>0</td>\n",
       "      <td>0</td>\n",
       "      <td>2</td>\n",
       "      <td>0</td>\n",
       "      <td>0</td>\n",
       "      <td>...</td>\n",
       "      <td>12211</td>\n",
       "      <td>11793</td>\n",
       "      <td>3719</td>\n",
       "      <td>3329</td>\n",
       "      <td>0</td>\n",
       "      <td>432</td>\n",
       "      <td>1000</td>\n",
       "      <td>1000</td>\n",
       "      <td>1000</td>\n",
       "      <td>0</td>\n",
       "    </tr>\n",
       "    <tr>\n",
       "      <th>9</th>\n",
       "      <td>20000</td>\n",
       "      <td>1</td>\n",
       "      <td>3</td>\n",
       "      <td>2</td>\n",
       "      <td>35</td>\n",
       "      <td>-2</td>\n",
       "      <td>-2</td>\n",
       "      <td>-2</td>\n",
       "      <td>-2</td>\n",
       "      <td>-1</td>\n",
       "      <td>...</td>\n",
       "      <td>0</td>\n",
       "      <td>13007</td>\n",
       "      <td>13912</td>\n",
       "      <td>0</td>\n",
       "      <td>0</td>\n",
       "      <td>0</td>\n",
       "      <td>13007</td>\n",
       "      <td>1122</td>\n",
       "      <td>0</td>\n",
       "      <td>0</td>\n",
       "    </tr>\n",
       "  </tbody>\n",
       "</table>\n",
       "<p>10 rows × 24 columns</p>\n",
       "</div>"
      ],
      "text/plain": [
       "   LIMIT_BAL  SEX  EDUCATION  MARRIAGE  AGE  PAY_0  PAY_2  PAY_3  PAY_4  \\\n",
       "0      20000    2          2         1   24      2      2     -1     -1   \n",
       "1     120000    2          2         2   26     -1      2      0      0   \n",
       "2      90000    2          2         2   34      0      0      0      0   \n",
       "3      50000    2          2         1   37      0      0      0      0   \n",
       "4      50000    1          2         1   57     -1      0     -1      0   \n",
       "5      50000    1          1         2   37      0      0      0      0   \n",
       "6     500000    1          1         2   29      0      0      0      0   \n",
       "7     100000    2          2         2   23      0     -1     -1      0   \n",
       "8     140000    2          3         1   28      0      0      2      0   \n",
       "9      20000    1          3         2   35     -2     -2     -2     -2   \n",
       "\n",
       "   PAY_5  ...  BILL_AMT4  BILL_AMT5  BILL_AMT6  PAY_AMT1  PAY_AMT2  PAY_AMT3  \\\n",
       "0     -2  ...          0          0          0         0       689         0   \n",
       "1      0  ...       3272       3455       3261         0      1000      1000   \n",
       "2      0  ...      14331      14948      15549      1518      1500      1000   \n",
       "3      0  ...      28314      28959      29547      2000      2019      1200   \n",
       "4      0  ...      20940      19146      19131      2000     36681     10000   \n",
       "5      0  ...      19394      19619      20024      2500      1815       657   \n",
       "6      0  ...     542653     483003     473944     55000     40000     38000   \n",
       "7      0  ...        221       -159        567       380       601         0   \n",
       "8      0  ...      12211      11793       3719      3329         0       432   \n",
       "9     -1  ...          0      13007      13912         0         0         0   \n",
       "\n",
       "   PAY_AMT4  PAY_AMT5  PAY_AMT6  OUTPUT  \n",
       "0         0         0         0       1  \n",
       "1      1000         0      2000       1  \n",
       "2      1000      1000      5000       0  \n",
       "3      1100      1069      1000       0  \n",
       "4      9000       689       679       0  \n",
       "5      1000      1000       800       0  \n",
       "6     20239     13750     13770       0  \n",
       "7       581      1687      1542       0  \n",
       "8      1000      1000      1000       0  \n",
       "9     13007      1122         0       0  \n",
       "\n",
       "[10 rows x 24 columns]"
      ]
     },
     "execution_count": 2,
     "metadata": {},
     "output_type": "execute_result"
    }
   ],
   "source": [
    "# Import data and rename column\n",
    "cc_data = pd.read_excel('cc_data_uci.xls')\n",
    "cc_data.rename(columns={'default payment next month': 'OUTPUT'}, inplace = True)\n",
    "\n",
    "# Separate inputs: X and output:y\n",
    "X = cc_data.drop(['OUTPUT'], axis = 1)\n",
    "y = cc_data['OUTPUT']\n",
    "\n",
    "cc_data.head(10)"
   ]
  },
  {
   "cell_type": "markdown",
   "metadata": {},
   "source": [
    "### Notice the vast difference in scales among the different inputs? \n",
    "- LIMIT_BAL, BILL_AMT is in the order of 1,000,000, whereas SEX, EDUCATION, MARRIAGE indicators are in the order of 1.\n",
    "- This will create enormous numerical problems when we try to fit the data to the sigmoid function. Why? \n",
    "- Fitting data implies that a [gradient descent method](https://en.wikipedia.org/wiki/Gradient_descent) will be used to minimize some error between the output and the line of fit. Gradient descent problems with large scale differences are ill-defined."
   ]
  },
  {
   "cell_type": "code",
   "execution_count": 3,
   "metadata": {},
   "outputs": [
    {
     "data": {
      "text/plain": [
       "LIMIT_BAL    1000000\n",
       "SEX                2\n",
       "EDUCATION          6\n",
       "MARRIAGE           3\n",
       "AGE               79\n",
       "PAY_0              8\n",
       "PAY_2              8\n",
       "PAY_3              8\n",
       "PAY_4              8\n",
       "PAY_5              8\n",
       "PAY_6              8\n",
       "BILL_AMT1     964511\n",
       "BILL_AMT2     983931\n",
       "BILL_AMT3    1664089\n",
       "BILL_AMT4     891586\n",
       "BILL_AMT5     927171\n",
       "BILL_AMT6     961664\n",
       "PAY_AMT1      873552\n",
       "PAY_AMT2     1684259\n",
       "PAY_AMT3      896040\n",
       "PAY_AMT4      621000\n",
       "PAY_AMT5      426529\n",
       "PAY_AMT6      528666\n",
       "OUTPUT             1\n",
       "dtype: int64"
      ]
     },
     "execution_count": 3,
     "metadata": {},
     "output_type": "execute_result"
    }
   ],
   "source": [
    "cc_data.max()"
   ]
  },
  {
   "cell_type": "markdown",
   "metadata": {},
   "source": [
    "### SOLUTION: Scale the inputs. This is an **essential** part of [**pre-processing**](https://scikit-learn.org/stable/modules/preprocessing.html). Here, we use the simplest pre-processing, the [Standard Scaler](https://scikit-learn.org/stable/modules/generated/sklearn.preprocessing.StandardScaler.html#sklearn.preprocessing.StandardScaler) from Sklearn. The Standard Scaler performs the following transformation for every column/feature: removes the mean and scales to unit variance or $ z = \\frac{\\text{x - mean}}{\\text{standard deviation}}$"
   ]
  },
  {
   "cell_type": "code",
   "execution_count": 5,
   "metadata": {},
   "outputs": [
    {
     "data": {
      "text/plain": [
       "array([1., 1., 1., 1., 1., 1., 1., 1., 1., 1., 1., 1., 1., 1., 1., 1., 1.,\n",
       "       1., 1., 1., 1., 1., 1.])"
      ]
     },
     "execution_count": 5,
     "metadata": {},
     "output_type": "execute_result"
    }
   ],
   "source": [
    "# Create the instance of the scaler\n",
    "scaler = StandardScaler()\n",
    "# Transform the inputs X\n",
    "X_scaled = scaler.fit_transform(X)\n",
    "X_scaled.std(axis=0)"
   ]
  },
  {
   "cell_type": "markdown",
   "metadata": {},
   "source": [
    "### Split in train (10,000) and test (20,000) data points"
   ]
  },
  {
   "cell_type": "code",
   "execution_count": 9,
   "metadata": {},
   "outputs": [
    {
     "data": {
      "text/plain": [
       "(20000, 23)"
      ]
     },
     "execution_count": 9,
     "metadata": {},
     "output_type": "execute_result"
    }
   ],
   "source": [
    "# Split in train and test sets\n",
    "X_train, X_test, y_train, y_test = train_test_split(X_scaled, y, test_size=2/3, random_state=0)\n",
    "X_test.shape"
   ]
  },
  {
   "cell_type": "markdown",
   "metadata": {},
   "source": [
    "### Create an instance of LogReg and fit the data (for now leave all settings to default; with LASSO we will review them)"
   ]
  },
  {
   "cell_type": "code",
   "execution_count": 10,
   "metadata": {},
   "outputs": [
    {
     "data": {
      "text/plain": [
       "LogisticRegression(C=1.0, class_weight=None, dual=False, fit_intercept=True,\n",
       "                   intercept_scaling=1, l1_ratio=None, max_iter=100,\n",
       "                   multi_class='auto', n_jobs=None, penalty='l2',\n",
       "                   random_state=None, solver='lbfgs', tol=0.0001, verbose=0,\n",
       "                   warm_start=False)"
      ]
     },
     "execution_count": 10,
     "metadata": {},
     "output_type": "execute_result"
    }
   ],
   "source": [
    "LogReg = LogisticRegression()\n",
    "LogReg.fit(X_train, y_train)"
   ]
  },
  {
   "cell_type": "markdown",
   "metadata": {},
   "source": [
    "### Extract the 23 values of **m** (plot), the coefficients of the LogReg and the **intercept** b. Reminder: $P(x) = \\frac{1}{1+e^{-(m_1x_1 + m_2x_2 + ... +b)}}$"
   ]
  },
  {
   "cell_type": "code",
   "execution_count": 11,
   "metadata": {},
   "outputs": [
    {
     "data": {
      "text/plain": [
       "array([[-0.131437  , -0.06379497, -0.10700139, -0.16055352,  0.064128  ,\n",
       "         0.56986993,  0.15678798,  0.0753623 , -0.0469036 ,  0.02414902,\n",
       "         0.0576594 , -0.35630697, -0.15193838,  0.10771778,  0.25726587,\n",
       "        -0.13553109,  0.16523905, -0.18791308, -0.16285593, -0.14986014,\n",
       "        -0.01394155, -0.08209428, -0.08075622]])"
      ]
     },
     "execution_count": 11,
     "metadata": {},
     "output_type": "execute_result"
    }
   ],
   "source": [
    "m = LogReg.coef_\n",
    "m"
   ]
  },
  {
   "cell_type": "code",
   "execution_count": 12,
   "metadata": {},
   "outputs": [
    {
     "data": {
      "text/plain": [
       "array([-1.42716071])"
      ]
     },
     "execution_count": 12,
     "metadata": {},
     "output_type": "execute_result"
    }
   ],
   "source": [
    "b = LogReg.intercept_\n",
    "b"
   ]
  },
  {
   "cell_type": "code",
   "execution_count": 13,
   "metadata": {},
   "outputs": [
    {
     "data": {
      "image/png": "[encoded data removed]",
      "text/plain": [
       "<Figure size 576x576 with 1 Axes>"
      ]
     },
     "metadata": {
      "needs_background": "light"
     },
     "output_type": "display_data"
    }
   ],
   "source": [
    "# Create plot\n",
    "plt.figure()\n",
    "# Create plot title\n",
    "plt.title(\"Coefficient values\")\n",
    "# Add bars\n",
    "plt.bar(range(X.shape[1]), m[0])\n",
    "# Add feature names as x-axis labels\n",
    "plt.xticks(range(X.shape[1]), X.columns, rotation=90)\n",
    "# Show plot\n",
    "plt.show()"
   ]
  },
  {
   "cell_type": "markdown",
   "metadata": {},
   "source": [
    "### An important note on how we can practically apply the knowledge from this model.\n",
    "- You can get the model to predict whether a new client will be 0 or 1 (pay or default). This is done with the method **predict**.\n",
    "- A business objective typically involves quantifying risk (e.g. risk of a machine part breaking, a product failing, a customer defaulting, having cancer)\n",
    "- Therefore, the business may be interested in predicting the probability of a client defaulting. This is done with the method **predict_proba**.\n",
    "- The **predict_proba** method plugs in the input values x for every client into the sigmoid function and calculates the probability P(x)."
   ]
  },
  {
   "cell_type": "markdown",
   "metadata": {},
   "source": [
    "### Scenario 1: Predict the class of customers in the test set. For each client, give a 0 or 1."
   ]
  },
  {
   "cell_type": "code",
   "execution_count": 14,
   "metadata": {},
   "outputs": [
    {
     "data": {
      "text/plain": [
       "array([1, 0, 0, ..., 0, 0, 1], dtype=int64)"
      ]
     },
     "execution_count": 14,
     "metadata": {},
     "output_type": "execute_result"
    }
   ],
   "source": [
    "y_test_predicted = LogReg.predict(X_test)\n",
    "y_test_predicted"
   ]
  },
  {
   "cell_type": "code",
   "execution_count": 15,
   "metadata": {},
   "outputs": [
    {
     "name": "stdout",
     "output_type": "stream",
     "text": [
      "Frequency of unique values of the said array:\n",
      "[[    0     1]\n",
      " [18576  1424]]\n"
     ]
    }
   ],
   "source": [
    "# How many 0s an 1s does the model predict in the test set?\n",
    "unique_elements, counts_elements = np.unique(y_test_predicted, return_counts=True)\n",
    "print(\"Frequency of unique values of the said array:\")\n",
    "print(np.asarray((unique_elements, counts_elements)))"
   ]
  },
  {
   "cell_type": "markdown",
   "metadata": {},
   "source": [
    "### Scenario 2: Predict the probability of defaulting in the test set. For each client, give probability of 0 and 1 (they add up to 100%)"
   ]
  },
  {
   "cell_type": "code",
   "execution_count": 16,
   "metadata": {},
   "outputs": [
    {
     "data": {
      "text/plain": [
       "array([[0.49287804, 0.50712196],\n",
       "       [0.74635823, 0.25364177],\n",
       "       [0.66297759, 0.33702241],\n",
       "       ...,\n",
       "       [0.76647403, 0.23352597],\n",
       "       [0.8485509 , 0.1514491 ],\n",
       "       [0.47006137, 0.52993863]])"
      ]
     },
     "execution_count": 16,
     "metadata": {},
     "output_type": "execute_result"
    }
   ],
   "source": [
    "y_test_proba = LogReg.predict_proba(X_test)\n",
    "y_test_proba"
   ]
  },
  {
   "cell_type": "markdown",
   "metadata": {},
   "source": [
    "### **QUESTION:** How do you think the class is predicted in Scenario 1?\n",
    "### Plot the distribution of the probabilities in the test data set."
   ]
  },
  {
   "cell_type": "code",
   "execution_count": 17,
   "metadata": {},
   "outputs": [
    {
     "data": {
      "text/plain": [
       "Text(8.280000000000001, 0.5, 'Counts of clients')"
      ]
     },
     "execution_count": 17,
     "metadata": {},
     "output_type": "execute_result"
    },
    {
     "data": {
      "text/plain": [
       "<Figure size 360x360 with 0 Axes>"
      ]
     },
     "metadata": {},
     "output_type": "display_data"
    },
    {
     "data": {
      "image/png": "[encoded data removed]",
      "text/plain": [
       "<Figure size 360x360 with 1 Axes>"
      ]
     },
     "metadata": {
      "needs_background": "light"
     },
     "output_type": "display_data"
    }
   ],
   "source": [
    "plt.figure(figsize=(5,5))\n",
    "sns.displot(data = y_test_proba[:,1], x = 100*y_test_proba[:,1])\n",
    "plt.title('Distribution of probabilities to default')\n",
    "plt.xlabel('Probability to default (%)')\n",
    "plt.ylabel('Counts of clients')"
   ]
  },
  {
   "cell_type": "markdown",
   "metadata": {},
   "source": [
    "### Some basic performance metrics: The confusion matrix"
   ]
  },
  {
   "cell_type": "code",
   "execution_count": 18,
   "metadata": {},
   "outputs": [
    {
     "name": "stdout",
     "output_type": "stream",
     "text": [
      "[[15236   401]\n",
      " [ 3340  1023]]\n"
     ]
    }
   ],
   "source": [
    "from sklearn.metrics import confusion_matrix\n",
    "cm = confusion_matrix(y_test, y_test_predicted)\n",
    "print(cm)"
   ]
  },
  {
   "cell_type": "code",
   "execution_count": 19,
   "metadata": {},
   "outputs": [
    {
     "data": {
      "image/png": "[encoded data removed]",
      "text/plain": [
       "<Figure size 576x576 with 1 Axes>"
      ]
     },
     "metadata": {
      "needs_background": "light"
     },
     "output_type": "display_data"
    }
   ],
   "source": [
    "plt.clf()\n",
    "plt.imshow(cm, interpolation='nearest', cmap=plt.cm.Blues)\n",
    "classNames = ['Negative','Positive']\n",
    "plt.title('Paid or Default Confusion Matrix - Test Data')\n",
    "plt.ylabel('True label')\n",
    "plt.xlabel('Predicted label')\n",
    "tick_marks = np.arange(len(classNames))\n",
    "plt.xticks(tick_marks, classNames, rotation=45)\n",
    "plt.yticks(tick_marks, classNames)\n",
    "s = [['TN','FP'], ['FN', 'TP']]\n",
    "thresh = cm.max() / 2.\n",
    "for i in range(2):\n",
    "    for j in range(2):\n",
    "        plt.text(j,i, str(s[i][j])+\" = \"+str(cm[i][j]), fontsize = 20,\n",
    "                 horizontalalignment=\"center\",\n",
    "                 color=\"white\" if cm[i, j] > thresh else \"black\")\n",
    "plt.show()"
   ]
  },
  {
   "cell_type": "markdown",
   "metadata": {},
   "source": [
    "### Classification report + Accuracy score"
   ]
  },
  {
   "cell_type": "code",
   "execution_count": 20,
   "metadata": {},
   "outputs": [
    {
     "name": "stdout",
     "output_type": "stream",
     "text": [
      "              precision    recall  f1-score   support\n",
      "\n",
      "        Paid       0.82      0.97      0.89     15637\n",
      "     Default       0.72      0.23      0.35      4363\n",
      "\n",
      "    accuracy                           0.81     20000\n",
      "   macro avg       0.77      0.60      0.62     20000\n",
      "weighted avg       0.80      0.81      0.77     20000\n",
      "\n"
     ]
    }
   ],
   "source": [
    "from sklearn.metrics import classification_report\n",
    "from sklearn.metrics import accuracy_score\n",
    "print(classification_report(y_test, y_test_predicted, target_names = ['Paid', 'Default']))"
   ]
  },
  {
   "cell_type": "code",
   "execution_count": 21,
   "metadata": {},
   "outputs": [
    {
     "data": {
      "text/plain": [
       "0.81295"
      ]
     },
     "execution_count": 21,
     "metadata": {},
     "output_type": "execute_result"
    }
   ],
   "source": [
    "accuracy_score(y_test, y_test_predicted, normalize = True) # Change normalize = True/False as well. DIAGONAL OVER ALL"
   ]
  },
  {
   "cell_type": "markdown",
   "metadata": {},
   "source": [
    "### Let's build the ROC curves from scratch"
   ]
  },
  {
   "cell_type": "code",
   "execution_count": 22,
   "metadata": {},
   "outputs": [],
   "source": [
    "from sklearn.metrics import roc_curve, auc"
   ]
  },
  {
   "cell_type": "code",
   "execution_count": 23,
   "metadata": {},
   "outputs": [],
   "source": [
    "# Scores for train set\n",
    "scores_train = LogReg.predict_proba(X_train)[:, 1]\n",
    "# Scores for test set\n",
    "scores_test = LogReg.predict_proba(X_test)[:, 1]"
   ]
  },
  {
   "cell_type": "code",
   "execution_count": 24,
   "metadata": {},
   "outputs": [
    {
     "data": {
      "image/png": "[encoded data removed]",
      "text/plain": [
       "<Figure size 576x576 with 1 Axes>"
      ]
     },
     "metadata": {
      "needs_background": "light"
     },
     "output_type": "display_data"
    }
   ],
   "source": [
    "# ROC Calc Train set\n",
    "fpr_train, tpr_train, _ = roc_curve(y_train, scores_train)\n",
    "# ROC Calc Test set\n",
    "fpr_test, tpr_test, _ = roc_curve(y_test, scores_test)\n",
    "# AUC Calc\n",
    "auc_train = auc(fpr_train, tpr_train)\n",
    "# AUC Calc\n",
    "auc_test  = auc(fpr_test, tpr_test)\n",
    "\n",
    "# Plotting\n",
    "plt.plot(fpr_train, tpr_train, label='Train set | AUC of {:4.3f}'.format(auc_train));\n",
    "plt.plot(fpr_test, tpr_test, label='Test set | AUC of {:4.3f}'.format(auc_test));\n",
    "plt.plot([0,1], [0,1], color = 'k', linestyle = '--', label = 'Random | AUC of 0.5');\n",
    "plt.ylim([0,1.0])\n",
    "plt.xlim([0,1.0])\n",
    "plt.title('Decision Tree ROC curves', fontsize = 18)\n",
    "plt.ylabel('True positive rate', fontsize = 18)\n",
    "plt.xlabel('False positive rate', fontsize = 18)\n",
    "plt.legend()\n",
    "plt.show()"
   ]
  },
  {
   "cell_type": "markdown",
   "metadata": {},
   "source": [
    "### **Decision Boundary:** For any classification problem (binary or multi-class) there is a line or plane (or hypersurface generally) that separates the input space into regions of different classes. Logistic regression is **linear classification** method and the decision boundary is calculated by replacing $P(x) = 0.5 = \\frac{1}{1+e^{-(m_1x_1 + m_2x_2 + ... +b)}}$\n",
    "### The coefficients with the highest values are PAY_0 (5th column) and BILL_AMT1 (11th column). Here, we will plot the decision boundary in the plane of these two variables. Explore the min and max values of these two variables and draw the contour of the probabilities on the plane, along with some labeled data."
   ]
  },
  {
   "cell_type": "code",
   "execution_count": 25,
   "metadata": {},
   "outputs": [
    {
     "data": {
      "text/plain": [
       "array([-1.21379411, -1.23432296, -2.34474266, -2.97314734, -1.57147887,\n",
       "       -1.76484282, -1.55887596, -1.53219171, -1.52194355, -1.53004603,\n",
       "       -1.48604076, -2.94431195, -1.671375  , -2.94567215, -3.31504796,\n",
       "       -2.00087367, -6.35524709, -0.34194162, -0.25698952, -0.29680127,\n",
       "       -0.30806256, -0.31413612, -0.29338206])"
      ]
     },
     "execution_count": 25,
     "metadata": {},
     "output_type": "execute_result"
    }
   ],
   "source": [
    "X_scaled.min(axis=0) # Confirm these values MIN PAY_0: -1.76484282 and MIN BILL_AMT1: -2.94431195"
   ]
  },
  {
   "cell_type": "code",
   "execution_count": 26,
   "metadata": {},
   "outputs": [
    {
     "data": {
      "text/plain": [
       "array([ 6.41652838,  0.81016074,  5.2469701 ,  2.7744096 ,  4.72072881,\n",
       "        7.13367389,  6.79418438,  6.82309081,  7.03150467,  7.29476672,\n",
       "        7.20984992, 12.4029635 , 13.13359571, 23.31819872, 13.18668626,\n",
       "       14.58743208, 15.49528081, 52.39921478, 72.84298641, 50.59528115,\n",
       "       39.3321786 , 27.60362636, 29.44509799])"
      ]
     },
     "execution_count": 26,
     "metadata": {},
     "output_type": "execute_result"
    }
   ],
   "source": [
    "X_scaled.max(axis=0) # Confirm these values MAX PAY_0: 7.13367389 and MAX BILL_AMT1: 12.4029635 "
   ]
  },
  {
   "cell_type": "markdown",
   "metadata": {},
   "source": [
    "### Create a 10x10 grid between the min and max values that we will use to estimate the probabilities for the contour plot."
   ]
  },
  {
   "cell_type": "code",
   "execution_count": 27,
   "metadata": {},
   "outputs": [
    {
     "data": {
      "text/plain": [
       "(100, 2)"
      ]
     },
     "execution_count": 27,
     "metadata": {},
     "output_type": "execute_result"
    }
   ],
   "source": [
    "xx, yy = np.mgrid[-2:8:1.1111, -3:13:1.75] # The steps 1.1111 and 1.75 were selected to create a 10x10 grid\n",
    "grid = np.c_[xx.ravel(), yy.ravel()]\n",
    "grid.shape # Confirm that grid shape is 10x10"
   ]
  },
  {
   "cell_type": "markdown",
   "metadata": {},
   "source": [
    "### We need all 23 variables to predict the probability over the 10x10 grid of PAY_0 and BILL_AMT1. What values should we use for the other 21 variables? I pick the median of each column. Create 100 rows so that they much the 10x10 grid."
   ]
  },
  {
   "cell_type": "code",
   "execution_count": 28,
   "metadata": {},
   "outputs": [
    {
     "data": {
      "text/html": [
       "<div>\n",
       "<style scoped>\n",
       "    .dataframe tbody tr th:only-of-type {\n",
       "        vertical-align: middle;\n",
       "    }\n",
       "\n",
       "    .dataframe tbody tr th {\n",
       "        vertical-align: top;\n",
       "    }\n",
       "\n",
       "    .dataframe thead th {\n",
       "        text-align: right;\n",
       "    }\n",
       "</style>\n",
       "<table border=\"1\" class=\"dataframe\">\n",
       "  <thead>\n",
       "    <tr style=\"text-align: right;\">\n",
       "      <th></th>\n",
       "      <th>0</th>\n",
       "      <th>1</th>\n",
       "      <th>2</th>\n",
       "      <th>3</th>\n",
       "      <th>4</th>\n",
       "      <th>5</th>\n",
       "      <th>6</th>\n",
       "      <th>7</th>\n",
       "      <th>8</th>\n",
       "      <th>9</th>\n",
       "      <th>...</th>\n",
       "      <th>13</th>\n",
       "      <th>14</th>\n",
       "      <th>15</th>\n",
       "      <th>16</th>\n",
       "      <th>17</th>\n",
       "      <th>18</th>\n",
       "      <th>19</th>\n",
       "      <th>20</th>\n",
       "      <th>21</th>\n",
       "      <th>22</th>\n",
       "    </tr>\n",
       "  </thead>\n",
       "  <tbody>\n",
       "    <tr>\n",
       "      <th>0</th>\n",
       "      <td>-0.211833</td>\n",
       "      <td>0.810161</td>\n",
       "      <td>0.185828</td>\n",
       "      <td>0.858557</td>\n",
       "      <td>-0.161156</td>\n",
       "      <td>0.014861</td>\n",
       "      <td>0.111736</td>\n",
       "      <td>0.138865</td>\n",
       "      <td>0.188746</td>\n",
       "      <td>0.234917</td>\n",
       "      <td>...</td>\n",
       "      <td>-0.384778</td>\n",
       "      <td>-0.374923</td>\n",
       "      <td>-0.364002</td>\n",
       "      <td>-0.363655</td>\n",
       "      <td>-0.21467</td>\n",
       "      <td>-0.170012</td>\n",
       "      <td>-0.192494</td>\n",
       "      <td>-0.212313</td>\n",
       "      <td>-0.215465</td>\n",
       "      <td>-0.209004</td>\n",
       "    </tr>\n",
       "    <tr>\n",
       "      <th>1</th>\n",
       "      <td>-0.211833</td>\n",
       "      <td>0.810161</td>\n",
       "      <td>0.185828</td>\n",
       "      <td>0.858557</td>\n",
       "      <td>-0.161156</td>\n",
       "      <td>0.014861</td>\n",
       "      <td>0.111736</td>\n",
       "      <td>0.138865</td>\n",
       "      <td>0.188746</td>\n",
       "      <td>0.234917</td>\n",
       "      <td>...</td>\n",
       "      <td>-0.384778</td>\n",
       "      <td>-0.374923</td>\n",
       "      <td>-0.364002</td>\n",
       "      <td>-0.363655</td>\n",
       "      <td>-0.21467</td>\n",
       "      <td>-0.170012</td>\n",
       "      <td>-0.192494</td>\n",
       "      <td>-0.212313</td>\n",
       "      <td>-0.215465</td>\n",
       "      <td>-0.209004</td>\n",
       "    </tr>\n",
       "    <tr>\n",
       "      <th>2</th>\n",
       "      <td>-0.211833</td>\n",
       "      <td>0.810161</td>\n",
       "      <td>0.185828</td>\n",
       "      <td>0.858557</td>\n",
       "      <td>-0.161156</td>\n",
       "      <td>0.014861</td>\n",
       "      <td>0.111736</td>\n",
       "      <td>0.138865</td>\n",
       "      <td>0.188746</td>\n",
       "      <td>0.234917</td>\n",
       "      <td>...</td>\n",
       "      <td>-0.384778</td>\n",
       "      <td>-0.374923</td>\n",
       "      <td>-0.364002</td>\n",
       "      <td>-0.363655</td>\n",
       "      <td>-0.21467</td>\n",
       "      <td>-0.170012</td>\n",
       "      <td>-0.192494</td>\n",
       "      <td>-0.212313</td>\n",
       "      <td>-0.215465</td>\n",
       "      <td>-0.209004</td>\n",
       "    </tr>\n",
       "    <tr>\n",
       "      <th>3</th>\n",
       "      <td>-0.211833</td>\n",
       "      <td>0.810161</td>\n",
       "      <td>0.185828</td>\n",
       "      <td>0.858557</td>\n",
       "      <td>-0.161156</td>\n",
       "      <td>0.014861</td>\n",
       "      <td>0.111736</td>\n",
       "      <td>0.138865</td>\n",
       "      <td>0.188746</td>\n",
       "      <td>0.234917</td>\n",
       "      <td>...</td>\n",
       "      <td>-0.384778</td>\n",
       "      <td>-0.374923</td>\n",
       "      <td>-0.364002</td>\n",
       "      <td>-0.363655</td>\n",
       "      <td>-0.21467</td>\n",
       "      <td>-0.170012</td>\n",
       "      <td>-0.192494</td>\n",
       "      <td>-0.212313</td>\n",
       "      <td>-0.215465</td>\n",
       "      <td>-0.209004</td>\n",
       "    </tr>\n",
       "    <tr>\n",
       "      <th>4</th>\n",
       "      <td>-0.211833</td>\n",
       "      <td>0.810161</td>\n",
       "      <td>0.185828</td>\n",
       "      <td>0.858557</td>\n",
       "      <td>-0.161156</td>\n",
       "      <td>0.014861</td>\n",
       "      <td>0.111736</td>\n",
       "      <td>0.138865</td>\n",
       "      <td>0.188746</td>\n",
       "      <td>0.234917</td>\n",
       "      <td>...</td>\n",
       "      <td>-0.384778</td>\n",
       "      <td>-0.374923</td>\n",
       "      <td>-0.364002</td>\n",
       "      <td>-0.363655</td>\n",
       "      <td>-0.21467</td>\n",
       "      <td>-0.170012</td>\n",
       "      <td>-0.192494</td>\n",
       "      <td>-0.212313</td>\n",
       "      <td>-0.215465</td>\n",
       "      <td>-0.209004</td>\n",
       "    </tr>\n",
       "    <tr>\n",
       "      <th>...</th>\n",
       "      <td>...</td>\n",
       "      <td>...</td>\n",
       "      <td>...</td>\n",
       "      <td>...</td>\n",
       "      <td>...</td>\n",
       "      <td>...</td>\n",
       "      <td>...</td>\n",
       "      <td>...</td>\n",
       "      <td>...</td>\n",
       "      <td>...</td>\n",
       "      <td>...</td>\n",
       "      <td>...</td>\n",
       "      <td>...</td>\n",
       "      <td>...</td>\n",
       "      <td>...</td>\n",
       "      <td>...</td>\n",
       "      <td>...</td>\n",
       "      <td>...</td>\n",
       "      <td>...</td>\n",
       "      <td>...</td>\n",
       "      <td>...</td>\n",
       "    </tr>\n",
       "    <tr>\n",
       "      <th>95</th>\n",
       "      <td>-0.211833</td>\n",
       "      <td>0.810161</td>\n",
       "      <td>0.185828</td>\n",
       "      <td>0.858557</td>\n",
       "      <td>-0.161156</td>\n",
       "      <td>0.014861</td>\n",
       "      <td>0.111736</td>\n",
       "      <td>0.138865</td>\n",
       "      <td>0.188746</td>\n",
       "      <td>0.234917</td>\n",
       "      <td>...</td>\n",
       "      <td>-0.384778</td>\n",
       "      <td>-0.374923</td>\n",
       "      <td>-0.364002</td>\n",
       "      <td>-0.363655</td>\n",
       "      <td>-0.21467</td>\n",
       "      <td>-0.170012</td>\n",
       "      <td>-0.192494</td>\n",
       "      <td>-0.212313</td>\n",
       "      <td>-0.215465</td>\n",
       "      <td>-0.209004</td>\n",
       "    </tr>\n",
       "    <tr>\n",
       "      <th>96</th>\n",
       "      <td>-0.211833</td>\n",
       "      <td>0.810161</td>\n",
       "      <td>0.185828</td>\n",
       "      <td>0.858557</td>\n",
       "      <td>-0.161156</td>\n",
       "      <td>0.014861</td>\n",
       "      <td>0.111736</td>\n",
       "      <td>0.138865</td>\n",
       "      <td>0.188746</td>\n",
       "      <td>0.234917</td>\n",
       "      <td>...</td>\n",
       "      <td>-0.384778</td>\n",
       "      <td>-0.374923</td>\n",
       "      <td>-0.364002</td>\n",
       "      <td>-0.363655</td>\n",
       "      <td>-0.21467</td>\n",
       "      <td>-0.170012</td>\n",
       "      <td>-0.192494</td>\n",
       "      <td>-0.212313</td>\n",
       "      <td>-0.215465</td>\n",
       "      <td>-0.209004</td>\n",
       "    </tr>\n",
       "    <tr>\n",
       "      <th>97</th>\n",
       "      <td>-0.211833</td>\n",
       "      <td>0.810161</td>\n",
       "      <td>0.185828</td>\n",
       "      <td>0.858557</td>\n",
       "      <td>-0.161156</td>\n",
       "      <td>0.014861</td>\n",
       "      <td>0.111736</td>\n",
       "      <td>0.138865</td>\n",
       "      <td>0.188746</td>\n",
       "      <td>0.234917</td>\n",
       "      <td>...</td>\n",
       "      <td>-0.384778</td>\n",
       "      <td>-0.374923</td>\n",
       "      <td>-0.364002</td>\n",
       "      <td>-0.363655</td>\n",
       "      <td>-0.21467</td>\n",
       "      <td>-0.170012</td>\n",
       "      <td>-0.192494</td>\n",
       "      <td>-0.212313</td>\n",
       "      <td>-0.215465</td>\n",
       "      <td>-0.209004</td>\n",
       "    </tr>\n",
       "    <tr>\n",
       "      <th>98</th>\n",
       "      <td>-0.211833</td>\n",
       "      <td>0.810161</td>\n",
       "      <td>0.185828</td>\n",
       "      <td>0.858557</td>\n",
       "      <td>-0.161156</td>\n",
       "      <td>0.014861</td>\n",
       "      <td>0.111736</td>\n",
       "      <td>0.138865</td>\n",
       "      <td>0.188746</td>\n",
       "      <td>0.234917</td>\n",
       "      <td>...</td>\n",
       "      <td>-0.384778</td>\n",
       "      <td>-0.374923</td>\n",
       "      <td>-0.364002</td>\n",
       "      <td>-0.363655</td>\n",
       "      <td>-0.21467</td>\n",
       "      <td>-0.170012</td>\n",
       "      <td>-0.192494</td>\n",
       "      <td>-0.212313</td>\n",
       "      <td>-0.215465</td>\n",
       "      <td>-0.209004</td>\n",
       "    </tr>\n",
       "    <tr>\n",
       "      <th>99</th>\n",
       "      <td>-0.211833</td>\n",
       "      <td>0.810161</td>\n",
       "      <td>0.185828</td>\n",
       "      <td>0.858557</td>\n",
       "      <td>-0.161156</td>\n",
       "      <td>0.014861</td>\n",
       "      <td>0.111736</td>\n",
       "      <td>0.138865</td>\n",
       "      <td>0.188746</td>\n",
       "      <td>0.234917</td>\n",
       "      <td>...</td>\n",
       "      <td>-0.384778</td>\n",
       "      <td>-0.374923</td>\n",
       "      <td>-0.364002</td>\n",
       "      <td>-0.363655</td>\n",
       "      <td>-0.21467</td>\n",
       "      <td>-0.170012</td>\n",
       "      <td>-0.192494</td>\n",
       "      <td>-0.212313</td>\n",
       "      <td>-0.215465</td>\n",
       "      <td>-0.209004</td>\n",
       "    </tr>\n",
       "  </tbody>\n",
       "</table>\n",
       "<p>100 rows × 23 columns</p>\n",
       "</div>"
      ],
      "text/plain": [
       "          0         1         2         3         4         5         6   \\\n",
       "0  -0.211833  0.810161  0.185828  0.858557 -0.161156  0.014861  0.111736   \n",
       "1  -0.211833  0.810161  0.185828  0.858557 -0.161156  0.014861  0.111736   \n",
       "2  -0.211833  0.810161  0.185828  0.858557 -0.161156  0.014861  0.111736   \n",
       "3  -0.211833  0.810161  0.185828  0.858557 -0.161156  0.014861  0.111736   \n",
       "4  -0.211833  0.810161  0.185828  0.858557 -0.161156  0.014861  0.111736   \n",
       "..       ...       ...       ...       ...       ...       ...       ...   \n",
       "95 -0.211833  0.810161  0.185828  0.858557 -0.161156  0.014861  0.111736   \n",
       "96 -0.211833  0.810161  0.185828  0.858557 -0.161156  0.014861  0.111736   \n",
       "97 -0.211833  0.810161  0.185828  0.858557 -0.161156  0.014861  0.111736   \n",
       "98 -0.211833  0.810161  0.185828  0.858557 -0.161156  0.014861  0.111736   \n",
       "99 -0.211833  0.810161  0.185828  0.858557 -0.161156  0.014861  0.111736   \n",
       "\n",
       "          7         8         9   ...        13        14        15        16  \\\n",
       "0   0.138865  0.188746  0.234917  ... -0.384778 -0.374923 -0.364002 -0.363655   \n",
       "1   0.138865  0.188746  0.234917  ... -0.384778 -0.374923 -0.364002 -0.363655   \n",
       "2   0.138865  0.188746  0.234917  ... -0.384778 -0.374923 -0.364002 -0.363655   \n",
       "3   0.138865  0.188746  0.234917  ... -0.384778 -0.374923 -0.364002 -0.363655   \n",
       "4   0.138865  0.188746  0.234917  ... -0.384778 -0.374923 -0.364002 -0.363655   \n",
       "..       ...       ...       ...  ...       ...       ...       ...       ...   \n",
       "95  0.138865  0.188746  0.234917  ... -0.384778 -0.374923 -0.364002 -0.363655   \n",
       "96  0.138865  0.188746  0.234917  ... -0.384778 -0.374923 -0.364002 -0.363655   \n",
       "97  0.138865  0.188746  0.234917  ... -0.384778 -0.374923 -0.364002 -0.363655   \n",
       "98  0.138865  0.188746  0.234917  ... -0.384778 -0.374923 -0.364002 -0.363655   \n",
       "99  0.138865  0.188746  0.234917  ... -0.384778 -0.374923 -0.364002 -0.363655   \n",
       "\n",
       "         17        18        19        20        21        22  \n",
       "0  -0.21467 -0.170012 -0.192494 -0.212313 -0.215465 -0.209004  \n",
       "1  -0.21467 -0.170012 -0.192494 -0.212313 -0.215465 -0.209004  \n",
       "2  -0.21467 -0.170012 -0.192494 -0.212313 -0.215465 -0.209004  \n",
       "3  -0.21467 -0.170012 -0.192494 -0.212313 -0.215465 -0.209004  \n",
       "4  -0.21467 -0.170012 -0.192494 -0.212313 -0.215465 -0.209004  \n",
       "..      ...       ...       ...       ...       ...       ...  \n",
       "95 -0.21467 -0.170012 -0.192494 -0.212313 -0.215465 -0.209004  \n",
       "96 -0.21467 -0.170012 -0.192494 -0.212313 -0.215465 -0.209004  \n",
       "97 -0.21467 -0.170012 -0.192494 -0.212313 -0.215465 -0.209004  \n",
       "98 -0.21467 -0.170012 -0.192494 -0.212313 -0.215465 -0.209004  \n",
       "99 -0.21467 -0.170012 -0.192494 -0.212313 -0.215465 -0.209004  \n",
       "\n",
       "[100 rows x 23 columns]"
      ]
     },
     "execution_count": 28,
     "metadata": {},
     "output_type": "execute_result"
    }
   ],
   "source": [
    "# np.ones is a table full of ones with 100x23 dimension\n",
    "# np.median calculates the median of every column in the X_train along axis=0 (i.e. column)\n",
    "median_inputs = np.ones((100, 23)) * np.median(X_train, axis=0) \n",
    "pd.DataFrame(median_inputs) # Convert to pandas is not necessary. Just doing it here to have a nice view of the table"
   ]
  },
  {
   "cell_type": "code",
   "execution_count": 29,
   "metadata": {},
   "outputs": [
    {
     "data": {
      "text/html": [
       "<style  type=\"text/css\" >\n",
       "    #T_2bb59666_18b1_11eb_97b5_ae06ac8367ebrow0_col5 {\n",
       "            background:  grey;\n",
       "        }    #T_2bb59666_18b1_11eb_97b5_ae06ac8367ebrow0_col11 {\n",
       "            background:  grey;\n",
       "        }    #T_2bb59666_18b1_11eb_97b5_ae06ac8367ebrow1_col5 {\n",
       "            background:  grey;\n",
       "        }    #T_2bb59666_18b1_11eb_97b5_ae06ac8367ebrow1_col11 {\n",
       "            background:  grey;\n",
       "        }    #T_2bb59666_18b1_11eb_97b5_ae06ac8367ebrow2_col5 {\n",
       "            background:  grey;\n",
       "        }    #T_2bb59666_18b1_11eb_97b5_ae06ac8367ebrow2_col11 {\n",
       "            background:  grey;\n",
       "        }    #T_2bb59666_18b1_11eb_97b5_ae06ac8367ebrow3_col5 {\n",
       "            background:  grey;\n",
       "        }    #T_2bb59666_18b1_11eb_97b5_ae06ac8367ebrow3_col11 {\n",
       "            background:  grey;\n",
       "        }    #T_2bb59666_18b1_11eb_97b5_ae06ac8367ebrow4_col5 {\n",
       "            background:  grey;\n",
       "        }    #T_2bb59666_18b1_11eb_97b5_ae06ac8367ebrow4_col11 {\n",
       "            background:  grey;\n",
       "        }    #T_2bb59666_18b1_11eb_97b5_ae06ac8367ebrow5_col5 {\n",
       "            background:  grey;\n",
       "        }    #T_2bb59666_18b1_11eb_97b5_ae06ac8367ebrow5_col11 {\n",
       "            background:  grey;\n",
       "        }    #T_2bb59666_18b1_11eb_97b5_ae06ac8367ebrow6_col5 {\n",
       "            background:  grey;\n",
       "        }    #T_2bb59666_18b1_11eb_97b5_ae06ac8367ebrow6_col11 {\n",
       "            background:  grey;\n",
       "        }    #T_2bb59666_18b1_11eb_97b5_ae06ac8367ebrow7_col5 {\n",
       "            background:  grey;\n",
       "        }    #T_2bb59666_18b1_11eb_97b5_ae06ac8367ebrow7_col11 {\n",
       "            background:  grey;\n",
       "        }    #T_2bb59666_18b1_11eb_97b5_ae06ac8367ebrow8_col5 {\n",
       "            background:  grey;\n",
       "        }    #T_2bb59666_18b1_11eb_97b5_ae06ac8367ebrow8_col11 {\n",
       "            background:  grey;\n",
       "        }    #T_2bb59666_18b1_11eb_97b5_ae06ac8367ebrow9_col5 {\n",
       "            background:  grey;\n",
       "        }    #T_2bb59666_18b1_11eb_97b5_ae06ac8367ebrow9_col11 {\n",
       "            background:  grey;\n",
       "        }    #T_2bb59666_18b1_11eb_97b5_ae06ac8367ebrow10_col5 {\n",
       "            background:  grey;\n",
       "        }    #T_2bb59666_18b1_11eb_97b5_ae06ac8367ebrow10_col11 {\n",
       "            background:  grey;\n",
       "        }    #T_2bb59666_18b1_11eb_97b5_ae06ac8367ebrow11_col5 {\n",
       "            background:  grey;\n",
       "        }    #T_2bb59666_18b1_11eb_97b5_ae06ac8367ebrow11_col11 {\n",
       "            background:  grey;\n",
       "        }    #T_2bb59666_18b1_11eb_97b5_ae06ac8367ebrow12_col5 {\n",
       "            background:  grey;\n",
       "        }    #T_2bb59666_18b1_11eb_97b5_ae06ac8367ebrow12_col11 {\n",
       "            background:  grey;\n",
       "        }</style><table id=\"T_2bb59666_18b1_11eb_97b5_ae06ac8367eb\" ><thead>    <tr>        <th class=\"blank level0\" ></th>        <th class=\"col_heading level0 col0\" >0</th>        <th class=\"col_heading level0 col1\" >1</th>        <th class=\"col_heading level0 col2\" >2</th>        <th class=\"col_heading level0 col3\" >3</th>        <th class=\"col_heading level0 col4\" >4</th>        <th class=\"col_heading level0 col5\" >5</th>        <th class=\"col_heading level0 col6\" >6</th>        <th class=\"col_heading level0 col7\" >7</th>        <th class=\"col_heading level0 col8\" >8</th>        <th class=\"col_heading level0 col9\" >9</th>        <th class=\"col_heading level0 col10\" >10</th>        <th class=\"col_heading level0 col11\" >11</th>    </tr></thead><tbody>\n",
       "                <tr>\n",
       "                        <th id=\"T_2bb59666_18b1_11eb_97b5_ae06ac8367eblevel0_row0\" class=\"row_heading level0 row0\" >0</th>\n",
       "                        <td id=\"T_2bb59666_18b1_11eb_97b5_ae06ac8367ebrow0_col0\" class=\"data row0 col0\" >-0.211833</td>\n",
       "                        <td id=\"T_2bb59666_18b1_11eb_97b5_ae06ac8367ebrow0_col1\" class=\"data row0 col1\" >0.810161</td>\n",
       "                        <td id=\"T_2bb59666_18b1_11eb_97b5_ae06ac8367ebrow0_col2\" class=\"data row0 col2\" >0.185828</td>\n",
       "                        <td id=\"T_2bb59666_18b1_11eb_97b5_ae06ac8367ebrow0_col3\" class=\"data row0 col3\" >0.858557</td>\n",
       "                        <td id=\"T_2bb59666_18b1_11eb_97b5_ae06ac8367ebrow0_col4\" class=\"data row0 col4\" >-0.161156</td>\n",
       "                        <td id=\"T_2bb59666_18b1_11eb_97b5_ae06ac8367ebrow0_col5\" class=\"data row0 col5\" >-2.000000</td>\n",
       "                        <td id=\"T_2bb59666_18b1_11eb_97b5_ae06ac8367ebrow0_col6\" class=\"data row0 col6\" >0.111736</td>\n",
       "                        <td id=\"T_2bb59666_18b1_11eb_97b5_ae06ac8367ebrow0_col7\" class=\"data row0 col7\" >0.138865</td>\n",
       "                        <td id=\"T_2bb59666_18b1_11eb_97b5_ae06ac8367ebrow0_col8\" class=\"data row0 col8\" >0.188746</td>\n",
       "                        <td id=\"T_2bb59666_18b1_11eb_97b5_ae06ac8367ebrow0_col9\" class=\"data row0 col9\" >0.234917</td>\n",
       "                        <td id=\"T_2bb59666_18b1_11eb_97b5_ae06ac8367ebrow0_col10\" class=\"data row0 col10\" >0.253137</td>\n",
       "                        <td id=\"T_2bb59666_18b1_11eb_97b5_ae06ac8367ebrow0_col11\" class=\"data row0 col11\" >-3.000000</td>\n",
       "            </tr>\n",
       "            <tr>\n",
       "                        <th id=\"T_2bb59666_18b1_11eb_97b5_ae06ac8367eblevel0_row1\" class=\"row_heading level0 row1\" >1</th>\n",
       "                        <td id=\"T_2bb59666_18b1_11eb_97b5_ae06ac8367ebrow1_col0\" class=\"data row1 col0\" >-0.211833</td>\n",
       "                        <td id=\"T_2bb59666_18b1_11eb_97b5_ae06ac8367ebrow1_col1\" class=\"data row1 col1\" >0.810161</td>\n",
       "                        <td id=\"T_2bb59666_18b1_11eb_97b5_ae06ac8367ebrow1_col2\" class=\"data row1 col2\" >0.185828</td>\n",
       "                        <td id=\"T_2bb59666_18b1_11eb_97b5_ae06ac8367ebrow1_col3\" class=\"data row1 col3\" >0.858557</td>\n",
       "                        <td id=\"T_2bb59666_18b1_11eb_97b5_ae06ac8367ebrow1_col4\" class=\"data row1 col4\" >-0.161156</td>\n",
       "                        <td id=\"T_2bb59666_18b1_11eb_97b5_ae06ac8367ebrow1_col5\" class=\"data row1 col5\" >-2.000000</td>\n",
       "                        <td id=\"T_2bb59666_18b1_11eb_97b5_ae06ac8367ebrow1_col6\" class=\"data row1 col6\" >0.111736</td>\n",
       "                        <td id=\"T_2bb59666_18b1_11eb_97b5_ae06ac8367ebrow1_col7\" class=\"data row1 col7\" >0.138865</td>\n",
       "                        <td id=\"T_2bb59666_18b1_11eb_97b5_ae06ac8367ebrow1_col8\" class=\"data row1 col8\" >0.188746</td>\n",
       "                        <td id=\"T_2bb59666_18b1_11eb_97b5_ae06ac8367ebrow1_col9\" class=\"data row1 col9\" >0.234917</td>\n",
       "                        <td id=\"T_2bb59666_18b1_11eb_97b5_ae06ac8367ebrow1_col10\" class=\"data row1 col10\" >0.253137</td>\n",
       "                        <td id=\"T_2bb59666_18b1_11eb_97b5_ae06ac8367ebrow1_col11\" class=\"data row1 col11\" >-1.250000</td>\n",
       "            </tr>\n",
       "            <tr>\n",
       "                        <th id=\"T_2bb59666_18b1_11eb_97b5_ae06ac8367eblevel0_row2\" class=\"row_heading level0 row2\" >2</th>\n",
       "                        <td id=\"T_2bb59666_18b1_11eb_97b5_ae06ac8367ebrow2_col0\" class=\"data row2 col0\" >-0.211833</td>\n",
       "                        <td id=\"T_2bb59666_18b1_11eb_97b5_ae06ac8367ebrow2_col1\" class=\"data row2 col1\" >0.810161</td>\n",
       "                        <td id=\"T_2bb59666_18b1_11eb_97b5_ae06ac8367ebrow2_col2\" class=\"data row2 col2\" >0.185828</td>\n",
       "                        <td id=\"T_2bb59666_18b1_11eb_97b5_ae06ac8367ebrow2_col3\" class=\"data row2 col3\" >0.858557</td>\n",
       "                        <td id=\"T_2bb59666_18b1_11eb_97b5_ae06ac8367ebrow2_col4\" class=\"data row2 col4\" >-0.161156</td>\n",
       "                        <td id=\"T_2bb59666_18b1_11eb_97b5_ae06ac8367ebrow2_col5\" class=\"data row2 col5\" >-2.000000</td>\n",
       "                        <td id=\"T_2bb59666_18b1_11eb_97b5_ae06ac8367ebrow2_col6\" class=\"data row2 col6\" >0.111736</td>\n",
       "                        <td id=\"T_2bb59666_18b1_11eb_97b5_ae06ac8367ebrow2_col7\" class=\"data row2 col7\" >0.138865</td>\n",
       "                        <td id=\"T_2bb59666_18b1_11eb_97b5_ae06ac8367ebrow2_col8\" class=\"data row2 col8\" >0.188746</td>\n",
       "                        <td id=\"T_2bb59666_18b1_11eb_97b5_ae06ac8367ebrow2_col9\" class=\"data row2 col9\" >0.234917</td>\n",
       "                        <td id=\"T_2bb59666_18b1_11eb_97b5_ae06ac8367ebrow2_col10\" class=\"data row2 col10\" >0.253137</td>\n",
       "                        <td id=\"T_2bb59666_18b1_11eb_97b5_ae06ac8367ebrow2_col11\" class=\"data row2 col11\" >0.500000</td>\n",
       "            </tr>\n",
       "            <tr>\n",
       "                        <th id=\"T_2bb59666_18b1_11eb_97b5_ae06ac8367eblevel0_row3\" class=\"row_heading level0 row3\" >3</th>\n",
       "                        <td id=\"T_2bb59666_18b1_11eb_97b5_ae06ac8367ebrow3_col0\" class=\"data row3 col0\" >-0.211833</td>\n",
       "                        <td id=\"T_2bb59666_18b1_11eb_97b5_ae06ac8367ebrow3_col1\" class=\"data row3 col1\" >0.810161</td>\n",
       "                        <td id=\"T_2bb59666_18b1_11eb_97b5_ae06ac8367ebrow3_col2\" class=\"data row3 col2\" >0.185828</td>\n",
       "                        <td id=\"T_2bb59666_18b1_11eb_97b5_ae06ac8367ebrow3_col3\" class=\"data row3 col3\" >0.858557</td>\n",
       "                        <td id=\"T_2bb59666_18b1_11eb_97b5_ae06ac8367ebrow3_col4\" class=\"data row3 col4\" >-0.161156</td>\n",
       "                        <td id=\"T_2bb59666_18b1_11eb_97b5_ae06ac8367ebrow3_col5\" class=\"data row3 col5\" >-2.000000</td>\n",
       "                        <td id=\"T_2bb59666_18b1_11eb_97b5_ae06ac8367ebrow3_col6\" class=\"data row3 col6\" >0.111736</td>\n",
       "                        <td id=\"T_2bb59666_18b1_11eb_97b5_ae06ac8367ebrow3_col7\" class=\"data row3 col7\" >0.138865</td>\n",
       "                        <td id=\"T_2bb59666_18b1_11eb_97b5_ae06ac8367ebrow3_col8\" class=\"data row3 col8\" >0.188746</td>\n",
       "                        <td id=\"T_2bb59666_18b1_11eb_97b5_ae06ac8367ebrow3_col9\" class=\"data row3 col9\" >0.234917</td>\n",
       "                        <td id=\"T_2bb59666_18b1_11eb_97b5_ae06ac8367ebrow3_col10\" class=\"data row3 col10\" >0.253137</td>\n",
       "                        <td id=\"T_2bb59666_18b1_11eb_97b5_ae06ac8367ebrow3_col11\" class=\"data row3 col11\" >2.250000</td>\n",
       "            </tr>\n",
       "            <tr>\n",
       "                        <th id=\"T_2bb59666_18b1_11eb_97b5_ae06ac8367eblevel0_row4\" class=\"row_heading level0 row4\" >4</th>\n",
       "                        <td id=\"T_2bb59666_18b1_11eb_97b5_ae06ac8367ebrow4_col0\" class=\"data row4 col0\" >-0.211833</td>\n",
       "                        <td id=\"T_2bb59666_18b1_11eb_97b5_ae06ac8367ebrow4_col1\" class=\"data row4 col1\" >0.810161</td>\n",
       "                        <td id=\"T_2bb59666_18b1_11eb_97b5_ae06ac8367ebrow4_col2\" class=\"data row4 col2\" >0.185828</td>\n",
       "                        <td id=\"T_2bb59666_18b1_11eb_97b5_ae06ac8367ebrow4_col3\" class=\"data row4 col3\" >0.858557</td>\n",
       "                        <td id=\"T_2bb59666_18b1_11eb_97b5_ae06ac8367ebrow4_col4\" class=\"data row4 col4\" >-0.161156</td>\n",
       "                        <td id=\"T_2bb59666_18b1_11eb_97b5_ae06ac8367ebrow4_col5\" class=\"data row4 col5\" >-2.000000</td>\n",
       "                        <td id=\"T_2bb59666_18b1_11eb_97b5_ae06ac8367ebrow4_col6\" class=\"data row4 col6\" >0.111736</td>\n",
       "                        <td id=\"T_2bb59666_18b1_11eb_97b5_ae06ac8367ebrow4_col7\" class=\"data row4 col7\" >0.138865</td>\n",
       "                        <td id=\"T_2bb59666_18b1_11eb_97b5_ae06ac8367ebrow4_col8\" class=\"data row4 col8\" >0.188746</td>\n",
       "                        <td id=\"T_2bb59666_18b1_11eb_97b5_ae06ac8367ebrow4_col9\" class=\"data row4 col9\" >0.234917</td>\n",
       "                        <td id=\"T_2bb59666_18b1_11eb_97b5_ae06ac8367ebrow4_col10\" class=\"data row4 col10\" >0.253137</td>\n",
       "                        <td id=\"T_2bb59666_18b1_11eb_97b5_ae06ac8367ebrow4_col11\" class=\"data row4 col11\" >4.000000</td>\n",
       "            </tr>\n",
       "            <tr>\n",
       "                        <th id=\"T_2bb59666_18b1_11eb_97b5_ae06ac8367eblevel0_row5\" class=\"row_heading level0 row5\" >5</th>\n",
       "                        <td id=\"T_2bb59666_18b1_11eb_97b5_ae06ac8367ebrow5_col0\" class=\"data row5 col0\" >-0.211833</td>\n",
       "                        <td id=\"T_2bb59666_18b1_11eb_97b5_ae06ac8367ebrow5_col1\" class=\"data row5 col1\" >0.810161</td>\n",
       "                        <td id=\"T_2bb59666_18b1_11eb_97b5_ae06ac8367ebrow5_col2\" class=\"data row5 col2\" >0.185828</td>\n",
       "                        <td id=\"T_2bb59666_18b1_11eb_97b5_ae06ac8367ebrow5_col3\" class=\"data row5 col3\" >0.858557</td>\n",
       "                        <td id=\"T_2bb59666_18b1_11eb_97b5_ae06ac8367ebrow5_col4\" class=\"data row5 col4\" >-0.161156</td>\n",
       "                        <td id=\"T_2bb59666_18b1_11eb_97b5_ae06ac8367ebrow5_col5\" class=\"data row5 col5\" >-2.000000</td>\n",
       "                        <td id=\"T_2bb59666_18b1_11eb_97b5_ae06ac8367ebrow5_col6\" class=\"data row5 col6\" >0.111736</td>\n",
       "                        <td id=\"T_2bb59666_18b1_11eb_97b5_ae06ac8367ebrow5_col7\" class=\"data row5 col7\" >0.138865</td>\n",
       "                        <td id=\"T_2bb59666_18b1_11eb_97b5_ae06ac8367ebrow5_col8\" class=\"data row5 col8\" >0.188746</td>\n",
       "                        <td id=\"T_2bb59666_18b1_11eb_97b5_ae06ac8367ebrow5_col9\" class=\"data row5 col9\" >0.234917</td>\n",
       "                        <td id=\"T_2bb59666_18b1_11eb_97b5_ae06ac8367ebrow5_col10\" class=\"data row5 col10\" >0.253137</td>\n",
       "                        <td id=\"T_2bb59666_18b1_11eb_97b5_ae06ac8367ebrow5_col11\" class=\"data row5 col11\" >5.750000</td>\n",
       "            </tr>\n",
       "            <tr>\n",
       "                        <th id=\"T_2bb59666_18b1_11eb_97b5_ae06ac8367eblevel0_row6\" class=\"row_heading level0 row6\" >6</th>\n",
       "                        <td id=\"T_2bb59666_18b1_11eb_97b5_ae06ac8367ebrow6_col0\" class=\"data row6 col0\" >-0.211833</td>\n",
       "                        <td id=\"T_2bb59666_18b1_11eb_97b5_ae06ac8367ebrow6_col1\" class=\"data row6 col1\" >0.810161</td>\n",
       "                        <td id=\"T_2bb59666_18b1_11eb_97b5_ae06ac8367ebrow6_col2\" class=\"data row6 col2\" >0.185828</td>\n",
       "                        <td id=\"T_2bb59666_18b1_11eb_97b5_ae06ac8367ebrow6_col3\" class=\"data row6 col3\" >0.858557</td>\n",
       "                        <td id=\"T_2bb59666_18b1_11eb_97b5_ae06ac8367ebrow6_col4\" class=\"data row6 col4\" >-0.161156</td>\n",
       "                        <td id=\"T_2bb59666_18b1_11eb_97b5_ae06ac8367ebrow6_col5\" class=\"data row6 col5\" >-2.000000</td>\n",
       "                        <td id=\"T_2bb59666_18b1_11eb_97b5_ae06ac8367ebrow6_col6\" class=\"data row6 col6\" >0.111736</td>\n",
       "                        <td id=\"T_2bb59666_18b1_11eb_97b5_ae06ac8367ebrow6_col7\" class=\"data row6 col7\" >0.138865</td>\n",
       "                        <td id=\"T_2bb59666_18b1_11eb_97b5_ae06ac8367ebrow6_col8\" class=\"data row6 col8\" >0.188746</td>\n",
       "                        <td id=\"T_2bb59666_18b1_11eb_97b5_ae06ac8367ebrow6_col9\" class=\"data row6 col9\" >0.234917</td>\n",
       "                        <td id=\"T_2bb59666_18b1_11eb_97b5_ae06ac8367ebrow6_col10\" class=\"data row6 col10\" >0.253137</td>\n",
       "                        <td id=\"T_2bb59666_18b1_11eb_97b5_ae06ac8367ebrow6_col11\" class=\"data row6 col11\" >7.500000</td>\n",
       "            </tr>\n",
       "            <tr>\n",
       "                        <th id=\"T_2bb59666_18b1_11eb_97b5_ae06ac8367eblevel0_row7\" class=\"row_heading level0 row7\" >7</th>\n",
       "                        <td id=\"T_2bb59666_18b1_11eb_97b5_ae06ac8367ebrow7_col0\" class=\"data row7 col0\" >-0.211833</td>\n",
       "                        <td id=\"T_2bb59666_18b1_11eb_97b5_ae06ac8367ebrow7_col1\" class=\"data row7 col1\" >0.810161</td>\n",
       "                        <td id=\"T_2bb59666_18b1_11eb_97b5_ae06ac8367ebrow7_col2\" class=\"data row7 col2\" >0.185828</td>\n",
       "                        <td id=\"T_2bb59666_18b1_11eb_97b5_ae06ac8367ebrow7_col3\" class=\"data row7 col3\" >0.858557</td>\n",
       "                        <td id=\"T_2bb59666_18b1_11eb_97b5_ae06ac8367ebrow7_col4\" class=\"data row7 col4\" >-0.161156</td>\n",
       "                        <td id=\"T_2bb59666_18b1_11eb_97b5_ae06ac8367ebrow7_col5\" class=\"data row7 col5\" >-2.000000</td>\n",
       "                        <td id=\"T_2bb59666_18b1_11eb_97b5_ae06ac8367ebrow7_col6\" class=\"data row7 col6\" >0.111736</td>\n",
       "                        <td id=\"T_2bb59666_18b1_11eb_97b5_ae06ac8367ebrow7_col7\" class=\"data row7 col7\" >0.138865</td>\n",
       "                        <td id=\"T_2bb59666_18b1_11eb_97b5_ae06ac8367ebrow7_col8\" class=\"data row7 col8\" >0.188746</td>\n",
       "                        <td id=\"T_2bb59666_18b1_11eb_97b5_ae06ac8367ebrow7_col9\" class=\"data row7 col9\" >0.234917</td>\n",
       "                        <td id=\"T_2bb59666_18b1_11eb_97b5_ae06ac8367ebrow7_col10\" class=\"data row7 col10\" >0.253137</td>\n",
       "                        <td id=\"T_2bb59666_18b1_11eb_97b5_ae06ac8367ebrow7_col11\" class=\"data row7 col11\" >9.250000</td>\n",
       "            </tr>\n",
       "            <tr>\n",
       "                        <th id=\"T_2bb59666_18b1_11eb_97b5_ae06ac8367eblevel0_row8\" class=\"row_heading level0 row8\" >8</th>\n",
       "                        <td id=\"T_2bb59666_18b1_11eb_97b5_ae06ac8367ebrow8_col0\" class=\"data row8 col0\" >-0.211833</td>\n",
       "                        <td id=\"T_2bb59666_18b1_11eb_97b5_ae06ac8367ebrow8_col1\" class=\"data row8 col1\" >0.810161</td>\n",
       "                        <td id=\"T_2bb59666_18b1_11eb_97b5_ae06ac8367ebrow8_col2\" class=\"data row8 col2\" >0.185828</td>\n",
       "                        <td id=\"T_2bb59666_18b1_11eb_97b5_ae06ac8367ebrow8_col3\" class=\"data row8 col3\" >0.858557</td>\n",
       "                        <td id=\"T_2bb59666_18b1_11eb_97b5_ae06ac8367ebrow8_col4\" class=\"data row8 col4\" >-0.161156</td>\n",
       "                        <td id=\"T_2bb59666_18b1_11eb_97b5_ae06ac8367ebrow8_col5\" class=\"data row8 col5\" >-2.000000</td>\n",
       "                        <td id=\"T_2bb59666_18b1_11eb_97b5_ae06ac8367ebrow8_col6\" class=\"data row8 col6\" >0.111736</td>\n",
       "                        <td id=\"T_2bb59666_18b1_11eb_97b5_ae06ac8367ebrow8_col7\" class=\"data row8 col7\" >0.138865</td>\n",
       "                        <td id=\"T_2bb59666_18b1_11eb_97b5_ae06ac8367ebrow8_col8\" class=\"data row8 col8\" >0.188746</td>\n",
       "                        <td id=\"T_2bb59666_18b1_11eb_97b5_ae06ac8367ebrow8_col9\" class=\"data row8 col9\" >0.234917</td>\n",
       "                        <td id=\"T_2bb59666_18b1_11eb_97b5_ae06ac8367ebrow8_col10\" class=\"data row8 col10\" >0.253137</td>\n",
       "                        <td id=\"T_2bb59666_18b1_11eb_97b5_ae06ac8367ebrow8_col11\" class=\"data row8 col11\" >11.000000</td>\n",
       "            </tr>\n",
       "            <tr>\n",
       "                        <th id=\"T_2bb59666_18b1_11eb_97b5_ae06ac8367eblevel0_row9\" class=\"row_heading level0 row9\" >9</th>\n",
       "                        <td id=\"T_2bb59666_18b1_11eb_97b5_ae06ac8367ebrow9_col0\" class=\"data row9 col0\" >-0.211833</td>\n",
       "                        <td id=\"T_2bb59666_18b1_11eb_97b5_ae06ac8367ebrow9_col1\" class=\"data row9 col1\" >0.810161</td>\n",
       "                        <td id=\"T_2bb59666_18b1_11eb_97b5_ae06ac8367ebrow9_col2\" class=\"data row9 col2\" >0.185828</td>\n",
       "                        <td id=\"T_2bb59666_18b1_11eb_97b5_ae06ac8367ebrow9_col3\" class=\"data row9 col3\" >0.858557</td>\n",
       "                        <td id=\"T_2bb59666_18b1_11eb_97b5_ae06ac8367ebrow9_col4\" class=\"data row9 col4\" >-0.161156</td>\n",
       "                        <td id=\"T_2bb59666_18b1_11eb_97b5_ae06ac8367ebrow9_col5\" class=\"data row9 col5\" >-2.000000</td>\n",
       "                        <td id=\"T_2bb59666_18b1_11eb_97b5_ae06ac8367ebrow9_col6\" class=\"data row9 col6\" >0.111736</td>\n",
       "                        <td id=\"T_2bb59666_18b1_11eb_97b5_ae06ac8367ebrow9_col7\" class=\"data row9 col7\" >0.138865</td>\n",
       "                        <td id=\"T_2bb59666_18b1_11eb_97b5_ae06ac8367ebrow9_col8\" class=\"data row9 col8\" >0.188746</td>\n",
       "                        <td id=\"T_2bb59666_18b1_11eb_97b5_ae06ac8367ebrow9_col9\" class=\"data row9 col9\" >0.234917</td>\n",
       "                        <td id=\"T_2bb59666_18b1_11eb_97b5_ae06ac8367ebrow9_col10\" class=\"data row9 col10\" >0.253137</td>\n",
       "                        <td id=\"T_2bb59666_18b1_11eb_97b5_ae06ac8367ebrow9_col11\" class=\"data row9 col11\" >12.750000</td>\n",
       "            </tr>\n",
       "            <tr>\n",
       "                        <th id=\"T_2bb59666_18b1_11eb_97b5_ae06ac8367eblevel0_row10\" class=\"row_heading level0 row10\" >10</th>\n",
       "                        <td id=\"T_2bb59666_18b1_11eb_97b5_ae06ac8367ebrow10_col0\" class=\"data row10 col0\" >-0.211833</td>\n",
       "                        <td id=\"T_2bb59666_18b1_11eb_97b5_ae06ac8367ebrow10_col1\" class=\"data row10 col1\" >0.810161</td>\n",
       "                        <td id=\"T_2bb59666_18b1_11eb_97b5_ae06ac8367ebrow10_col2\" class=\"data row10 col2\" >0.185828</td>\n",
       "                        <td id=\"T_2bb59666_18b1_11eb_97b5_ae06ac8367ebrow10_col3\" class=\"data row10 col3\" >0.858557</td>\n",
       "                        <td id=\"T_2bb59666_18b1_11eb_97b5_ae06ac8367ebrow10_col4\" class=\"data row10 col4\" >-0.161156</td>\n",
       "                        <td id=\"T_2bb59666_18b1_11eb_97b5_ae06ac8367ebrow10_col5\" class=\"data row10 col5\" >-0.888900</td>\n",
       "                        <td id=\"T_2bb59666_18b1_11eb_97b5_ae06ac8367ebrow10_col6\" class=\"data row10 col6\" >0.111736</td>\n",
       "                        <td id=\"T_2bb59666_18b1_11eb_97b5_ae06ac8367ebrow10_col7\" class=\"data row10 col7\" >0.138865</td>\n",
       "                        <td id=\"T_2bb59666_18b1_11eb_97b5_ae06ac8367ebrow10_col8\" class=\"data row10 col8\" >0.188746</td>\n",
       "                        <td id=\"T_2bb59666_18b1_11eb_97b5_ae06ac8367ebrow10_col9\" class=\"data row10 col9\" >0.234917</td>\n",
       "                        <td id=\"T_2bb59666_18b1_11eb_97b5_ae06ac8367ebrow10_col10\" class=\"data row10 col10\" >0.253137</td>\n",
       "                        <td id=\"T_2bb59666_18b1_11eb_97b5_ae06ac8367ebrow10_col11\" class=\"data row10 col11\" >-3.000000</td>\n",
       "            </tr>\n",
       "            <tr>\n",
       "                        <th id=\"T_2bb59666_18b1_11eb_97b5_ae06ac8367eblevel0_row11\" class=\"row_heading level0 row11\" >11</th>\n",
       "                        <td id=\"T_2bb59666_18b1_11eb_97b5_ae06ac8367ebrow11_col0\" class=\"data row11 col0\" >-0.211833</td>\n",
       "                        <td id=\"T_2bb59666_18b1_11eb_97b5_ae06ac8367ebrow11_col1\" class=\"data row11 col1\" >0.810161</td>\n",
       "                        <td id=\"T_2bb59666_18b1_11eb_97b5_ae06ac8367ebrow11_col2\" class=\"data row11 col2\" >0.185828</td>\n",
       "                        <td id=\"T_2bb59666_18b1_11eb_97b5_ae06ac8367ebrow11_col3\" class=\"data row11 col3\" >0.858557</td>\n",
       "                        <td id=\"T_2bb59666_18b1_11eb_97b5_ae06ac8367ebrow11_col4\" class=\"data row11 col4\" >-0.161156</td>\n",
       "                        <td id=\"T_2bb59666_18b1_11eb_97b5_ae06ac8367ebrow11_col5\" class=\"data row11 col5\" >-0.888900</td>\n",
       "                        <td id=\"T_2bb59666_18b1_11eb_97b5_ae06ac8367ebrow11_col6\" class=\"data row11 col6\" >0.111736</td>\n",
       "                        <td id=\"T_2bb59666_18b1_11eb_97b5_ae06ac8367ebrow11_col7\" class=\"data row11 col7\" >0.138865</td>\n",
       "                        <td id=\"T_2bb59666_18b1_11eb_97b5_ae06ac8367ebrow11_col8\" class=\"data row11 col8\" >0.188746</td>\n",
       "                        <td id=\"T_2bb59666_18b1_11eb_97b5_ae06ac8367ebrow11_col9\" class=\"data row11 col9\" >0.234917</td>\n",
       "                        <td id=\"T_2bb59666_18b1_11eb_97b5_ae06ac8367ebrow11_col10\" class=\"data row11 col10\" >0.253137</td>\n",
       "                        <td id=\"T_2bb59666_18b1_11eb_97b5_ae06ac8367ebrow11_col11\" class=\"data row11 col11\" >-1.250000</td>\n",
       "            </tr>\n",
       "            <tr>\n",
       "                        <th id=\"T_2bb59666_18b1_11eb_97b5_ae06ac8367eblevel0_row12\" class=\"row_heading level0 row12\" >12</th>\n",
       "                        <td id=\"T_2bb59666_18b1_11eb_97b5_ae06ac8367ebrow12_col0\" class=\"data row12 col0\" >-0.211833</td>\n",
       "                        <td id=\"T_2bb59666_18b1_11eb_97b5_ae06ac8367ebrow12_col1\" class=\"data row12 col1\" >0.810161</td>\n",
       "                        <td id=\"T_2bb59666_18b1_11eb_97b5_ae06ac8367ebrow12_col2\" class=\"data row12 col2\" >0.185828</td>\n",
       "                        <td id=\"T_2bb59666_18b1_11eb_97b5_ae06ac8367ebrow12_col3\" class=\"data row12 col3\" >0.858557</td>\n",
       "                        <td id=\"T_2bb59666_18b1_11eb_97b5_ae06ac8367ebrow12_col4\" class=\"data row12 col4\" >-0.161156</td>\n",
       "                        <td id=\"T_2bb59666_18b1_11eb_97b5_ae06ac8367ebrow12_col5\" class=\"data row12 col5\" >-0.888900</td>\n",
       "                        <td id=\"T_2bb59666_18b1_11eb_97b5_ae06ac8367ebrow12_col6\" class=\"data row12 col6\" >0.111736</td>\n",
       "                        <td id=\"T_2bb59666_18b1_11eb_97b5_ae06ac8367ebrow12_col7\" class=\"data row12 col7\" >0.138865</td>\n",
       "                        <td id=\"T_2bb59666_18b1_11eb_97b5_ae06ac8367ebrow12_col8\" class=\"data row12 col8\" >0.188746</td>\n",
       "                        <td id=\"T_2bb59666_18b1_11eb_97b5_ae06ac8367ebrow12_col9\" class=\"data row12 col9\" >0.234917</td>\n",
       "                        <td id=\"T_2bb59666_18b1_11eb_97b5_ae06ac8367ebrow12_col10\" class=\"data row12 col10\" >0.253137</td>\n",
       "                        <td id=\"T_2bb59666_18b1_11eb_97b5_ae06ac8367ebrow12_col11\" class=\"data row12 col11\" >0.500000</td>\n",
       "            </tr>\n",
       "    </tbody></table>"
      ],
      "text/plain": [
       "<pandas.io.formats.style.Styler at 0x230838d1d48>"
      ]
     },
     "execution_count": 29,
     "metadata": {},
     "output_type": "execute_result"
    }
   ],
   "source": [
    "# Then, we replace the 5th and 11th column with the values of the grid\n",
    "median_inputs[:,5] = grid[:,0]\n",
    "median_inputs[:,11] = grid[:,1]\n",
    "df = pd.DataFrame(median_inputs).iloc[:13,:12] # Convert to pandas is not necessary. Just doing it here to have a nice view of the table\n",
    "df.style.apply(lambda x: ['background: grey' if (x.name == 5)|(x.name == 11)  else '' for i in x])"
   ]
  },
  {
   "cell_type": "markdown",
   "metadata": {},
   "source": [
    "### Score the artificial data on the grid"
   ]
  },
  {
   "cell_type": "code",
   "execution_count": 30,
   "metadata": {},
   "outputs": [],
   "source": [
    "probs = LogReg.predict_proba(median_inputs)[:, 1].reshape(xx.shape)"
   ]
  },
  {
   "cell_type": "markdown",
   "metadata": {},
   "source": [
    "### Plot the contour for the grid and a scatter of 50 original datapoints from X_train. \n",
    "- The decision boundary is the thin **white** slice, where P(y=1) = 0.50\n",
    "- Darker **blue** indicates higher probability to default, i.e. 1.0\n",
    "- Darker **red** indicates lower probability to default, i.e. 0.0"
   ]
  },
  {
   "cell_type": "code",
   "execution_count": 31,
   "metadata": {},
   "outputs": [
    {
     "data": {
      "text/plain": [
       "[(-3, 13),\n",
       " Text(0, 0.5, 'BILL_AMT1 scaled'),\n",
       " (-2, 8),\n",
       " Text(0.5, 0, 'PAY_0 scaled'),\n",
       " None]"
      ]
     },
     "execution_count": 31,
     "metadata": {},
     "output_type": "execute_result"
    },
    {
     "data": {
      "image/png": "[encoded data removed]",
      "text/plain": [
       "<Figure size 576x432 with 2 Axes>"
      ]
     },
     "metadata": {
      "needs_background": "light"
     },
     "output_type": "display_data"
    }
   ],
   "source": [
    "f, ax = plt.subplots(figsize=(8, 6))\n",
    "contour = ax.contourf(xx, yy, probs, 25, cmap=\"RdBu\",\n",
    "                      vmin=0, vmax=1)\n",
    "ax_c = f.colorbar(contour)\n",
    "ax_c.set_label(\"$P(y = 1)$\")\n",
    "ax_c.set_ticks([0, .25, .5, .75, 1])\n",
    "\n",
    "ax.scatter(X_train[50:,5], X_train[50:, 11], c=y_train[50:], s=50,\n",
    "           cmap=\"RdBu\", vmin=-.2, vmax=1.2,\n",
    "           edgecolor=\"white\", linewidth=1)\n",
    "\n",
    "ax.set(aspect=\"auto\",\n",
    "       xlim=(-2, 8), ylim=(-3, 13),\n",
    "       xlabel=\"PAY_0 scaled\", ylabel=\"BILL_AMT1 scaled\")"
   ]
  },
  {
   "cell_type": "markdown",
   "metadata": {},
   "source": [
    "### What is the frequency of default for different values of PAY_0? Use groupby and aggregation to calculate.\n",
    "### Reminder: PAY_0 values of -2, -1, 0 mean that the credit was paid on time.\n",
    "### PAY_0 values greater than 0 mean that the payments were delayed by the respective number of months"
   ]
  },
  {
   "cell_type": "code",
   "execution_count": 32,
   "metadata": {},
   "outputs": [
    {
     "data": {
      "text/html": [
       "<div>\n",
       "<style scoped>\n",
       "    .dataframe tbody tr th:only-of-type {\n",
       "        vertical-align: middle;\n",
       "    }\n",
       "\n",
       "    .dataframe tbody tr th {\n",
       "        vertical-align: top;\n",
       "    }\n",
       "\n",
       "    .dataframe thead th {\n",
       "        text-align: right;\n",
       "    }\n",
       "</style>\n",
       "<table border=\"1\" class=\"dataframe\">\n",
       "  <thead>\n",
       "    <tr style=\"text-align: right;\">\n",
       "      <th></th>\n",
       "      <th>DEFAULTS_COUNT</th>\n",
       "      <th>TOTAL_CLIENTS</th>\n",
       "      <th>FREQUENCY_OF_DEFAULT</th>\n",
       "    </tr>\n",
       "    <tr>\n",
       "      <th>PAY_0</th>\n",
       "      <th></th>\n",
       "      <th></th>\n",
       "      <th></th>\n",
       "    </tr>\n",
       "  </thead>\n",
       "  <tbody>\n",
       "    <tr>\n",
       "      <th>-2</th>\n",
       "      <td>365</td>\n",
       "      <td>2759</td>\n",
       "      <td>13.0</td>\n",
       "    </tr>\n",
       "    <tr>\n",
       "      <th>-1</th>\n",
       "      <td>954</td>\n",
       "      <td>5686</td>\n",
       "      <td>17.0</td>\n",
       "    </tr>\n",
       "    <tr>\n",
       "      <th>0</th>\n",
       "      <td>1888</td>\n",
       "      <td>14737</td>\n",
       "      <td>13.0</td>\n",
       "    </tr>\n",
       "    <tr>\n",
       "      <th>1</th>\n",
       "      <td>1252</td>\n",
       "      <td>3688</td>\n",
       "      <td>34.0</td>\n",
       "    </tr>\n",
       "    <tr>\n",
       "      <th>2</th>\n",
       "      <td>1844</td>\n",
       "      <td>2667</td>\n",
       "      <td>69.0</td>\n",
       "    </tr>\n",
       "    <tr>\n",
       "      <th>3</th>\n",
       "      <td>244</td>\n",
       "      <td>322</td>\n",
       "      <td>76.0</td>\n",
       "    </tr>\n",
       "    <tr>\n",
       "      <th>4</th>\n",
       "      <td>52</td>\n",
       "      <td>76</td>\n",
       "      <td>68.0</td>\n",
       "    </tr>\n",
       "    <tr>\n",
       "      <th>5</th>\n",
       "      <td>13</td>\n",
       "      <td>26</td>\n",
       "      <td>50.0</td>\n",
       "    </tr>\n",
       "    <tr>\n",
       "      <th>6</th>\n",
       "      <td>6</td>\n",
       "      <td>11</td>\n",
       "      <td>55.0</td>\n",
       "    </tr>\n",
       "    <tr>\n",
       "      <th>7</th>\n",
       "      <td>7</td>\n",
       "      <td>9</td>\n",
       "      <td>78.0</td>\n",
       "    </tr>\n",
       "    <tr>\n",
       "      <th>8</th>\n",
       "      <td>11</td>\n",
       "      <td>19</td>\n",
       "      <td>58.0</td>\n",
       "    </tr>\n",
       "  </tbody>\n",
       "</table>\n",
       "</div>"
      ],
      "text/plain": [
       "       DEFAULTS_COUNT  TOTAL_CLIENTS  FREQUENCY_OF_DEFAULT\n",
       "PAY_0                                                     \n",
       "-2                365           2759                  13.0\n",
       "-1                954           5686                  17.0\n",
       " 0               1888          14737                  13.0\n",
       " 1               1252           3688                  34.0\n",
       " 2               1844           2667                  69.0\n",
       " 3                244            322                  76.0\n",
       " 4                 52             76                  68.0\n",
       " 5                 13             26                  50.0\n",
       " 6                  6             11                  55.0\n",
       " 7                  7              9                  78.0\n",
       " 8                 11             19                  58.0"
      ]
     },
     "execution_count": 32,
     "metadata": {},
     "output_type": "execute_result"
    }
   ],
   "source": [
    "PAY_0_groups = cc_data.groupby('PAY_0').agg({\"OUTPUT\": [\"sum\", \"count\"]}).rename(columns={\"sum\": \"DEFAULTS_COUNT\",\n",
    "                                                                                          \"count\": \"TOTAL_CLIENTS\"})\n",
    "PAY_0_groups.columns = PAY_0_groups.columns.droplevel(0) # This is to drop the multilevel index OUTPUT\n",
    "PAY_0_groups['FREQUENCY_OF_DEFAULT'] = round(PAY_0_groups[\"DEFAULTS_COUNT\"]/PAY_0_groups[\"TOTAL_CLIENTS\"]*100, 0)\n",
    "\n",
    "PAY_0_groups"
   ]
  },
  {
   "cell_type": "code",
   "execution_count": null,
   "metadata": {},
   "outputs": [],
   "source": []
  }
 ],
 "metadata": {
  "kernelspec": {
   "display_name": "Python 3",
   "language": "python",
   "name": "python3"
  },
  "language_info": {
   "codemirror_mode": {
    "name": "ipython",
    "version": 3
   },
   "file_extension": ".py",
   "mimetype": "text/x-python",
   "name": "python",
   "nbconvert_exporter": "python",
   "pygments_lexer": "ipython3",
   "version": "3.7.9"
  }
 },
 "nbformat": 4,
 "nbformat_minor": 4
}
