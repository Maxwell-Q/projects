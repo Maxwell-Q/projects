{
 "cells": [
  {
   "cell_type": "markdown",
   "metadata": {
    "colab_type": "text",
    "id": "OTpnyUEJrAjE"
   },
   "source": [
    "# APS1070\n",
    "#### Linear Regression - Project 4"
   ]
  },
  {
   "cell_type": "markdown",
   "metadata": {
    "colab_type": "text",
    "id": "fUdJ6xw3rJIG"
   },
   "source": [
    "Please fill out the following:\n",
    "\n",
    "\n",
    "*   Your **name**: Guan Qi\n",
    "*   Your **student number**:1006622264\n",
    "\n"
   ]
  },
  {
   "cell_type": "markdown",
   "metadata": {
    "colab_type": "text",
    "id": "oLFrnQo9wA4H"
   },
   "source": [
    "## How to use this Notebook"
   ]
  },
  {
   "cell_type": "markdown",
   "metadata": {
    "colab_type": "text",
    "id": "Ryuq8mw8wA4J"
   },
   "source": [
    "1. Run the cells to get a bird's eye view of whats going on.\n",
    "2. Interact with the code to better understand how it works - add cells, plot values, change parameters, etc.\n",
    "3. (Optional) Replicate Linear Regression code on a blank notebook, without viewing this code. [This is called retrieval practice.](https://www.learningscientists.org/blog/2016/6/23-1)\n",
    "4. Complete exercises."
   ]
  },
  {
   "cell_type": "markdown",
   "metadata": {
    "colab_type": "text",
    "id": "Jn-UWaxnwA4K"
   },
   "source": [
    "## Linear Regression - Introduction"
   ]
  },
  {
   "cell_type": "markdown",
   "metadata": {
    "colab_type": "text",
    "id": "kS-L6yG_wA4L"
   },
   "source": [
    "### Linear Regression"
   ]
  },
  {
   "cell_type": "markdown",
   "metadata": {
    "colab_type": "text",
    "id": "2mFMzlbcbcs0"
   },
   "source": [
    "In statistics, linear regression is a linear approach to modelling the relationship between a dependent variable and one or more independent variables. Let X be the independent variable and Y be the dependent variable. We will define a linear relationship between these two variables as follows:"
   ]
  },
  {
   "cell_type": "markdown",
   "metadata": {
    "colab_type": "text",
    "id": "R3JNdY_Cbcs0"
   },
   "source": [
    "$y = mX + c$"
   ]
  },
  {
   "cell_type": "markdown",
   "metadata": {
    "colab_type": "text",
    "id": "6YAZTV1Mbcs1"
   },
   "source": [
    "This is the equation for a line that you studied in high school. m is the slope of the line and c is the y intercept. Today we will use this equation to train our model with a given dataset and predict the value of Y for any given value of X. Our challenge today is to determine the value of m and c, such that the line corresponding to those values is the best fitting line or gives the minimum error."
   ]
  },
  {
   "cell_type": "markdown",
   "metadata": {
    "colab_type": "text",
    "id": "9ENvOgIIbcs1"
   },
   "source": [
    "Are we always fitting a line into the data? What if we have more than 1 feature (independant variable)?"
   ]
  },
  {
   "cell_type": "markdown",
   "metadata": {
    "colab_type": "text",
    "id": "_lhIIg3Pbcs2"
   },
   "source": [
    "The vectorized form of above equation is written as $y = Xw$, where y and w are vectors while X is a matrix. \n",
    "\n",
    "Where is the c term? It is included within the X matrix."
   ]
  },
  {
   "cell_type": "markdown",
   "metadata": {
    "colab_type": "text",
    "id": "qyYxxkfAbcs2"
   },
   "source": [
    "**Hypothesis of Linear Regression**"
   ]
  },
  {
   "cell_type": "markdown",
   "metadata": {
    "colab_type": "text",
    "id": "KUz5wFvUbcs3"
   },
   "source": [
    "The linear regression model can be represented by the following equation:"
   ]
  },
  {
   "cell_type": "markdown",
   "metadata": {
    "colab_type": "text",
    "id": "M6E-PKb_bcs3"
   },
   "source": [
    "<img src=\"https://miro.medium.com/max/313/1*A32yDrkQKIU0Z-Nf7JD9Pg.png\">"
   ]
  },
  {
   "cell_type": "markdown",
   "metadata": {
    "colab_type": "text",
    "id": "q_aOnL22bcs4"
   },
   "source": [
    "- Y is the predicted value ($h_\\theta(x)$)\n",
    "- θ₀ is the bias term.\n",
    "- θ₁,…,θₙ are the model parameters\n",
    "- x₁, x₂,…,xₙ are the feature values."
   ]
  },
  {
   "cell_type": "markdown",
   "metadata": {
    "colab_type": "text",
    "id": "bD4i39QVwA4O"
   },
   "source": [
    "### LR - Procedure"
   ]
  },
  {
   "cell_type": "markdown",
   "metadata": {
    "colab_type": "text",
    "id": "y6AiJnqnbcs5"
   },
   "source": [
    "Our Loss function for Linear regression would be sum of squares, which makes the cost function to be:"
   ]
  },
  {
   "cell_type": "markdown",
   "metadata": {
    "colab_type": "text",
    "id": "RUIa2Og3bcs5"
   },
   "source": [
    "<img src=\"https://miro.medium.com/max/300/1*_y5QA1yF4w6LDDRxfTt6GA.jpeg\">"
   ]
  },
  {
   "cell_type": "markdown",
   "metadata": {
    "colab_type": "text",
    "id": "53bIKpy5bcs6"
   },
   "source": [
    "Here yᵢ is the actual value and ȳᵢ is the predicted value. Lets substitute the value of ȳᵢ from $y = mX + c$:"
   ]
  },
  {
   "cell_type": "markdown",
   "metadata": {
    "colab_type": "text",
    "id": "Vgfn6x2Ubcs6"
   },
   "source": [
    "<img src=\"https://miro.medium.com/max/400/1*3cpC7oHy4IbH3o3Jc-ygVw.jpeg\">"
   ]
  },
  {
   "cell_type": "markdown",
   "metadata": {
    "colab_type": "text",
    "id": "w5GC9wklbcs7"
   },
   "source": [
    "Partial Derivative of the above equation with respect to m is shown as $D_m$:"
   ]
  },
  {
   "cell_type": "markdown",
   "metadata": {
    "colab_type": "text",
    "id": "MXzmtoFzbcs7"
   },
   "source": [
    "<img src=\"https://miro.medium.com/max/400/1*FvYfCBrl2gX9K-KxSO1eIw.jpeg\">"
   ]
  },
  {
   "cell_type": "markdown",
   "metadata": {
    "colab_type": "text",
    "id": "T4bzLgyXbcs7"
   },
   "source": [
    "While the Partial Derivative with respect to c is shown as $D_c$:"
   ]
  },
  {
   "cell_type": "markdown",
   "metadata": {
    "colab_type": "text",
    "id": "8YT6zO2-bcs8"
   },
   "source": [
    "<img src=\"https://miro.medium.com/max/300/1*rj09w2TcBxnHPtQ0oq4ehA.jpeg\">"
   ]
  },
  {
   "cell_type": "markdown",
   "metadata": {
    "colab_type": "text",
    "id": "FNAgpf18wA4S"
   },
   "source": [
    "#### Analytical Approach for Linear Regression\n",
    "\n",
    "Can you derive the Analytical Solution for Linear Regression?"
   ]
  },
  {
   "cell_type": "markdown",
   "metadata": {
    "colab_type": "text",
    "id": "9-vd5YWLbcs-"
   },
   "source": [
    "We arrive at the analytical solution when we turn the partial derivatives with respect to the parameters to zero. Why?\n",
    "\n",
    "This is because at the point where cost function is at the minimum with respect to the parameters (m and c), the derivative of cost function with respect to the parameters would be zero."
   ]
  },
  {
   "cell_type": "markdown",
   "metadata": {
    "colab_type": "text",
    "id": "kJBZTGZHbcs-"
   },
   "source": [
    "$D_m=0$ and $D_c=0$"
   ]
  },
  {
   "cell_type": "markdown",
   "metadata": {
    "colab_type": "text",
    "id": "o_qnAm8tbcs_"
   },
   "source": [
    "The solution for the general case comes out to be:"
   ]
  },
  {
   "cell_type": "markdown",
   "metadata": {
    "colab_type": "text",
    "id": "91CsuqsUbcs_"
   },
   "source": [
    "<img src=\"https://sebastianraschka.com/images/faq/closed-form-vs-gd/closed-form.png\">"
   ]
  },
  {
   "cell_type": "markdown",
   "metadata": {
    "colab_type": "text",
    "id": "nuHJAOmvbctA"
   },
   "source": [
    "With $L_2$ Regularization. Cost:"
   ]
  },
  {
   "cell_type": "markdown",
   "metadata": {
    "colab_type": "text",
    "id": "eCDCGqdbbctB"
   },
   "source": [
    "$J(\\theta) = \\frac{1}{2m}[\\sum_{i=1}^m(h_\\theta (x^{(i)}) - y^{(i)})^2 + \\lambda\\sum_{j=1}^n\\theta^2_j]$"
   ]
  },
  {
   "cell_type": "markdown",
   "metadata": {
    "colab_type": "text",
    "id": "w484FOiDbctC"
   },
   "source": [
    "$w = (X^TX + \\lambda I)^{-1}X^Ty$"
   ]
  },
  {
   "cell_type": "markdown",
   "metadata": {
    "colab_type": "text",
    "heading_collapsed": true,
    "id": "iQyQ3hA6bctC"
   },
   "source": [
    "#### Gradient Descent Solution"
   ]
  },
  {
   "cell_type": "markdown",
   "metadata": {
    "colab_type": "text",
    "hidden": true,
    "id": "4nPHi1eSbctC"
   },
   "source": [
    "Gradient descent uses the equations for gradient derived above to find the direction in which we tinker the values of our parameters m and c. "
   ]
  },
  {
   "cell_type": "markdown",
   "metadata": {
    "colab_type": "text",
    "hidden": true,
    "id": "y8RY7oFgbctD"
   },
   "source": [
    "<img src=\"https://miro.medium.com/max/300/1*JDcHqFK8jLcgQu1cj2XuVQ.jpeg\">"
   ]
  },
  {
   "cell_type": "markdown",
   "metadata": {
    "colab_type": "text",
    "hidden": true,
    "id": "TmX3-0DYbctD"
   },
   "source": [
    "Here the term $L$ is defined as the learning rate."
   ]
  },
  {
   "cell_type": "markdown",
   "metadata": {
    "colab_type": "text",
    "hidden": true,
    "id": "HW9l1_RBbctE"
   },
   "source": [
    "<img src=\"https://miro.medium.com/max/864/1*CjTBNFUEI_IokEOXJ00zKw.gif\">"
   ]
  },
  {
   "cell_type": "markdown",
   "metadata": {
    "colab_type": "text",
    "id": "K0JkLAQWbctE"
   },
   "source": [
    "#### Any other solutions methods?"
   ]
  },
  {
   "cell_type": "markdown",
   "metadata": {
    "colab_type": "text",
    "id": "9A_OEn8VbctE"
   },
   "source": [
    "Some other solution methods are QR Decomposition, Singular-Value Decomposition.\n",
    "\n",
    "- Do these methods give exact solutions?\n",
    "- Do these methods scale well with large datasets?"
   ]
  },
  {
   "cell_type": "markdown",
   "metadata": {
    "colab_type": "text",
    "id": "sxvjbQZibctF"
   },
   "source": [
    "## Let's Start"
   ]
  },
  {
   "cell_type": "markdown",
   "metadata": {
    "colab_type": "text",
    "id": "LEzWkTisbctF"
   },
   "source": [
    "Single Feature, 5 data points."
   ]
  },
  {
   "cell_type": "markdown",
   "metadata": {
    "colab_type": "text",
    "id": "VPNKfSh1bctG"
   },
   "source": [
    "### Analytical Approach in Code\n",
    "\n",
    "Let's get our hands dirty."
   ]
  },
  {
   "cell_type": "code",
   "execution_count": 0,
   "metadata": {
    "colab": {},
    "colab_type": "code",
    "id": "_pUP_nOYbctG"
   },
   "outputs": [],
   "source": [
    "import numpy as np\n",
    "import pandas as pd\n",
    "import matplotlib.pyplot as plt\n",
    "import seaborn as sns\n",
    "from sklearn.linear_model import LinearRegression\n",
    "from sklearn.linear_model import Ridge\n",
    "from sklearn.preprocessing import PolynomialFeatures\n",
    "from sklearn.metrics import mean_squared_error"
   ]
  },
  {
   "cell_type": "code",
   "execution_count": 0,
   "metadata": {
    "colab": {},
    "colab_type": "code",
    "id": "g2s-ZTXtbctI"
   },
   "outputs": [],
   "source": [
    "n = 5 # number of points\n",
    "m = 2 # slope of line\n",
    "c = 4 # y intercept of line\n",
    "r = 2 # range of data on x-axis\n",
    "\n",
    "np.random.seed(2)\n",
    "x = r * np.random.rand(n)\n",
    "#print(x)\n",
    "x.sort()\n",
    "yPerf = m*x + c # perfect world: no noise\n",
    "y = m*x + c + np.random.randn(n) # imperfect world: we get noisy data"
   ]
  },
  {
   "cell_type": "markdown",
   "metadata": {
    "colab_type": "text",
    "id": "RlW5IUn5bctJ"
   },
   "source": [
    "Spoiler Alert: We are in an Imperfect World."
   ]
  },
  {
   "cell_type": "code",
   "execution_count": 0,
   "metadata": {
    "colab": {},
    "colab_type": "code",
    "id": "lNe4w9CdbctJ"
   },
   "outputs": [],
   "source": [
    "def rmse(yPred, y):\n",
    "    return np.sqrt(mean_squared_error(yPred, y))"
   ]
  },
  {
   "cell_type": "code",
   "execution_count": 0,
   "metadata": {
    "colab": {
     "base_uri": "https://localhost:8080/",
     "height": 265
    },
    "colab_type": "code",
    "executionInfo": {
     "elapsed": 3344,
     "status": "ok",
     "timestamp": 1575833715970,
     "user": {
      "displayName": "Max Q",
      "photoUrl": "",
      "userId": "10263355661517414420"
     },
     "user_tz": 300
    },
    "id": "YmkB-_lpbctL",
    "outputId": "14cd1836-bee8-41cb-ed6d-68c1f18f46bc"
   },
   "outputs": [
    {
     "data": {
      "image/png": "[encoded data removed]",
      "text/plain": [
       "<Figure size 432x288 with 1 Axes>"
      ]
     },
     "metadata": {
      "tags": []
     },
     "output_type": "display_data"
    }
   ],
   "source": [
    "plt.plot(x, y, 'o', label='Data')\n",
    "plt.plot(x, yPerf, 'o-', label='Underlying Distribution')\n",
    "\n",
    "plt.legend()\n",
    "plt.show()"
   ]
  },
  {
   "cell_type": "code",
   "execution_count": 0,
   "metadata": {
    "colab": {
     "base_uri": "https://localhost:8080/",
     "height": 184
    },
    "colab_type": "code",
    "executionInfo": {
     "elapsed": 3291,
     "status": "ok",
     "timestamp": 1575833715975,
     "user": {
      "displayName": "Max Q",
      "photoUrl": "",
      "userId": "10263355661517414420"
     },
     "user_tz": 300
    },
    "id": "xL7-QF9TbctN",
    "outputId": "eb3d8352-543c-4e7b-89f0-17ccf8b0699c"
   },
   "outputs": [
    {
     "name": "stdout",
     "output_type": "stream",
     "text": [
      "[[1.         0.05185246]\n",
      " [1.         0.8407356 ]\n",
      " [1.         0.87064479]\n",
      " [1.         0.8719898 ]\n",
      " [1.         1.09932496]]\n",
      "[[3.02924941]\n",
      " [5.0642481 ]\n",
      " [4.2402827 ]\n",
      " [6.63756941]\n",
      " [6.93819559]]\n"
     ]
    }
   ],
   "source": [
    "x = np.vstack((np.ones(np.shape(x)), x)).T\n",
    "y = y.reshape(-1, 1)\n",
    "print(x)\n",
    "print(y)"
   ]
  },
  {
   "cell_type": "code",
   "execution_count": 0,
   "metadata": {
    "colab": {
     "base_uri": "https://localhost:8080/",
     "height": 33
    },
    "colab_type": "code",
    "executionInfo": {
     "elapsed": 3242,
     "status": "ok",
     "timestamp": 1575833715980,
     "user": {
      "displayName": "Max Q",
      "photoUrl": "",
      "userId": "10263355661517414420"
     },
     "user_tz": 300
    },
    "id": "70gnrF0XbctO",
    "outputId": "661a3e3a-0e25-4b20-88ae-3f92803803eb"
   },
   "outputs": [
    {
     "name": "stdout",
     "output_type": "stream",
     "text": [
      "(2, 1)\n"
     ]
    }
   ],
   "source": [
    "# analytical solution\n",
    "w = np.dot(np.linalg.inv(np.dot(x.T, x)), np.dot(x.T, y))\n",
    "print(w.shape)\n",
    "# prediction\n",
    "yPred = np.dot(x, w)"
   ]
  },
  {
   "cell_type": "code",
   "execution_count": 0,
   "metadata": {
    "colab": {
     "base_uri": "https://localhost:8080/",
     "height": 33
    },
    "colab_type": "code",
    "executionInfo": {
     "elapsed": 3196,
     "status": "ok",
     "timestamp": 1575833715983,
     "user": {
      "displayName": "Max Q",
      "photoUrl": "",
      "userId": "10263355661517414420"
     },
     "user_tz": 300
    },
    "id": "msWFfyD-bctQ",
    "outputId": "acb31421-ed15-4e9b-a8c6-ee65bf517ad2"
   },
   "outputs": [
    {
     "data": {
      "text/plain": [
       "(array([2.67741212]), array([3.35314632]))"
      ]
     },
     "execution_count": 7,
     "metadata": {
      "tags": []
     },
     "output_type": "execute_result"
    }
   ],
   "source": [
    "w[0], w[1]"
   ]
  },
  {
   "cell_type": "markdown",
   "metadata": {
    "colab_type": "text",
    "id": "vlvll92zbctS"
   },
   "source": [
    "- How similar are these to the values we had set initially?\n",
    "- Will they be same as those set initially if there was no noise?"
   ]
  },
  {
   "cell_type": "code",
   "execution_count": 0,
   "metadata": {
    "colab": {
     "base_uri": "https://localhost:8080/",
     "height": 265
    },
    "colab_type": "code",
    "executionInfo": {
     "elapsed": 3634,
     "status": "ok",
     "timestamp": 1575833716468,
     "user": {
      "displayName": "Max Q",
      "photoUrl": "",
      "userId": "10263355661517414420"
     },
     "user_tz": 300
    },
    "id": "NyxfDFgfbctS",
    "outputId": "be14e1a8-0b16-4ab0-b721-bbdba5416c67"
   },
   "outputs": [
    {
     "data": {
      "image/png": "[encoded data removed]",
      "text/plain": [
       "<Figure size 432x288 with 1 Axes>"
      ]
     },
     "metadata": {
      "tags": []
     },
     "output_type": "display_data"
    }
   ],
   "source": [
    "plt.plot(x[:, 1], y, 'o', label='Data')\n",
    "plt.plot(x[:, 1], yPerf, 'o-', label='Underlying Distribution')\n",
    "plt.plot(x[:, 1], yPred, 'o-', label='Predicted')\n",
    "\n",
    "plt.legend()\n",
    "plt.show()"
   ]
  },
  {
   "cell_type": "code",
   "execution_count": 0,
   "metadata": {
    "colab": {
     "base_uri": "https://localhost:8080/",
     "height": 33
    },
    "colab_type": "code",
    "executionInfo": {
     "elapsed": 3584,
     "status": "ok",
     "timestamp": 1575833716472,
     "user": {
      "displayName": "Max Q",
      "photoUrl": "",
      "userId": "10263355661517414420"
     },
     "user_tz": 300
    },
    "id": "2l5yQVtFbctU",
    "outputId": "95781952-7ef1-4758-f4f2-aee11d709010"
   },
   "outputs": [
    {
     "name": "stdout",
     "output_type": "stream",
     "text": [
      "RMSE:  0.8321853483360432\n"
     ]
    }
   ],
   "source": [
    "print('RMSE: ', rmse(yPred, y))"
   ]
  },
  {
   "cell_type": "markdown",
   "metadata": {
    "colab_type": "text",
    "id": "o3ZG5e0YbctW"
   },
   "source": [
    "### Complex Dependant Variable\n",
    "\n",
    "It's complicated."
   ]
  },
  {
   "cell_type": "code",
   "execution_count": 0,
   "metadata": {
    "colab": {},
    "colab_type": "code",
    "id": "T9eFKueSbctX"
   },
   "outputs": [],
   "source": [
    "n = 20 # number of points\n",
    "m = 3  # slope of line\n",
    "c = 10 # y intercept of line\n",
    "r = 2  # range of data on x-axis\n",
    "\n",
    "np.random.seed(10) \n",
    "X = xD = r * np.random.randn(n) # points also stored in xD (xData). will be useful later.\n",
    "X.sort()\n",
    "yPerf = X - 2 * (X ** 2) + 0.5 * (X ** 3)\n",
    "np.random.seed(10)\n",
    "y = X - 2 * (X ** 2) + 0.5 * (X ** 3) + np.random.normal(0, 5, n) # imperfect world: we get noisy data"
   ]
  },
  {
   "cell_type": "code",
   "execution_count": 0,
   "metadata": {
    "colab": {
     "base_uri": "https://localhost:8080/",
     "height": 265
    },
    "colab_type": "code",
    "executionInfo": {
     "elapsed": 3537,
     "status": "ok",
     "timestamp": 1575833716482,
     "user": {
      "displayName": "Max Q",
      "photoUrl": "",
      "userId": "10263355661517414420"
     },
     "user_tz": 300
    },
    "id": "OFpKR94YbctY",
    "outputId": "7f68e448-0e28-4959-e3f9-59b7c133f336"
   },
   "outputs": [
    {
     "data": {
      "image/png": "[encoded data removed]",
      "text/plain": [
       "<Figure size 432x288 with 1 Axes>"
      ]
     },
     "metadata": {
      "tags": []
     },
     "output_type": "display_data"
    }
   ],
   "source": [
    "plt.plot(X, y, 'o', label='Data')\n",
    "plt.plot(X, yPerf, 'o-', label='Underlying Distribution')\n",
    "\n",
    "plt.legend()\n",
    "plt.show()"
   ]
  },
  {
   "cell_type": "code",
   "execution_count": 0,
   "metadata": {
    "colab": {
     "base_uri": "https://localhost:8080/",
     "height": 351
    },
    "colab_type": "code",
    "executionInfo": {
     "elapsed": 3490,
     "status": "ok",
     "timestamp": 1575833716489,
     "user": {
      "displayName": "Max Q",
      "photoUrl": "",
      "userId": "10263355661517414420"
     },
     "user_tz": 300
    },
    "id": "ka-pV7fGbctZ",
    "outputId": "3b2aa6bd-6cd8-47f1-cfee-4728a246aee2"
   },
   "outputs": [
    {
     "name": "stdout",
     "output_type": "stream",
     "text": [
      "[[ 1.         -3.09080058]\n",
      " [ 1.         -2.27320442]\n",
      " [ 1.         -2.15960977]\n",
      " [ 1.         -1.93013134]\n",
      " [ 1.         -1.44017112]\n",
      " [ 1.         -0.34920042]\n",
      " [ 1.         -0.0167677 ]\n",
      " [ 1.          0.00858286]\n",
      " [ 1.          0.21709705]\n",
      " [ 1.          0.27027376]\n",
      " [ 1.          0.45726026]\n",
      " [ 1.          0.53102317]\n",
      " [ 1.          0.86605238]\n",
      " [ 1.          0.89027523]\n",
      " [ 1.          1.24267195]\n",
      " [ 1.          1.43055795]\n",
      " [ 1.          2.05654816]\n",
      " [ 1.          2.40607475]\n",
      " [ 1.          2.66317301]\n",
      " [ 1.          2.969074  ]]\n"
     ]
    }
   ],
   "source": [
    "X = np.vstack((np.ones(np.shape(X)), X)).T\n",
    "y = y.reshape(-1, 1)\n",
    "print(X)"
   ]
  },
  {
   "cell_type": "code",
   "execution_count": 0,
   "metadata": {
    "colab": {
     "base_uri": "https://localhost:8080/",
     "height": 50
    },
    "colab_type": "code",
    "executionInfo": {
     "elapsed": 3447,
     "status": "ok",
     "timestamp": 1575833716491,
     "user": {
      "displayName": "Max Q",
      "photoUrl": "",
      "userId": "10263355661517414420"
     },
     "user_tz": 300
    },
    "id": "GZy6EK4Mbctb",
    "outputId": "1830121c-3f35-4cce-f093-a71f1b57a233"
   },
   "outputs": [
    {
     "data": {
      "text/plain": [
       "array([[-5.45917353],\n",
       "       [ 3.82202654]])"
      ]
     },
     "execution_count": 13,
     "metadata": {
      "tags": []
     },
     "output_type": "execute_result"
    }
   ],
   "source": [
    "# analytical solution\n",
    "w = np.dot(np.linalg.inv(np.dot(X.T, X)), np.dot(X.T, y))\n",
    "\n",
    "# prediction\n",
    "yPredLinear = yPred = np.dot(X, w)\n",
    "\n",
    "w"
   ]
  },
  {
   "cell_type": "code",
   "execution_count": 0,
   "metadata": {
    "colab": {
     "base_uri": "https://localhost:8080/",
     "height": 265
    },
    "colab_type": "code",
    "executionInfo": {
     "elapsed": 3542,
     "status": "ok",
     "timestamp": 1575833716688,
     "user": {
      "displayName": "Max Q",
      "photoUrl": "",
      "userId": "10263355661517414420"
     },
     "user_tz": 300
    },
    "id": "NS_2S74qbctc",
    "outputId": "1710386e-74f0-4c6c-f2cd-359d4f5e018c"
   },
   "outputs": [
    {
     "data": {
      "image/png": "[encoded data removed]",
      "text/plain": [
       "<Figure size 432x288 with 1 Axes>"
      ]
     },
     "metadata": {
      "tags": []
     },
     "output_type": "display_data"
    }
   ],
   "source": [
    "plt.plot(xD, y, 'o', label='Data')\n",
    "plt.plot(xD, yPerf, 'o-', label='Underlying Distribution')\n",
    "plt.plot(xD, yPred, 'o-', label='Predicted')\n",
    "\n",
    "plt.legend()\n",
    "plt.show()"
   ]
  },
  {
   "cell_type": "code",
   "execution_count": 0,
   "metadata": {
    "colab": {
     "base_uri": "https://localhost:8080/",
     "height": 33
    },
    "colab_type": "code",
    "executionInfo": {
     "elapsed": 3474,
     "status": "ok",
     "timestamp": 1575833716691,
     "user": {
      "displayName": "Max Q",
      "photoUrl": "",
      "userId": "10263355661517414420"
     },
     "user_tz": 300
    },
    "id": "NkKlZkKkbctd",
    "outputId": "77db1d33-1f3a-4232-a387-1cc1c9a0f191"
   },
   "outputs": [
    {
     "name": "stdout",
     "output_type": "stream",
     "text": [
      "RMSE:  6.839531223681816\n"
     ]
    }
   ],
   "source": [
    "print('RMSE: ', rmse(yPred, y))"
   ]
  },
  {
   "cell_type": "markdown",
   "metadata": {
    "colab_type": "text",
    "id": "S6zNdggSbctf"
   },
   "source": [
    "#### What to do next?\n",
    "\n",
    "Can we add more features."
   ]
  },
  {
   "cell_type": "code",
   "execution_count": 0,
   "metadata": {
    "colab": {
     "base_uri": "https://localhost:8080/",
     "height": 33
    },
    "colab_type": "code",
    "executionInfo": {
     "elapsed": 3413,
     "status": "ok",
     "timestamp": 1575833716694,
     "user": {
      "displayName": "Max Q",
      "photoUrl": "",
      "userId": "10263355661517414420"
     },
     "user_tz": 300
    },
    "id": "zIDKcjBKbctf",
    "outputId": "5e27c3d9-c035-4b8b-b83e-2d285689a895"
   },
   "outputs": [
    {
     "name": "stdout",
     "output_type": "stream",
     "text": [
      "(20, 4)\n"
     ]
    }
   ],
   "source": [
    "X = np.vstack((X.T, xD**2, xD**3)).T\n",
    "print(X.shape)"
   ]
  },
  {
   "cell_type": "code",
   "execution_count": 0,
   "metadata": {
    "colab": {},
    "colab_type": "code",
    "id": "XlhuePv2bcth"
   },
   "outputs": [],
   "source": [
    "# analytical solution\n",
    "w = np.dot(np.linalg.inv(np.dot(X.T, X)), np.dot(X.T, y))\n",
    "\n",
    "# prediction\n",
    "yPred4Feature = yPred = np.dot(X, w)"
   ]
  },
  {
   "cell_type": "code",
   "execution_count": 0,
   "metadata": {
    "colab": {
     "base_uri": "https://localhost:8080/",
     "height": 84
    },
    "colab_type": "code",
    "executionInfo": {
     "elapsed": 3328,
     "status": "ok",
     "timestamp": 1575833716703,
     "user": {
      "displayName": "Max Q",
      "photoUrl": "",
      "userId": "10263355661517414420"
     },
     "user_tz": 300
    },
    "id": "jk90FPCXbcti",
    "outputId": "5cad1c72-c3a0-4ad0-b2fd-de8b56cf3c42"
   },
   "outputs": [
    {
     "data": {
      "text/plain": [
       "array([[ 0.04177438],\n",
       "       [ 2.58652514],\n",
       "       [-1.87142105],\n",
       "       [ 0.19655185]])"
      ]
     },
     "execution_count": 18,
     "metadata": {
      "tags": []
     },
     "output_type": "execute_result"
    }
   ],
   "source": [
    "w"
   ]
  },
  {
   "cell_type": "code",
   "execution_count": 0,
   "metadata": {
    "colab": {
     "base_uri": "https://localhost:8080/",
     "height": 265
    },
    "colab_type": "code",
    "executionInfo": {
     "elapsed": 3611,
     "status": "ok",
     "timestamp": 1575833717031,
     "user": {
      "displayName": "Max Q",
      "photoUrl": "",
      "userId": "10263355661517414420"
     },
     "user_tz": 300
    },
    "id": "As3fF2SMbctj",
    "outputId": "546bd57f-7d33-47d9-89af-b2f2a56f8e1f"
   },
   "outputs": [
    {
     "data": {
      "image/png": "[encoded data removed]",
      "text/plain": [
       "<Figure size 432x288 with 1 Axes>"
      ]
     },
     "metadata": {
      "tags": []
     },
     "output_type": "display_data"
    }
   ],
   "source": [
    "plt.plot(xD, y, 'o', label='Data')\n",
    "plt.plot(xD, yPerf, 'o-', label='Underlying Distribution')\n",
    "plt.plot(xD, yPred, 'o-', label='Predicted')\n",
    "\n",
    "plt.legend()\n",
    "plt.show()"
   ]
  },
  {
   "cell_type": "code",
   "execution_count": 0,
   "metadata": {
    "colab": {
     "base_uri": "https://localhost:8080/",
     "height": 33
    },
    "colab_type": "code",
    "executionInfo": {
     "elapsed": 3576,
     "status": "ok",
     "timestamp": 1575833717036,
     "user": {
      "displayName": "Max Q",
      "photoUrl": "",
      "userId": "10263355661517414420"
     },
     "user_tz": 300
    },
    "id": "q4w21j3Wbctl",
    "outputId": "22a7683e-d831-416f-98e1-002b7623251b"
   },
   "outputs": [
    {
     "name": "stdout",
     "output_type": "stream",
     "text": [
      "RMSE:  3.929493007090521\n"
     ]
    }
   ],
   "source": [
    "print('RMSE: ', rmse(yPred, y))"
   ]
  },
  {
   "cell_type": "markdown",
   "metadata": {
    "colab_type": "text",
    "id": "6UVOla-Obctm"
   },
   "source": [
    "But how do we know when to stop, since we would not be knowing when to stop adding features in x."
   ]
  },
  {
   "cell_type": "code",
   "execution_count": 0,
   "metadata": {
    "colab": {
     "base_uri": "https://localhost:8080/",
     "height": 33
    },
    "colab_type": "code",
    "executionInfo": {
     "elapsed": 3541,
     "status": "ok",
     "timestamp": 1575833717040,
     "user": {
      "displayName": "Max Q",
      "photoUrl": "",
      "userId": "10263355661517414420"
     },
     "user_tz": 300
    },
    "id": "a1dphgtbbctm",
    "outputId": "3cd829fc-9bf5-4b7e-e628-b787bb676497"
   },
   "outputs": [
    {
     "name": "stdout",
     "output_type": "stream",
     "text": [
      "(20, 8)\n"
     ]
    }
   ],
   "source": [
    "X = np.vstack((X.T, xD**4, xD**5, xD**6, xD**7)).T\n",
    "print(X.shape)"
   ]
  },
  {
   "cell_type": "code",
   "execution_count": 0,
   "metadata": {
    "colab": {},
    "colab_type": "code",
    "id": "_9_6iGtVbcto"
   },
   "outputs": [],
   "source": [
    "# analytical solution\n",
    "w = np.dot(np.linalg.inv(np.dot(X.T, X)), np.dot(X.T, y))\n",
    "\n",
    "# prediction\n",
    "yPred8Feature = yPred = np.dot(X, w)"
   ]
  },
  {
   "cell_type": "code",
   "execution_count": 0,
   "metadata": {
    "colab": {
     "base_uri": "https://localhost:8080/",
     "height": 150
    },
    "colab_type": "code",
    "executionInfo": {
     "elapsed": 3481,
     "status": "ok",
     "timestamp": 1575833717044,
     "user": {
      "displayName": "Max Q",
      "photoUrl": "",
      "userId": "10263355661517414420"
     },
     "user_tz": 300
    },
    "id": "hz8q4G9Vbctp",
    "outputId": "80b2cdb0-a586-448f-a1f6-42d84202aa01"
   },
   "outputs": [
    {
     "data": {
      "text/plain": [
       "array([[-2.64611130e-01],\n",
       "       [ 8.28612458e+00],\n",
       "       [-2.07703327e+00],\n",
       "       [-6.35661778e+00],\n",
       "       [-1.30720676e-02],\n",
       "       [ 1.64293567e+00],\n",
       "       [-2.08380043e-03],\n",
       "       [-1.09229711e-01]])"
      ]
     },
     "execution_count": 23,
     "metadata": {
      "tags": []
     },
     "output_type": "execute_result"
    }
   ],
   "source": [
    "w"
   ]
  },
  {
   "cell_type": "code",
   "execution_count": 0,
   "metadata": {
    "colab": {
     "base_uri": "https://localhost:8080/",
     "height": 265
    },
    "colab_type": "code",
    "executionInfo": {
     "elapsed": 3666,
     "status": "ok",
     "timestamp": 1575833717293,
     "user": {
      "displayName": "Max Q",
      "photoUrl": "",
      "userId": "10263355661517414420"
     },
     "user_tz": 300
    },
    "id": "9wVphfLKbctq",
    "outputId": "119c688d-245a-490b-9554-902779a8a046"
   },
   "outputs": [
    {
     "data": {
      "image/png": "[encoded data removed]",
      "text/plain": [
       "<Figure size 432x288 with 1 Axes>"
      ]
     },
     "metadata": {
      "tags": []
     },
     "output_type": "display_data"
    }
   ],
   "source": [
    "plt.plot(xD, y, 'o', label='Data')\n",
    "plt.plot(xD, yPerf, 'o-', label='Underlying Distribution')\n",
    "plt.plot(xD, yPred, 'o-', label='Predicted')\n",
    "\n",
    "plt.legend()\n",
    "plt.show()"
   ]
  },
  {
   "cell_type": "code",
   "execution_count": 0,
   "metadata": {
    "colab": {
     "base_uri": "https://localhost:8080/",
     "height": 33
    },
    "colab_type": "code",
    "executionInfo": {
     "elapsed": 3624,
     "status": "ok",
     "timestamp": 1575833717294,
     "user": {
      "displayName": "Max Q",
      "photoUrl": "",
      "userId": "10263355661517414420"
     },
     "user_tz": 300
    },
    "id": "sB5FgxqCbcts",
    "outputId": "cae67c81-e8db-4b40-a6cb-83d78f02c264"
   },
   "outputs": [
    {
     "name": "stdout",
     "output_type": "stream",
     "text": [
      "RMSE:  3.3097843019929725\n"
     ]
    }
   ],
   "source": [
    "print('RMSE: ', rmse(yPred, y))"
   ]
  },
  {
   "cell_type": "markdown",
   "metadata": {
    "colab_type": "text",
    "id": "bjUKcac3bctt"
   },
   "source": [
    "Even though RMSE here (with much more higher features) is lower than previous case, we can see this Predicted Line is quite far from the Underlying distribution. This is called **Overfitting**."
   ]
  },
  {
   "cell_type": "markdown",
   "metadata": {
    "colab_type": "text",
    "id": "mbgmXOxdbctu"
   },
   "source": [
    "When does the model overfits: when we have more features or comparitively less data for the model.\n",
    "\n",
    "What exactly is overfitting:\n",
    "It pays more attention to the noise of the data provided, in a sense trying to rotely memorize everything, \n",
    "without generalizing. \n",
    "\n",
    "Since we don't know when to stop adding features, what can be done:\n",
    "- Solution is to work with a model or feature set that can slightly overfit your data, and then use techniques to prevent overfitting from happening.\n",
    "The alternative gives us underfitting which we cannot fix unless you modify the feature set or model.\n",
    "\n",
    "Options we have to prevent overfitting. Well there are many, most widely used ones are\n",
    "- Using a validation set\n",
    "- Regularization: add penalty on weights"
   ]
  },
  {
   "cell_type": "code",
   "execution_count": 0,
   "metadata": {
    "colab": {},
    "colab_type": "code",
    "id": "XZxmLfzjbctu"
   },
   "outputs": [],
   "source": [
    "λ = 10 # what is lambda: regularization parameter\n",
    "f = 8 # number of features"
   ]
  },
  {
   "cell_type": "code",
   "execution_count": 0,
   "metadata": {
    "colab": {
     "base_uri": "https://localhost:8080/",
     "height": 150
    },
    "colab_type": "code",
    "executionInfo": {
     "elapsed": 3783,
     "status": "ok",
     "timestamp": 1575833717503,
     "user": {
      "displayName": "Max Q",
      "photoUrl": "",
      "userId": "10263355661517414420"
     },
     "user_tz": 300
    },
    "id": "EWvLnUOTbctw",
    "outputId": "11f1ffbc-2ff4-47c3-a8d1-3deb234fa806"
   },
   "outputs": [
    {
     "data": {
      "text/plain": [
       "array([[ 0.21326186],\n",
       "       [ 0.40727946],\n",
       "       [-0.46745243],\n",
       "       [-0.31891582],\n",
       "       [-0.51080301],\n",
       "       [ 0.38864889],\n",
       "       [ 0.03613141],\n",
       "       [-0.03367748]])"
      ]
     },
     "execution_count": 27,
     "metadata": {
      "tags": []
     },
     "output_type": "execute_result"
    }
   ],
   "source": [
    "# analytical solution\n",
    "w = np.dot(np.linalg.inv(np.dot(X.T, X) + (λ)*np.identity(f)), np.dot(X.T, y))\n",
    " \n",
    "# prediction\n",
    "yPred8FeatRegu = yPred = np.dot(X, w)\n",
    "w"
   ]
  },
  {
   "cell_type": "code",
   "execution_count": 0,
   "metadata": {
    "colab": {
     "base_uri": "https://localhost:8080/",
     "height": 265
    },
    "colab_type": "code",
    "executionInfo": {
     "elapsed": 4075,
     "status": "ok",
     "timestamp": 1575833717828,
     "user": {
      "displayName": "Max Q",
      "photoUrl": "",
      "userId": "10263355661517414420"
     },
     "user_tz": 300
    },
    "id": "CQiyDIi_bctx",
    "outputId": "f570c907-ce57-4350-d6cc-0fe1815ec86e"
   },
   "outputs": [
    {
     "data": {
      "image/png": "[encoded data removed]",
      "text/plain": [
       "<Figure size 432x288 with 1 Axes>"
      ]
     },
     "metadata": {
      "tags": []
     },
     "output_type": "display_data"
    }
   ],
   "source": [
    "plt.plot(xD, y, 'o', label='Data')\n",
    "plt.plot(xD, yPerf, 'o-', label='Underlying Distribution')\n",
    "plt.plot(xD, yPred, 'o-', label='Predicted')\n",
    "\n",
    "plt.legend()\n",
    "plt.show()"
   ]
  },
  {
   "cell_type": "markdown",
   "metadata": {
    "colab_type": "text",
    "id": "gw4mgsnbbct0"
   },
   "source": [
    "Can we know from the plot if the value of λ is optimal:\n",
    "\n",
    "Somewhat but not exactly. \n",
    "\n",
    "To get the exact value of lambda you need to split dataset between training and testing. Then cycle over multiple values of lambda. The most optimum is the one which gives the lowest test error. \n",
    "\n",
    "What does low test error represent?"
   ]
  },
  {
   "cell_type": "markdown",
   "metadata": {
    "colab_type": "text",
    "id": "mcSDizyQbct0"
   },
   "source": [
    "All models together:"
   ]
  },
  {
   "cell_type": "code",
   "execution_count": 0,
   "metadata": {
    "colab": {
     "base_uri": "https://localhost:8080/",
     "height": 483
    },
    "colab_type": "code",
    "executionInfo": {
     "elapsed": 4456,
     "status": "ok",
     "timestamp": 1575833718242,
     "user": {
      "displayName": "Max Q",
      "photoUrl": "",
      "userId": "10263355661517414420"
     },
     "user_tz": 300
    },
    "id": "jCYdZCQRbct1",
    "outputId": "a6973994-2258-43b8-df7f-4ab250dad2c2"
   },
   "outputs": [
    {
     "data": {
      "image/png": "[encoded data removed]",
      "text/plain": [
       "<Figure size 864x576 with 1 Axes>"
      ]
     },
     "metadata": {
      "tags": []
     },
     "output_type": "display_data"
    }
   ],
   "source": [
    "plt.figure(figsize=(12, 8))\n",
    "plt.plot(xD, y, 'o', label='Data')\n",
    "plt.plot(xD, yPerf, 'o-', label='Underlying Distribution')\n",
    "plt.plot(xD, yPredLinear, 'o-', label='2 Feature')\n",
    "plt.plot(xD, yPred4Feature, 'o-', label='4 Feature')\n",
    "plt.plot(xD, yPred8Feature, 'o-', label='8 Feature')\n",
    "plt.plot(xD, yPred8FeatRegu, 'o-', label='8 Feature Regularized')\n",
    "\n",
    "plt.legend()\n",
    "plt.show()"
   ]
  },
  {
   "cell_type": "markdown",
   "metadata": {
    "colab_type": "text",
    "id": "oVKTzp4Hbct2"
   },
   "source": [
    "### Further Complex Multivariate Data"
   ]
  },
  {
   "cell_type": "markdown",
   "metadata": {
    "colab_type": "text",
    "id": "Y62qieYVbct2"
   },
   "source": [
    "We will take the Housing dataset which contains information about different houses in Boston. This data was originally a part of UCI Machine Learning Repository and has been removed now. We can also access this data from the scikit-learn library. There are 506 samples and 13 feature variables in this dataset. The objective is to predict the value of prices of the house using the given features."
   ]
  },
  {
   "cell_type": "code",
   "execution_count": 0,
   "metadata": {
    "colab": {},
    "colab_type": "code",
    "id": "wVI7N2nWbct3"
   },
   "outputs": [],
   "source": [
    "from sklearn.datasets import load_boston\n",
    "dataset = load_boston()"
   ]
  },
  {
   "cell_type": "code",
   "execution_count": 0,
   "metadata": {
    "colab": {
     "base_uri": "https://localhost:8080/",
     "height": 50
    },
    "colab_type": "code",
    "executionInfo": {
     "elapsed": 4409,
     "status": "ok",
     "timestamp": 1575833718248,
     "user": {
      "displayName": "Max Q",
      "photoUrl": "",
      "userId": "10263355661517414420"
     },
     "user_tz": 300
    },
    "id": "w_DihUt2bct4",
    "outputId": "b8feba9c-0f64-4dc9-d72c-fb5d5e42a666"
   },
   "outputs": [
    {
     "name": "stdout",
     "output_type": "stream",
     "text": [
      "dict_keys(['data', 'target', 'feature_names', 'DESCR', 'filename'])\n",
      "<class 'sklearn.utils.Bunch'>\n"
     ]
    }
   ],
   "source": [
    "print(dataset.keys())\n",
    "print(type(dataset))"
   ]
  },
  {
   "cell_type": "code",
   "execution_count": 0,
   "metadata": {
    "colab": {
     "base_uri": "https://localhost:8080/",
     "height": 890
    },
    "colab_type": "code",
    "executionInfo": {
     "elapsed": 4364,
     "status": "ok",
     "timestamp": 1575833718250,
     "user": {
      "displayName": "Max Q",
      "photoUrl": "",
      "userId": "10263355661517414420"
     },
     "user_tz": 300
    },
    "id": "oIstAmPEbct5",
    "outputId": "ea069114-f839-4c7e-de5f-d6a5a2488394"
   },
   "outputs": [
    {
     "name": "stdout",
     "output_type": "stream",
     "text": [
      ".. _boston_dataset:\n",
      "\n",
      "Boston house prices dataset\n",
      "---------------------------\n",
      "\n",
      "**Data Set Characteristics:**  \n",
      "\n",
      "    :Number of Instances: 506 \n",
      "\n",
      "    :Number of Attributes: 13 numeric/categorical predictive. Median Value (attribute 14) is usually the target.\n",
      "\n",
      "    :Attribute Information (in order):\n",
      "        - CRIM     per capita crime rate by town\n",
      "        - ZN       proportion of residential land zoned for lots over 25,000 sq.ft.\n",
      "        - INDUS    proportion of non-retail business acres per town\n",
      "        - CHAS     Charles River dummy variable (= 1 if tract bounds river; 0 otherwise)\n",
      "        - NOX      nitric oxides concentration (parts per 10 million)\n",
      "        - RM       average number of rooms per dwelling\n",
      "        - AGE      proportion of owner-occupied units built prior to 1940\n",
      "        - DIS      weighted distances to five Boston employment centres\n",
      "        - RAD      index of accessibility to radial highways\n",
      "        - TAX      full-value property-tax rate per $10,000\n",
      "        - PTRATIO  pupil-teacher ratio by town\n",
      "        - B        1000(Bk - 0.63)^2 where Bk is the proportion of blacks by town\n",
      "        - LSTAT    % lower status of the population\n",
      "        - MEDV     Median value of owner-occupied homes in $1000's\n",
      "\n",
      "    :Missing Attribute Values: None\n",
      "\n",
      "    :Creator: Harrison, D. and Rubinfeld, D.L.\n",
      "\n",
      "This is a copy of UCI ML housing dataset.\n",
      "https://archive.ics.uci.edu/ml/machine-learning-databases/housing/\n",
      "\n",
      "\n",
      "This dataset was taken from the StatLib library which is maintained at Carnegie Mellon University.\n",
      "\n",
      "The Boston house-price data of Harrison, D. and Rubinfeld, D.L. 'Hedonic\n",
      "prices and the demand for clean air', J. Environ. Economics & Management,\n",
      "vol.5, 81-102, 1978.   Used in Belsley, Kuh & Welsch, 'Regression diagnostics\n",
      "...', Wiley, 1980.   N.B. Various transformations are used in the table on\n",
      "pages 244-261 of the latter.\n",
      "\n",
      "The Boston house-price data has been used in many machine learning papers that address regression\n",
      "problems.   \n",
      "     \n",
      ".. topic:: References\n",
      "\n",
      "   - Belsley, Kuh & Welsch, 'Regression diagnostics: Identifying Influential Data and Sources of Collinearity', Wiley, 1980. 244-261.\n",
      "   - Quinlan,R. (1993). Combining Instance-Based and Model-Based Learning. In Proceedings on the Tenth International Conference of Machine Learning, 236-243, University of Massachusetts, Amherst. Morgan Kaufmann.\n",
      "\n"
     ]
    }
   ],
   "source": [
    "print(dataset.DESCR)"
   ]
  },
  {
   "cell_type": "code",
   "execution_count": 0,
   "metadata": {
    "colab": {
     "base_uri": "https://localhost:8080/",
     "height": 196
    },
    "colab_type": "code",
    "executionInfo": {
     "elapsed": 4333,
     "status": "ok",
     "timestamp": 1575833718255,
     "user": {
      "displayName": "Max Q",
      "photoUrl": "",
      "userId": "10263355661517414420"
     },
     "user_tz": 300
    },
    "id": "LkF-i2Gubct6",
    "outputId": "671f2784-050c-45b7-cd77-3048dd99871c"
   },
   "outputs": [
    {
     "data": {
      "text/html": [
       "<div>\n",
       "<style scoped>\n",
       "    .dataframe tbody tr th:only-of-type {\n",
       "        vertical-align: middle;\n",
       "    }\n",
       "\n",
       "    .dataframe tbody tr th {\n",
       "        vertical-align: top;\n",
       "    }\n",
       "\n",
       "    .dataframe thead th {\n",
       "        text-align: right;\n",
       "    }\n",
       "</style>\n",
       "<table border=\"1\" class=\"dataframe\">\n",
       "  <thead>\n",
       "    <tr style=\"text-align: right;\">\n",
       "      <th></th>\n",
       "      <th>CRIM</th>\n",
       "      <th>ZN</th>\n",
       "      <th>INDUS</th>\n",
       "      <th>CHAS</th>\n",
       "      <th>NOX</th>\n",
       "      <th>RM</th>\n",
       "      <th>AGE</th>\n",
       "      <th>DIS</th>\n",
       "      <th>RAD</th>\n",
       "      <th>TAX</th>\n",
       "      <th>PTRATIO</th>\n",
       "      <th>B</th>\n",
       "      <th>LSTAT</th>\n",
       "    </tr>\n",
       "  </thead>\n",
       "  <tbody>\n",
       "    <tr>\n",
       "      <th>0</th>\n",
       "      <td>0.00632</td>\n",
       "      <td>18.0</td>\n",
       "      <td>2.31</td>\n",
       "      <td>0.0</td>\n",
       "      <td>0.538</td>\n",
       "      <td>6.575</td>\n",
       "      <td>65.2</td>\n",
       "      <td>4.0900</td>\n",
       "      <td>1.0</td>\n",
       "      <td>296.0</td>\n",
       "      <td>15.3</td>\n",
       "      <td>396.90</td>\n",
       "      <td>4.98</td>\n",
       "    </tr>\n",
       "    <tr>\n",
       "      <th>1</th>\n",
       "      <td>0.02731</td>\n",
       "      <td>0.0</td>\n",
       "      <td>7.07</td>\n",
       "      <td>0.0</td>\n",
       "      <td>0.469</td>\n",
       "      <td>6.421</td>\n",
       "      <td>78.9</td>\n",
       "      <td>4.9671</td>\n",
       "      <td>2.0</td>\n",
       "      <td>242.0</td>\n",
       "      <td>17.8</td>\n",
       "      <td>396.90</td>\n",
       "      <td>9.14</td>\n",
       "    </tr>\n",
       "    <tr>\n",
       "      <th>2</th>\n",
       "      <td>0.02729</td>\n",
       "      <td>0.0</td>\n",
       "      <td>7.07</td>\n",
       "      <td>0.0</td>\n",
       "      <td>0.469</td>\n",
       "      <td>7.185</td>\n",
       "      <td>61.1</td>\n",
       "      <td>4.9671</td>\n",
       "      <td>2.0</td>\n",
       "      <td>242.0</td>\n",
       "      <td>17.8</td>\n",
       "      <td>392.83</td>\n",
       "      <td>4.03</td>\n",
       "    </tr>\n",
       "    <tr>\n",
       "      <th>3</th>\n",
       "      <td>0.03237</td>\n",
       "      <td>0.0</td>\n",
       "      <td>2.18</td>\n",
       "      <td>0.0</td>\n",
       "      <td>0.458</td>\n",
       "      <td>6.998</td>\n",
       "      <td>45.8</td>\n",
       "      <td>6.0622</td>\n",
       "      <td>3.0</td>\n",
       "      <td>222.0</td>\n",
       "      <td>18.7</td>\n",
       "      <td>394.63</td>\n",
       "      <td>2.94</td>\n",
       "    </tr>\n",
       "    <tr>\n",
       "      <th>4</th>\n",
       "      <td>0.06905</td>\n",
       "      <td>0.0</td>\n",
       "      <td>2.18</td>\n",
       "      <td>0.0</td>\n",
       "      <td>0.458</td>\n",
       "      <td>7.147</td>\n",
       "      <td>54.2</td>\n",
       "      <td>6.0622</td>\n",
       "      <td>3.0</td>\n",
       "      <td>222.0</td>\n",
       "      <td>18.7</td>\n",
       "      <td>396.90</td>\n",
       "      <td>5.33</td>\n",
       "    </tr>\n",
       "  </tbody>\n",
       "</table>\n",
       "</div>"
      ],
      "text/plain": [
       "      CRIM    ZN  INDUS  CHAS    NOX  ...  RAD    TAX  PTRATIO       B  LSTAT\n",
       "0  0.00632  18.0   2.31   0.0  0.538  ...  1.0  296.0     15.3  396.90   4.98\n",
       "1  0.02731   0.0   7.07   0.0  0.469  ...  2.0  242.0     17.8  396.90   9.14\n",
       "2  0.02729   0.0   7.07   0.0  0.469  ...  2.0  242.0     17.8  392.83   4.03\n",
       "3  0.03237   0.0   2.18   0.0  0.458  ...  3.0  222.0     18.7  394.63   2.94\n",
       "4  0.06905   0.0   2.18   0.0  0.458  ...  3.0  222.0     18.7  396.90   5.33\n",
       "\n",
       "[5 rows x 13 columns]"
      ]
     },
     "execution_count": 33,
     "metadata": {
      "tags": []
     },
     "output_type": "execute_result"
    }
   ],
   "source": [
    "df = pd.DataFrame(dataset.data, columns=dataset.feature_names)\n",
    "df.head()"
   ]
  },
  {
   "cell_type": "markdown",
   "metadata": {
    "colab_type": "text",
    "id": "94KuAUYObct8"
   },
   "source": [
    "We can see that the target value by the name MEDV is missing from the dataframe. It is present in dataset.target.\n",
    "Let's add that to the df."
   ]
  },
  {
   "cell_type": "code",
   "execution_count": 0,
   "metadata": {
    "colab": {
     "base_uri": "https://localhost:8080/",
     "height": 196
    },
    "colab_type": "code",
    "executionInfo": {
     "elapsed": 4716,
     "status": "ok",
     "timestamp": 1575833718689,
     "user": {
      "displayName": "Max Q",
      "photoUrl": "",
      "userId": "10263355661517414420"
     },
     "user_tz": 300
    },
    "id": "Xzyw71rKbct8",
    "outputId": "ab5d2428-52b1-4462-a3de-eb555be909ee"
   },
   "outputs": [
    {
     "data": {
      "text/html": [
       "<div>\n",
       "<style scoped>\n",
       "    .dataframe tbody tr th:only-of-type {\n",
       "        vertical-align: middle;\n",
       "    }\n",
       "\n",
       "    .dataframe tbody tr th {\n",
       "        vertical-align: top;\n",
       "    }\n",
       "\n",
       "    .dataframe thead th {\n",
       "        text-align: right;\n",
       "    }\n",
       "</style>\n",
       "<table border=\"1\" class=\"dataframe\">\n",
       "  <thead>\n",
       "    <tr style=\"text-align: right;\">\n",
       "      <th></th>\n",
       "      <th>CRIM</th>\n",
       "      <th>ZN</th>\n",
       "      <th>INDUS</th>\n",
       "      <th>CHAS</th>\n",
       "      <th>NOX</th>\n",
       "      <th>RM</th>\n",
       "      <th>AGE</th>\n",
       "      <th>DIS</th>\n",
       "      <th>RAD</th>\n",
       "      <th>TAX</th>\n",
       "      <th>PTRATIO</th>\n",
       "      <th>B</th>\n",
       "      <th>LSTAT</th>\n",
       "      <th>MEDV</th>\n",
       "    </tr>\n",
       "  </thead>\n",
       "  <tbody>\n",
       "    <tr>\n",
       "      <th>0</th>\n",
       "      <td>0.00632</td>\n",
       "      <td>18.0</td>\n",
       "      <td>2.31</td>\n",
       "      <td>0.0</td>\n",
       "      <td>0.538</td>\n",
       "      <td>6.575</td>\n",
       "      <td>65.2</td>\n",
       "      <td>4.0900</td>\n",
       "      <td>1.0</td>\n",
       "      <td>296.0</td>\n",
       "      <td>15.3</td>\n",
       "      <td>396.90</td>\n",
       "      <td>4.98</td>\n",
       "      <td>24.0</td>\n",
       "    </tr>\n",
       "    <tr>\n",
       "      <th>1</th>\n",
       "      <td>0.02731</td>\n",
       "      <td>0.0</td>\n",
       "      <td>7.07</td>\n",
       "      <td>0.0</td>\n",
       "      <td>0.469</td>\n",
       "      <td>6.421</td>\n",
       "      <td>78.9</td>\n",
       "      <td>4.9671</td>\n",
       "      <td>2.0</td>\n",
       "      <td>242.0</td>\n",
       "      <td>17.8</td>\n",
       "      <td>396.90</td>\n",
       "      <td>9.14</td>\n",
       "      <td>21.6</td>\n",
       "    </tr>\n",
       "    <tr>\n",
       "      <th>2</th>\n",
       "      <td>0.02729</td>\n",
       "      <td>0.0</td>\n",
       "      <td>7.07</td>\n",
       "      <td>0.0</td>\n",
       "      <td>0.469</td>\n",
       "      <td>7.185</td>\n",
       "      <td>61.1</td>\n",
       "      <td>4.9671</td>\n",
       "      <td>2.0</td>\n",
       "      <td>242.0</td>\n",
       "      <td>17.8</td>\n",
       "      <td>392.83</td>\n",
       "      <td>4.03</td>\n",
       "      <td>34.7</td>\n",
       "    </tr>\n",
       "    <tr>\n",
       "      <th>3</th>\n",
       "      <td>0.03237</td>\n",
       "      <td>0.0</td>\n",
       "      <td>2.18</td>\n",
       "      <td>0.0</td>\n",
       "      <td>0.458</td>\n",
       "      <td>6.998</td>\n",
       "      <td>45.8</td>\n",
       "      <td>6.0622</td>\n",
       "      <td>3.0</td>\n",
       "      <td>222.0</td>\n",
       "      <td>18.7</td>\n",
       "      <td>394.63</td>\n",
       "      <td>2.94</td>\n",
       "      <td>33.4</td>\n",
       "    </tr>\n",
       "    <tr>\n",
       "      <th>4</th>\n",
       "      <td>0.06905</td>\n",
       "      <td>0.0</td>\n",
       "      <td>2.18</td>\n",
       "      <td>0.0</td>\n",
       "      <td>0.458</td>\n",
       "      <td>7.147</td>\n",
       "      <td>54.2</td>\n",
       "      <td>6.0622</td>\n",
       "      <td>3.0</td>\n",
       "      <td>222.0</td>\n",
       "      <td>18.7</td>\n",
       "      <td>396.90</td>\n",
       "      <td>5.33</td>\n",
       "      <td>36.2</td>\n",
       "    </tr>\n",
       "  </tbody>\n",
       "</table>\n",
       "</div>"
      ],
      "text/plain": [
       "      CRIM    ZN  INDUS  CHAS    NOX  ...    TAX  PTRATIO       B  LSTAT  MEDV\n",
       "0  0.00632  18.0   2.31   0.0  0.538  ...  296.0     15.3  396.90   4.98  24.0\n",
       "1  0.02731   0.0   7.07   0.0  0.469  ...  242.0     17.8  396.90   9.14  21.6\n",
       "2  0.02729   0.0   7.07   0.0  0.469  ...  242.0     17.8  392.83   4.03  34.7\n",
       "3  0.03237   0.0   2.18   0.0  0.458  ...  222.0     18.7  394.63   2.94  33.4\n",
       "4  0.06905   0.0   2.18   0.0  0.458  ...  222.0     18.7  396.90   5.33  36.2\n",
       "\n",
       "[5 rows x 14 columns]"
      ]
     },
     "execution_count": 34,
     "metadata": {
      "tags": []
     },
     "output_type": "execute_result"
    }
   ],
   "source": [
    "df['MEDV'] = dataset.target\n",
    "df.head()\n"
   ]
  },
  {
   "cell_type": "markdown",
   "metadata": {
    "colab_type": "text",
    "id": "JaZo0Cjgbct-"
   },
   "source": [
    "Are there any null values in the dataset?"
   ]
  },
  {
   "cell_type": "code",
   "execution_count": 0,
   "metadata": {
    "colab": {
     "base_uri": "https://localhost:8080/",
     "height": 268
    },
    "colab_type": "code",
    "executionInfo": {
     "elapsed": 4670,
     "status": "ok",
     "timestamp": 1575833718691,
     "user": {
      "displayName": "Max Q",
      "photoUrl": "",
      "userId": "10263355661517414420"
     },
     "user_tz": 300
    },
    "id": "pogI_Oxwbct_",
    "outputId": "63d2e933-b77f-4bc1-e099-d37490dc714a"
   },
   "outputs": [
    {
     "data": {
      "text/plain": [
       "CRIM       0\n",
       "ZN         0\n",
       "INDUS      0\n",
       "CHAS       0\n",
       "NOX        0\n",
       "RM         0\n",
       "AGE        0\n",
       "DIS        0\n",
       "RAD        0\n",
       "TAX        0\n",
       "PTRATIO    0\n",
       "B          0\n",
       "LSTAT      0\n",
       "MEDV       0\n",
       "dtype: int64"
      ]
     },
     "execution_count": 35,
     "metadata": {
      "tags": []
     },
     "output_type": "execute_result"
    }
   ],
   "source": [
    "df.isnull().sum()"
   ]
  },
  {
   "cell_type": "markdown",
   "metadata": {
    "colab_type": "text",
    "id": "MtEhLGisbcuA"
   },
   "source": [
    "Even though there are none, it's a good practice to check."
   ]
  },
  {
   "cell_type": "markdown",
   "metadata": {
    "colab_type": "text",
    "id": "KJeJAOaXbcuA"
   },
   "source": [
    "#### Exploratory Data Analysis"
   ]
  },
  {
   "cell_type": "markdown",
   "metadata": {
    "colab_type": "text",
    "id": "P_9C21cDbcuA"
   },
   "source": [
    "We here use distplot method from the seaborn library, which is another popular graphing library for Python."
   ]
  },
  {
   "cell_type": "code",
   "execution_count": 0,
   "metadata": {
    "colab": {
     "base_uri": "https://localhost:8080/",
     "height": 557
    },
    "colab_type": "code",
    "executionInfo": {
     "elapsed": 5968,
     "status": "ok",
     "timestamp": 1575833720042,
     "user": {
      "displayName": "Max Q",
      "photoUrl": "",
      "userId": "10263355661517414420"
     },
     "user_tz": 300
    },
    "id": "HZReYjg8bcuB",
    "outputId": "6175e4d9-5f4f-4680-db6b-07f781882a89"
   },
   "outputs": [
    {
     "data": {
      "image/png": "[encoded data removed]",
      "text/plain": [
       "<Figure size 864x648 with 1 Axes>"
      ]
     },
     "metadata": {
      "tags": []
     },
     "output_type": "display_data"
    }
   ],
   "source": [
    "sns.set(rc={'figure.figsize':(12, 9)})\n",
    "sns.distplot(df['MEDV'], bins=30)\n",
    "plt.show()"
   ]
  },
  {
   "cell_type": "markdown",
   "metadata": {
    "colab_type": "text",
    "id": "wyrv1OqrbcuC"
   },
   "source": [
    "We can see that it mostly normally distributed with a few outliers."
   ]
  },
  {
   "cell_type": "markdown",
   "metadata": {
    "colab_type": "text",
    "id": "pGxbbm4hbcuC"
   },
   "source": [
    "## Linear Regression - Assignment"
   ]
  },
  {
   "cell_type": "markdown",
   "metadata": {
    "colab_type": "text",
    "id": "gEqwpLlpbcuD"
   },
   "source": [
    "We'll work with the above dataset for the assignment below. Create a blank notebook for the assignment."
   ]
  },
  {
   "cell_type": "markdown",
   "metadata": {
    "colab_type": "text",
    "id": "mB8b9CeFbcuD"
   },
   "source": [
    "### Question 1"
   ]
  },
  {
   "cell_type": "markdown",
   "metadata": {
    "colab_type": "text",
    "id": "WsIr8mlrbcuE"
   },
   "source": [
    "1. Normalize the data using StandardScaler from sklearn. [0.5]\n",
    "2. Split the multivariate data into training/validation data (20% validation data) and plot train error and validation error as a function of the lambda regularizer. [1]\n",
    "3. What is the best lambda where the best fit occurs? Use this best lambda from here on out. [Note: You may be surprised by the best lambda here - this won't be the case for all datasets.] [1]"
   ]
  },
  {
   "cell_type": "markdown",
   "metadata": {
    "colab_type": "text",
    "id": "78ehw0CNf2dL"
   },
   "source": [
    "**Subquestion 1**"
   ]
  },
  {
   "cell_type": "code",
   "execution_count": 0,
   "metadata": {
    "colab": {},
    "colab_type": "code",
    "id": "lWNbe3Hmf6IE"
   },
   "outputs": [],
   "source": [
    "from sklearn.preprocessing import StandardScaler\n"
   ]
  },
  {
   "cell_type": "code",
   "execution_count": 0,
   "metadata": {
    "colab": {
     "base_uri": "https://localhost:8080/",
     "height": 33
    },
    "colab_type": "code",
    "executionInfo": {
     "elapsed": 5927,
     "status": "ok",
     "timestamp": 1575833720046,
     "user": {
      "displayName": "Max Q",
      "photoUrl": "",
      "userId": "10263355661517414420"
     },
     "user_tz": 300
    },
    "id": "BxfdXLFXhtXa",
    "outputId": "3e53e539-99c5-400b-ce8a-18504523bb2f"
   },
   "outputs": [
    {
     "data": {
      "text/plain": [
       "(506, 14)"
      ]
     },
     "execution_count": 38,
     "metadata": {
      "tags": []
     },
     "output_type": "execute_result"
    }
   ],
   "source": [
    "df_target=df.iloc[:,13]\n",
    "df_feature=df.iloc[:,0:13]\n",
    "df_feature_std=StandardScaler().fit_transform(df_feature)\n",
    "\n",
    "#print(type(df_feature_std))\n",
    "#x = np.vstack((np.ones(np.shape(x)), x)).T\n",
    "df_feature_std= np.hstack(((np.ones((np.shape(df_feature_std)[0],1))), df_feature_std))\n",
    "#print(np.ones((np.shape(df_feature_std)[0],1)).shape)\n",
    "df_feature_std.shape\n",
    "#print(df_feature_std.shape)\n"
   ]
  },
  {
   "cell_type": "code",
   "execution_count": 0,
   "metadata": {
    "colab": {
     "base_uri": "https://localhost:8080/",
     "height": 234
    },
    "colab_type": "code",
    "executionInfo": {
     "elapsed": 5900,
     "status": "ok",
     "timestamp": 1575833720047,
     "user": {
      "displayName": "Max Q",
      "photoUrl": "",
      "userId": "10263355661517414420"
     },
     "user_tz": 300
    },
    "id": "3AKqDJBtkTKI",
    "outputId": "254943dd-093c-4842-b537-779660c10ef6"
   },
   "outputs": [
    {
     "data": {
      "text/plain": [
       "array([[ 1.        , -0.41978194,  0.28482986, ..., -1.45900038,\n",
       "         0.44105193, -1.0755623 ],\n",
       "       [ 1.        , -0.41733926, -0.48772236, ..., -0.30309415,\n",
       "         0.44105193, -0.49243937],\n",
       "       [ 1.        , -0.41734159, -0.48772236, ..., -0.30309415,\n",
       "         0.39642699, -1.2087274 ],\n",
       "       ...,\n",
       "       [ 1.        , -0.41344658, -0.48772236, ...,  1.17646583,\n",
       "         0.44105193, -0.98304761],\n",
       "       [ 1.        , -0.40776407, -0.48772236, ...,  1.17646583,\n",
       "         0.4032249 , -0.86530163],\n",
       "       [ 1.        , -0.41500016, -0.48772236, ...,  1.17646583,\n",
       "         0.44105193, -0.66905833]])"
      ]
     },
     "execution_count": 39,
     "metadata": {
      "tags": []
     },
     "output_type": "execute_result"
    }
   ],
   "source": [
    "df_feature_std"
   ]
  },
  {
   "cell_type": "markdown",
   "metadata": {
    "colab_type": "text",
    "id": "nJHiL_hEf605"
   },
   "source": [
    "**Subquestion 2**"
   ]
  },
  {
   "cell_type": "code",
   "execution_count": 0,
   "metadata": {
    "colab": {},
    "colab_type": "code",
    "id": "Fhj0Gp2Gf9n-"
   },
   "outputs": [],
   "source": [
    "import numpy as np\n",
    "from sklearn.model_selection import train_test_split"
   ]
  },
  {
   "cell_type": "code",
   "execution_count": 0,
   "metadata": {
    "colab": {
     "base_uri": "https://localhost:8080/",
     "height": 607
    },
    "colab_type": "code",
    "executionInfo": {
     "elapsed": 5871,
     "status": "ok",
     "timestamp": 1575833720052,
     "user": {
      "displayName": "Max Q",
      "photoUrl": "",
      "userId": "10263355661517414420"
     },
     "user_tz": 300
    },
    "id": "FBdjsK6JjZw-",
    "outputId": "9061397f-86ce-4326-a9f5-3d7d625476b1"
   },
   "outputs": [
    {
     "name": "stdout",
     "output_type": "stream",
     "text": [
      "[22.48035288 -1.02638248  1.0433458   0.03759363  0.59396238 -1.86651867\n",
      "  2.60322635 -0.08776804 -2.91646482  2.12402208 -1.85033055 -2.26212378\n",
      "  0.73967912 -3.5155841 ]\n"
     ]
    },
    {
     "data": {
      "image/png": "[encoded data removed]",
      "text/plain": [
       "<Figure size 864x648 with 1 Axes>"
      ]
     },
     "metadata": {
      "tags": []
     },
     "output_type": "display_data"
    }
   ],
   "source": [
    "X_train, X_test, y_train, y_test = train_test_split(df_feature_std, df_target, test_size=0.2, random_state=0)\n",
    "#λ = 10 # what is lambda: regularization parameter\n",
    "f = 14 # number of features\n",
    "rng=100\n",
    "#rmse_train_ls=[]\n",
    "#rmse_test_ls=[]\n",
    "mse_train_ls=[]\n",
    "mse_test_ls=[]\n",
    "\n",
    "λ_ls=[]\n",
    "for λ in range(rng):\n",
    "  w = np.dot(np.linalg.inv(np.dot(X_train.T, X_train) + (λ)*np.identity(f)), np.dot(X_train.T, y_train))\n",
    "  #w = np.dot(np.linalg.inv(np.dot(X.T, X) + (λ)*np.identity(f)), np.dot(X.T, y))\n",
    "  #print(w.shape)\n",
    "  # prediction\n",
    "  yPred_train = np.dot(X_train, w)\n",
    "  yPred_test=np.dot(X_test,w) \n",
    "  #rmse_train=rmse (yPred_train,y_train)\n",
    "  #rmse_test=rmse (yPred_test,y_test)\n",
    "  #rmse_train_ls.append(rmse_train)\n",
    "  #rmse_test_ls.append(rmse_test)\n",
    "\n",
    "  mse_train=mean_squared_error(yPred_train,y_train)\n",
    "  mse_test=mean_squared_error(yPred_test,y_test)\n",
    "  mse_train_ls.append(mse_train)\n",
    "  mse_test_ls.append(mse_test)\n",
    "  λ_ls.append(λ)\n",
    "  if λ==0:\n",
    "    w0=w\n",
    "    print(w0)\n",
    "plt.plot(λ_ls,mse_train_ls, label=\"Train error\")\n",
    "plt.plot(λ_ls,mse_test_ls,label=\"Test error\")\n",
    "plt.legend()\n",
    "plt.xlabel(\"λ\")\n",
    "plt.ylabel(\"MSE\")\n",
    "plt.show()\n",
    "\n"
   ]
  },
  {
   "cell_type": "markdown",
   "metadata": {
    "colab_type": "text",
    "id": "K_yyO1bGf-Jo"
   },
   "source": [
    "**Subquestion 3**"
   ]
  },
  {
   "cell_type": "code",
   "execution_count": 0,
   "metadata": {
    "colab": {
     "base_uri": "https://localhost:8080/",
     "height": 33
    },
    "colab_type": "code",
    "executionInfo": {
     "elapsed": 6165,
     "status": "ok",
     "timestamp": 1575833720379,
     "user": {
      "displayName": "Max Q",
      "photoUrl": "",
      "userId": "10263355661517414420"
     },
     "user_tz": 300
    },
    "id": "ge_k984pgCDq",
    "outputId": "84282a21-2fee-4be5-b378-38d9096bc9d6"
   },
   "outputs": [
    {
     "name": "stdout",
     "output_type": "stream",
     "text": [
      "The best lambda where the best fit occurs is 0\n"
     ]
    }
   ],
   "source": [
    "min_indx=mse_test_ls.index(min(mse_test_ls))\n",
    "print(\"The best lambda where the best fit occurs is\",λ_ls[min_indx])\n",
    "  "
   ]
  },
  {
   "cell_type": "markdown",
   "metadata": {
    "colab_type": "text",
    "id": "EQ6KBnbpbcuE"
   },
   "source": [
    "### Question 2"
   ]
  },
  {
   "cell_type": "markdown",
   "metadata": {
    "colab_type": "text",
    "id": "CeznulorbcuF"
   },
   "source": [
    "1. Derive the gradient of the $L_2$ regularized objective for Linear Regression, $\\frac{\\partial}{\\partial \\theta_j}J(\\theta)$. Show your work (either by using in-line equations like we do here, or taking a picture of your work, and emdedding it in the notebook). [1]"
   ]
  },
  {
   "cell_type": "code",
   "execution_count": 0,
   "metadata": {
    "colab": {
     "base_uri": "https://localhost:8080/",
     "height": 50
    },
    "colab_type": "code",
    "executionInfo": {
     "elapsed": 8467,
     "status": "ok",
     "timestamp": 1575833722711,
     "user": {
      "displayName": "Max Q",
      "photoUrl": "",
      "userId": "10263355661517414420"
     },
     "user_tz": 300
    },
    "id": "orIzO1CLbDAJ",
    "outputId": "c031641e-bdf6-4f62-d34e-46bd661de70e"
   },
   "outputs": [
    {
     "name": "stdout",
     "output_type": "stream",
     "text": [
      "/bin/bash: -c: line 0: syntax error near unexpected token `https://github.com/aps1070-2019/project-4-Maxwell-Q/blob/master/Question_2.jpg'\n",
      "/bin/bash: -c: line 0: `[picture](https://github.com/aps1070-2019/project-4-Maxwell-Q/blob/master/Question_2.jpg)'\n"
     ]
    }
   ],
   "source": [
    "#![title](\"C:/Users/qg010/Google Drive/APS1070 Python/project-4-Maxwell-Q/Question 2.jpg\")\n",
    "#%%html\n",
    "#<img src=\"C:/Users/qg010/Google Drive/APS1070 Python/project-4-Maxwell-Q/Question 2.jpg\">\n",
    "#\"C:/Users/qg010/Google Drive/APS1070 Python/project-4-Maxwell-Q/Question 2.jpg\"\n",
    "#from IPython.display import Image\n",
    "#Image(filename=img src)\n",
    "#from IPython.display import Image \n",
    "#Image(filename=\"C:\\Users\\qg010\\Google Drive\\APS1070 Python\\project-4-Maxwell-Q\\Question 2.jpg\")\n",
    "![picture](https://github.com/aps1070-2019/project-4-Maxwell-Q/blob/master/Question_2.jpg)"
   ]
  },
  {
   "cell_type": "code",
   "execution_count": 0,
   "metadata": {
    "colab": {
     "base_uri": "https://localhost:8080/",
     "height": 441,
     "resources": {
      "http://localhost:8080/nbextensions/google.colab/files.js": {
       "data": "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",
       "headers": [
        [
         "content-type",
         "application/javascript"
        ]
       ],
       "ok": true,
       "status": 200,
       "status_text": ""
      }
     }
    },
    "colab_type": "code",
    "executionInfo": {
     "elapsed": 41699,
     "status": "ok",
     "timestamp": 1575833755976,
     "user": {
      "displayName": "Max Q",
      "photoUrl": "",
      "userId": "10263355661517414420"
     },
     "user_tz": 300
    },
    "id": "iq55HVsrlSEg",
    "outputId": "776caaa7-1a87-4090-8b3f-b821ddce8a1a"
   },
   "outputs": [
    {
     "data": {
      "text/html": [
       "\n",
       "     <input type=\"file\" id=\"files-d7da982c-26d2-4718-b21a-f0f30c3fde5a\" name=\"files[]\" multiple disabled />\n",
       "     <output id=\"result-d7da982c-26d2-4718-b21a-f0f30c3fde5a\">\n",
       "      Upload widget is only available when the cell has been executed in the\n",
       "      current browser session. Please rerun this cell to enable.\n",
       "      </output>\n",
       "      <script src=\"/nbextensions/google.colab/files.js\"></script> "
      ],
      "text/plain": [
       "<IPython.core.display.HTML object>"
      ]
     },
     "metadata": {
      "tags": []
     },
     "output_type": "display_data"
    },
    {
     "data": {
      "image/png": "Question_2.jpg",
      "text/plain": [
       "<IPython.core.display.Image object>"
      ]
     },
     "execution_count": 44,
     "metadata": {
      "image/png": {
       "height": 400,
       "width": 600
      },
      "tags": []
     },
     "output_type": "execute_result"
    }
   ],
   "source": [
    "from google.colab import files\n",
    "from IPython.display import Image\n",
    "uploaded=files.upload()\n",
    "Image(\"Question_2.jpg\",width=600, height=400)"
   ]
  },
  {
   "cell_type": "markdown",
   "metadata": {
    "colab_type": "text",
    "id": "dqtcegWNbcuF"
   },
   "source": [
    "### Question 3"
   ]
  },
  {
   "cell_type": "markdown",
   "metadata": {
    "colab_type": "text",
    "id": "LcxGaS1mbcuF"
   },
   "source": [
    "1. Implement batch gradient descent for linear regression using a fixed learning rate $\\eta$ of 1e-2. [1.5]\n",
    "\n",
    "2. Run the gradient descent for a fixed number of epochs (based on convergence) and verify that the results closely approximate the matrix solution with the same lambda. [1]"
   ]
  },
  {
   "cell_type": "code",
   "execution_count": 0,
   "metadata": {
    "cellView": "form",
    "colab": {
     "base_uri": "https://localhost:8080/",
     "height": 53
    },
    "colab_type": "code",
    "executionInfo": {
     "elapsed": 41672,
     "status": "ok",
     "timestamp": 1575833755984,
     "user": {
      "displayName": "Max Q",
      "photoUrl": "",
      "userId": "10263355661517414420"
     },
     "user_tz": 300
    },
    "id": "VQwUk6Sn1z1W",
    "outputId": "4c8ba25a-8827-4a24-e225-fe6d1b1e5d07"
   },
   "outputs": [
    {
     "data": {
      "text/plain": [
       "'import numpy as np\\nimport random\\nfrom sklearn.datasets.samples_generator import make_regression \\nimport pylab\\nfrom scipy import stats\\n\\ndef gradient_descent_2(alpha, x, y, numIterations):\\n    m = x.shape[0] # number of samples\\n    theta = np.ones(2)\\n    x_transpose = x.transpose()\\n    for iter in range(0, numIterations):\\n        hypothesis = np.dot(x, theta)\\n        loss = hypothesis - y\\n        J = np.sum(loss ** 2) / (2 * m)  # cost\\n        print \"iter %s | J: %.3f\" % (iter, J)      \\n        gradient = np.dot(x_transpose, loss) / m         \\n        theta = theta - alpha * gradient  # update\\n    return theta\\n\\nif __name__ == \\'__main__\\':\\n\\n    x, y = make_regression(n_samples=100, n_features=1, n_informative=1, \\n                        random_state=0, noise=35) \\n    m, n = np.shape(x)\\n    x = np.c_[ np.ones(m), x] # insert column\\n    alpha = 0.01 # learning rate\\n    theta = gradient_descent_2(alpha, x, y, 1000)\\n\\n    # plot\\n    for i in range(x.shape[1]):\\n        y_predict = theta[0] + theta[1]*x \\n    pylab.plot(x[:,1],y,\\'o\\')\\n    pylab.plot(x,y_predict,\\'k-\\')\\n    pylab.show()\\n    print \"Done!\"\\n  '"
      ]
     },
     "execution_count": 45,
     "metadata": {
      "tags": []
     },
     "output_type": "execute_result"
    }
   ],
   "source": [
    "#@title\n",
    "'''import numpy as np\n",
    "import random\n",
    "from sklearn.datasets.samples_generator import make_regression \n",
    "import pylab\n",
    "from scipy import stats\n",
    "\n",
    "def gradient_descent_2(alpha, x, y, numIterations):\n",
    "    m = x.shape[0] # number of samples\n",
    "    theta = np.ones(2)\n",
    "    x_transpose = x.transpose()\n",
    "    for iter in range(0, numIterations):\n",
    "        hypothesis = np.dot(x, theta)\n",
    "        loss = hypothesis - y\n",
    "        J = np.sum(loss ** 2) / (2 * m)  # cost\n",
    "        print \"iter %s | J: %.3f\" % (iter, J)      \n",
    "        gradient = np.dot(x_transpose, loss) / m         \n",
    "        theta = theta - alpha * gradient  # update\n",
    "    return theta\n",
    "\n",
    "if __name__ == '__main__':\n",
    "\n",
    "    x, y = make_regression(n_samples=100, n_features=1, n_informative=1, \n",
    "                        random_state=0, noise=35) \n",
    "    m, n = np.shape(x)\n",
    "    x = np.c_[ np.ones(m), x] # insert column\n",
    "    alpha = 0.01 # learning rate\n",
    "    theta = gradient_descent_2(alpha, x, y, 1000)\n",
    "\n",
    "    # plot\n",
    "    for i in range(x.shape[1]):\n",
    "        y_predict = theta[0] + theta[1]*x \n",
    "    pylab.plot(x[:,1],y,'o')\n",
    "    pylab.plot(x,y_predict,'k-')\n",
    "    pylab.show()\n",
    "    print \"Done!\"\n",
    "  '''"
   ]
  },
  {
   "cell_type": "code",
   "execution_count": 0,
   "metadata": {
    "colab": {},
    "colab_type": "code",
    "id": "gPUYDZ2Jou-J"
   },
   "outputs": [],
   "source": [
    "def gradientDescent(X,y,W,L,n_iters,λ): \n",
    "  #perform gd to learn L\n",
    "  n=y.size # number of training examples\n",
    "  W_ls=[]\n",
    "  for i in range(n_iters):\n",
    "    y_bar=np.dot(X,W)\n",
    "    W=W-L*(1/n)*(np.dot(X.T,y_bar-y)+np.dot(λ,W))\n",
    "    W_ls.append(W)\n",
    "  return np.array(W_ls)"
   ]
  },
  {
   "cell_type": "code",
   "execution_count": 0,
   "metadata": {
    "colab": {
     "base_uri": "https://localhost:8080/",
     "height": 640
    },
    "colab_type": "code",
    "executionInfo": {
     "elapsed": 41989,
     "status": "ok",
     "timestamp": 1575833756348,
     "user": {
      "displayName": "Max Q",
      "photoUrl": "",
      "userId": "10263355661517414420"
     },
     "user_tz": 300
    },
    "id": "ORPOQb8Tw2VB",
    "outputId": "8b93c213-adb9-4a36-e673-e21be94e9d30"
   },
   "outputs": [
    {
     "name": "stdout",
     "output_type": "stream",
     "text": [
      "The difference between two methods in percentage is [1.94297655e-02 1.49158648e+01 2.91763234e+01 1.15962887e+02\n",
      " 8.21011208e+00 5.99810432e+01 1.04153054e+01 6.11830721e+01\n",
      " 2.33040650e+01 8.55693378e+01 7.28303127e+01 6.71073469e+00\n",
      " 5.62492996e+00 5.10420315e+00]\n"
     ]
    },
    {
     "data": {
      "image/png": "[encoded data removed]",
      "text/plain": [
       "<Figure size 864x648 with 1 Axes>"
      ]
     },
     "metadata": {
      "tags": []
     },
     "output_type": "display_data"
    }
   ],
   "source": [
    "W=np.ones(14) # initial W\n",
    "#print(W.shape)\n",
    "#np.random.seed(42)\n",
    "#W = np.random.randn(14, 1)\n",
    "L=0.01\n",
    "λ=0\n",
    "n_iters=1000 # of epochs\n",
    "mse_train_ls=[]\n",
    "mse_test_ls=[]\n",
    "epo_ls=[]\n",
    "\n",
    "W=gradientDescent(X_train,y_train, W, L,n_iters,λ)\n",
    "#print(W)\n",
    "#print(X_train.shape,W.shape,W[0].shape)\n",
    "for i in range(n_iters):\n",
    "  yPred_train = np.dot(X_train, W[i])\n",
    "  #yPred_test=np.dot(X_test,W) \n",
    "  mse_train=mean_squared_error(yPred_train,y_train)\n",
    "  #mse_test=mean_squared_error(yPred_test,y_test)\n",
    "  mse_train_ls.append(mse_train)\n",
    "  #mse_test_ls.append(mse_test)\n",
    "  epo=i+1\n",
    "  epo_ls.append(epo)\n",
    "error=abs((W[n_iters-1]-w0)/W[n_iters-1])*100\n",
    "print(\"The difference between two methods in percentage is\",error)\n",
    "plt.plot(epo_ls,mse_train_ls)\n",
    "plt.title(\"Epochs vs MSE\")\n",
    "plt.xlabel(\"# of epochs\")\n",
    "plt.ylabel(\"MSE\")\n",
    "plt.show()\n",
    "\n"
   ]
  },
  {
   "cell_type": "markdown",
   "metadata": {
    "colab_type": "text",
    "id": "uZWf70gxbcuG"
   },
   "source": [
    "### Question 4"
   ]
  },
  {
   "cell_type": "markdown",
   "metadata": {
    "colab_type": "text",
    "id": "VE0M8T1zbcuG"
   },
   "source": [
    "1. Plot training error performance vs. number of epochs as a function of learning rate $\\eta$ for a range of values {1e-6, 1e-5, 1e-4, 1e-3, 1e-2, 1e-1} with each $\\eta$ being a different line. [1]\n",
    "\n",
    "For very low $\\eta$, gradient descent should be slow to converge.  For very high $\\eta$, the error might be very unstable (i.e., not decreasing on every epoch)."
   ]
  },
  {
   "cell_type": "code",
   "execution_count": 0,
   "metadata": {
    "colab": {
     "base_uri": "https://localhost:8080/",
     "height": 573
    },
    "colab_type": "code",
    "executionInfo": {
     "elapsed": 47168,
     "status": "ok",
     "timestamp": 1575833761575,
     "user": {
      "displayName": "Max Q",
      "photoUrl": "",
      "userId": "10263355661517414420"
     },
     "user_tz": 300
    },
    "id": "lBoyve-vMYdG",
    "outputId": "8c639ef7-6b64-45f8-8031-c287052e127f"
   },
   "outputs": [
    {
     "data": {
      "image/png": "[encoded data removed]",
      "text/plain": [
       "<Figure size 864x648 with 1 Axes>"
      ]
     },
     "metadata": {
      "tags": []
     },
     "output_type": "display_data"
    }
   ],
   "source": [
    "ls=[1e-6,1e-5, 1e-4, 1e-3, 1e-2, 1e-1]\n",
    "\n",
    "L=0.01\n",
    "λ=0\n",
    "n_iters=1000 # of epochs\n",
    "\n",
    "mse_test_ls=[]\n",
    "\n",
    "\n",
    "#print(X_train.shape,W.shape,W[0].shape)\n",
    "for e in ls:\n",
    "  W=np.ones(14)\n",
    "  W=gradientDescent(X_train,y_train, W, e, n_iters,λ)\n",
    "  epo_ls=[]\n",
    "  mse_train_ls=[]\n",
    "  for i in range(n_iters):\n",
    "    yPred_train = np.dot(X_train, W[i])\n",
    "    #yPred_test=np.dot(X_test,W) \n",
    "    mse_train=mean_squared_error(yPred_train,y_train)\n",
    "    #mse_test=mean_squared_error(yPred_test,y_test)\n",
    "    mse_train_ls.append(mse_train)\n",
    "    #mse_test_ls.append(mse_test)\n",
    "    epo=i+1\n",
    "    epo_ls.append(epo)\n",
    "  plt.plot(epo_ls,mse_train_ls,label=\"Learning rate of {}\".format(e))\n",
    "  plt.legend()\n",
    "plt.title(\"Epochs vs MSE with different learning rate\")\n",
    "plt.xlabel(\"# of epochs\")\n",
    "plt.ylabel(\"MSE\")\n",
    "plt.show()\n",
    "\n",
    "\n"
   ]
  },
  {
   "cell_type": "markdown",
   "metadata": {
    "colab_type": "text",
    "id": "CXQYiq-wbcuG"
   },
   "source": [
    "### Question 5"
   ]
  },
  {
   "cell_type": "markdown",
   "metadata": {
    "colab_type": "text",
    "id": "lbqZlUh6bcuH"
   },
   "source": [
    "Implement a mini-batch version with a batch_size constant B.  When B=1, it is stochastic gradient descent.  When B=#train data points, it is full-batch.  Anywhere in between is mini-batch.  \n",
    "\n",
    "1. Choose B=1, B=16, B=128, B=256, and B=#data points and plot training error as a function of \"# of gradient updates\" and also separately as a function of \"wall-clock time\" for each value of B. [2]\n",
    "\n",
    "2. All lines should be on the same plot. Which B leads to fastest convergence in terms of #gradient updates and in terms of \"wall-clock time\"? [1]"
   ]
  },
  {
   "cell_type": "code",
   "execution_count": 0,
   "metadata": {
    "colab": {},
    "colab_type": "code",
    "id": "161qo97AMhkN"
   },
   "outputs": [],
   "source": [
    "###try \n",
    "#Xtr_rand=np.random.permutation(X_train)\n",
    "#print(Xtr_rand)"
   ]
  },
  {
   "cell_type": "code",
   "execution_count": 0,
   "metadata": {
    "colab": {},
    "colab_type": "code",
    "id": "Acid6_A_wPn6"
   },
   "outputs": [],
   "source": [
    "#from datetime import datetime\n",
    "import time\n",
    "\n",
    "def batchGradientDescent(X, y, w, lr, iterations, λ, bs):\n",
    "  \n",
    "  # m is the nunmber of data points\n",
    "  m, n = X.shape\n",
    "  # these are used to stored the cost and time\n",
    "  costHistory = np.zeros(iterations)\n",
    "  timeHistory = np.zeros(iterations)\n",
    "  n_update=[]\n",
    "  count=0\n",
    "  cost_upd=[]\n",
    "  time0=time.time()\n",
    "  for i in range(iterations):\n",
    "    \n",
    "    rand_idx=np.random.permutation(m)\n",
    "    X_rand=X[rand_idx]\n",
    "    y_rand=y[rand_idx]\n",
    "\n",
    "    \n",
    "    for j in range(0, m, bs):\n",
    "      \n",
    "      X_mb=X_rand[j:j+bs,:]\n",
    "      y_mb=y_rand[j:j+bs]\n",
    "      # initial W\n",
    "      #np.random.seed(42)\n",
    "      #W = np.random.randn(14, 1)\n",
    "      #print(\"W shape is\",W.shape)\n",
    "      y_bar=np.dot(X_mb,w)\n",
    "      w=w-lr*(1/X_mb.shape[0])*(np.dot(X_mb.T,y_bar-y_mb)+np.dot(λ,w))\n",
    "      yPred_mb= np.dot(X_rand, w)\n",
    "      #print(yPred_mb.shape, y_rand.shape)\n",
    "      #n_update.append(j+1)\n",
    "      count+=1\n",
    "      n_update.append(count)\n",
    "      cost_mse=mean_squared_error(yPred_mb,y_rand)/2\n",
    "      cost_upd.append(cost_mse)\n",
    "    \n",
    "    yPred_itn=np.dot(X_rand,w)\n",
    "    cost_mse_train=mean_squared_error(yPred_itn,y_rand)/2\n",
    "    costHistory[i]=cost_mse_train\n",
    "    time1=time.time()\n",
    "    time_diff=time1-time0\n",
    "    timeHistory[i]=time_diff\n",
    "\n",
    "  return w, costHistory, timeHistory, cost_upd, n_update"
   ]
  },
  {
   "cell_type": "code",
   "execution_count": 0,
   "metadata": {
    "colab": {
     "base_uri": "https://localhost:8080/",
     "height": 1000
    },
    "colab_type": "code",
    "executionInfo": {
     "elapsed": 54861,
     "status": "ok",
     "timestamp": 1575833769334,
     "user": {
      "displayName": "Max Q",
      "photoUrl": "",
      "userId": "10263355661517414420"
     },
     "user_tz": 300
    },
    "id": "fSSKrAa_0w0Y",
    "outputId": "56fbd62b-1823-472f-dda2-9cb548af3b76"
   },
   "outputs": [
    {
     "name": "stdout",
     "output_type": "stream",
     "text": [
      "The best B leading to fastest convergence is the batch size of 1.\n"
     ]
    },
    {
     "data": {
      "image/png": "[encoded data removed]",
      "text/plain": [
       "<Figure size 864x648 with 1 Axes>"
      ]
     },
     "metadata": {
      "tags": []
     },
     "output_type": "display_data"
    },
    {
     "data": {
      "image/png": "[encoded data removed]",
      "text/plain": [
       "<Figure size 864x648 with 1 Axes>"
      ]
     },
     "metadata": {
      "tags": []
     },
     "output_type": "display_data"
    },
    {
     "data": {
      "image/png": "[encoded data removed]",
      "text/plain": [
       "<Figure size 864x648 with 1 Axes>"
      ]
     },
     "metadata": {
      "tags": []
     },
     "output_type": "display_data"
    }
   ],
   "source": [
    "lr=0.01\n",
    "iterations=20\n",
    "λ=0\n",
    "bsl=np.array([1,16,128,256,404])\n",
    "#bsl=np.array([404])\n",
    "y_train=np.array(y_train).reshape(-1,1)\n",
    "# initial W\n",
    "\n",
    "plt.figure(1)\n",
    "for i in bsl:\n",
    "  np.random.seed(42)\n",
    "  w = np.random.randn(14, 1)\n",
    "  w, costHistory, timeHistory, cost_upd, n_update=batchGradientDescent(X_train, y_train, w, lr, iterations, λ, i)\n",
    "  \n",
    "  plt.plot(n_update,cost_upd, label=\"Batch size ={}\".format(i))\n",
    "  plt.legend()\n",
    "  plt.xlim(0,600)\n",
    "  plt.title(\"Gradient Updates vs Training Error\")\n",
    "  plt.xlabel(\"Gradient Updates\")\n",
    "  plt.ylabel(\"Trianing Error\")\n",
    "\n",
    "plt.figure(2)\n",
    "for i in bsl:\n",
    "  np.random.seed(42)\n",
    "  w = np.random.randn(14, 1)\n",
    "  w, costHistory, timeHistory, cost_upd, n_update=batchGradientDescent(X_train, y_train, w, lr, iterations, λ, i)\n",
    "  \n",
    "  plt.plot(np.arange(1,21,1),costHistory, label=\"Batch size ={}\".format(i))\n",
    "  plt.legend()\n",
    "  plt.title(\"Iteration vs Training Error\")\n",
    "  plt.xlabel(\"Iteration\")\n",
    "  plt.ylabel(\"Trianing Error\")\n",
    "  \n",
    "\n",
    "plt.figure(3)\n",
    "for i in bsl:\n",
    "  np.random.seed(42)\n",
    "  w = np.random.randn(14, 1)\n",
    "  w, costHistory, timeHistory, cost_upd, n_update=batchGradientDescent(X_train, y_train, w, lr, iterations, λ, i)\n",
    "  \n",
    "  plt.plot(timeHistory, costHistory, label=\"Batch size ={}\".format(i))\n",
    "  plt.legend()\n",
    "  plt.xlim(0,0.08)\n",
    "  plt.title(\"Time Taken vs Training Error\")  \n",
    "  plt.xlabel(\"Time Taken\")\n",
    "  plt.ylabel(\"Trianing Error\")\n",
    "\n",
    "print(\"The best B leading to fastest convergence is the batch size of 1.\")\n",
    "  \n"
   ]
  },
  {
   "cell_type": "markdown",
   "metadata": {
    "colab_type": "text",
    "id": "BUZYiueSbcuH"
   },
   "source": [
    "### Question 6"
   ]
  },
  {
   "cell_type": "markdown",
   "metadata": {
    "colab_type": "text",
    "id": "RWB-1inrbcuH"
   },
   "source": [
    "1. Switch to absolute error for loss but still use $L_2$ regularization. Derive the gradient for this case, $\\frac{\\partial}{\\partial \\theta_j}J(\\theta)$. [1.5]\n",
    "\n",
    "\n",
    "2. Tune $\\eta$ and B to obtain good performance (fast convergence to minimum error, but not noisy).  Is it easier to train with squared error or absolute error, why?  Show some plots that help you demonstrate this point and explain. [1]"
   ]
  },
  {
   "cell_type": "markdown",
   "metadata": {
    "colab_type": "text",
    "id": "Vbfvkl5qJz3t"
   },
   "source": [
    "**Subquestion1**"
   ]
  },
  {
   "cell_type": "code",
   "execution_count": 0,
   "metadata": {
    "colab": {
     "base_uri": "https://localhost:8080/",
     "height": 50
    },
    "colab_type": "code",
    "executionInfo": {
     "elapsed": 56309,
     "status": "ok",
     "timestamp": 1575833770819,
     "user": {
      "displayName": "Max Q",
      "photoUrl": "",
      "userId": "10263355661517414420"
     },
     "user_tz": 300
    },
    "id": "494y8Q4bnliW",
    "outputId": "e4c695e1-0ea7-4129-afac-c86c431a8584"
   },
   "outputs": [
    {
     "name": "stdout",
     "output_type": "stream",
     "text": [
      "/bin/bash: -c: line 0: syntax error near unexpected token `https://github.com/aps1070-2019/project-4-Maxwell-Q/blob/master/Question_6.jpg'\n",
      "/bin/bash: -c: line 0: `[picture](https://github.com/aps1070-2019/project-4-Maxwell-Q/blob/master/Question_6.jpg)'\n"
     ]
    }
   ],
   "source": [
    "![picture](https://github.com/aps1070-2019/project-4-Maxwell-Q/blob/master/Question_6.jpg)"
   ]
  },
  {
   "cell_type": "code",
   "execution_count": 0,
   "metadata": {
    "colab": {
     "base_uri": "https://localhost:8080/",
     "height": 941,
     "resources": {
      "http://localhost:8080/nbextensions/google.colab/files.js": {
       "data": "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",
       "headers": [
        [
         "content-type",
         "application/javascript"
        ]
       ],
       "ok": true,
       "status": 200,
       "status_text": ""
      }
     }
    },
    "colab_type": "code",
    "executionInfo": {
     "elapsed": 32771,
     "status": "ok",
     "timestamp": 1575833923035,
     "user": {
      "displayName": "Max Q",
      "photoUrl": "",
      "userId": "10263355661517414420"
     },
     "user_tz": 300
    },
    "id": "PSjV1GlMJyZu",
    "outputId": "6767f896-241b-40e2-b036-16f1843a815d"
   },
   "outputs": [
    {
     "data": {
      "text/html": [
       "\n",
       "     <input type=\"file\" id=\"files-db680b59-cb6a-44d8-8607-819b7fc7dc00\" name=\"files[]\" multiple disabled />\n",
       "     <output id=\"result-db680b59-cb6a-44d8-8607-819b7fc7dc00\">\n",
       "      Upload widget is only available when the cell has been executed in the\n",
       "      current browser session. Please rerun this cell to enable.\n",
       "      </output>\n",
       "      <script src=\"/nbextensions/google.colab/files.js\"></script> "
      ],
      "text/plain": [
       "<IPython.core.display.HTML object>"
      ]
     },
     "metadata": {
      "tags": []
     },
     "output_type": "display_data"
    },
    {
     "data": {
      "image/png": "Question_6.jpg",
      "text/plain": [
       "<IPython.core.display.Image object>"
      ]
     },
     "execution_count": 55,
     "metadata": {
      "image/png": {
       "height": 900,
       "width": 600
      },
      "tags": []
     },
     "output_type": "execute_result"
    }
   ],
   "source": [
    "from google.colab import files\n",
    "from IPython.display import Image\n",
    "uploaded=files.upload()\n",
    "Image(\"Question_6.jpg\",width=600, height=900)"
   ]
  },
  {
   "cell_type": "markdown",
   "metadata": {
    "colab_type": "text",
    "id": "JYQwntEuJ3iU"
   },
   "source": [
    "**Subquestion2**"
   ]
  },
  {
   "cell_type": "code",
   "execution_count": 0,
   "metadata": {
    "colab": {},
    "colab_type": "code",
    "id": "2lLEhK0a6_0c"
   },
   "outputs": [],
   "source": [
    "ls=[1e-6,1e-5, 1e-4, 1e-3, 1e-2, 1e-1]\n",
    "bsl=np.array([1,16,128,256,404])\n",
    "L=0.01\n",
    "λ=0\n",
    "n_iters=20 # of epochs\n",
    "\n",
    "mse_test_ls=[]\n",
    "\n",
    "\n",
    "#print(X_train.shape,W.shape,W[0].shape)\n",
    "\n",
    "  #W=np.ones(14)\n",
    "  #W=gradientDescent(X_train,y_train, W, e, n_iters,λ,1)\n",
    "for B in bsl: \n",
    "  mse_train_ls=[]\n",
    "  for e in ls: \n",
    "    np.random.seed(42)\n",
    "    w = np.random.randn(14, 1)\n",
    "    w, costHistory, timeHistory, cost_upd, n_update=batchGradientDescent(X_train, y_train, w, e, n_iters,λ,B) \n",
    "    yPred_train = np.dot(X_train, w)\n",
    "    mse_train=mean_squared_error(yPred_train,y_train)\n",
    "    mse_train_ls.append(mse_train)\n",
    "\n",
    "  ls_name = [a for a in range(len(ls))]\n",
    "  plt.plot(ls_name,mse_train_ls,marker='o',label=\"Batch size of {}\".format(B))\n",
    "  plt.legend()\n",
    "  plt.title(\"Learning vs MSE with different batch size\")\n",
    "\n",
    "  plt.xticks(ls_name, ls)\n",
    "  plt.xlabel(\"Learning rate\")\n",
    "  plt.ylabel(\"MSE\")\n",
    "print(\"The best Batch size and learning rate are 16, and 0.1 respectively.\")"
   ]
  },
  {
   "cell_type": "code",
   "execution_count": 0,
   "metadata": {
    "colab": {},
    "colab_type": "code",
    "id": "_SXUosUqJ7Ku"
   },
   "outputs": [],
   "source": [
    "import time\n",
    "\n",
    "def batchGradientDescent(X, y, w, lr, iterations, λ, bs):\n",
    "  \n",
    "  # m is the nunmber of data points\n",
    "  m, n = X.shape\n",
    "  # these are used to stored the cost and time\n",
    "  costHistory = np.zeros(iterations)\n",
    "  timeHistory = np.zeros(iterations)\n",
    "  n_update=[]\n",
    "  count=0\n",
    "  cost_upd=[]\n",
    "  time0=time.time()\n",
    "  for i in range(iterations):\n",
    "    \n",
    "    rand_idx=np.random.permutation(m)\n",
    "    X_rand=X[rand_idx]\n",
    "    y_rand=y[rand_idx]\n",
    "\n",
    "    \n",
    "    for j in range(0, m, bs):\n",
    "      \n",
    "      X_mb=X_rand[j:j+bs,:]\n",
    "      y_mb=y_rand[j:j+bs]\n",
    "      # initial W\n",
    "      #np.random.seed(42)\n",
    "      #W = np.random.randn(14, 1)\n",
    "      #print(\"W shape is\",W.shape)\n",
    "      y_bar=np.dot(X_mb,w)\n",
    "      w=w-lr*(1/X_mb.shape[0])*(np.dot(X_mb.T,((y_bar-y_mb)/abs(y_bar-y_mb)))+np.dot(λ,w))\n",
    "      yPred_mb= np.dot(X_rand, w)\n",
    "      #print(yPred_mb.shape, y_rand.shape)\n",
    "      #n_update.append(j+1)\n",
    "      count+=1\n",
    "      n_update.append(count)\n",
    "      cost_mse=mean_squared_error(yPred_mb,y_rand)/2\n",
    "      cost_upd.append(cost_mse)\n",
    "   \n",
    "    \n",
    "    yPred_itn=np.dot(X_rand,w)\n",
    "    cost_mse_train=mean_squared_error(yPred_itn,y_rand)/2\n",
    "    costHistory[i]=cost_mse_train\n",
    "    time1=time.time()\n",
    "    time_diff=time1-time0\n",
    "    timeHistory[i]=time_diff\n",
    "\n",
    "  return w, costHistory, timeHistory, cost_upd, n_update"
   ]
  },
  {
   "cell_type": "code",
   "execution_count": 0,
   "metadata": {
    "colab": {},
    "colab_type": "code",
    "id": "NQIazQUrda9c"
   },
   "outputs": [],
   "source": [
    "lr=0.1\n",
    "iterations=20\n",
    "λ=0\n",
    "bsl=np.array([1,16,128,256,404])\n",
    "#bsl=np.array([404])\n",
    "y_train=np.array(y_train).reshape(-1,1)\n",
    "# initial W\n",
    "\n",
    "plt.figure(1)\n",
    "for i in bsl:\n",
    "  np.random.seed(42)\n",
    "  w = np.random.randn(14, 1)\n",
    "  w, costHistory, timeHistory, cost_upd, n_update=batchGradientDescent(X_train, y_train, w, lr, iterations, λ, i)\n",
    "  \n",
    "  plt.plot(n_update,cost_upd, label=\"Batch size ={}\".format(i))\n",
    "  plt.legend()\n",
    "  plt.xlim(0,600)\n",
    "  plt.title(\"Gradient Updates vs Training Error\")\n",
    "  plt.xlabel(\"Gradient Updates\")\n",
    "  plt.ylabel(\"Trianing Error\")\n",
    "\n",
    "plt.figure(2)\n",
    "for i in bsl:\n",
    "  np.random.seed(42)\n",
    "  w = np.random.randn(14, 1)\n",
    "  w, costHistory, timeHistory, cost_upd, n_update=batchGradientDescent(X_train, y_train, w, lr, iterations, λ, i)\n",
    "  \n",
    "  plt.plot(np.arange(1,21,1),costHistory, label=\"Batch size ={}\".format(i))\n",
    "  plt.legend()\n",
    "  plt.title(\"Iteration vs Training Error\")\n",
    "  plt.xlabel(\"Iteration\")\n",
    "  plt.ylabel(\"Trianing Error\")\n",
    "  \n",
    "\n",
    "plt.figure(3)\n",
    "for i in bsl:\n",
    "  np.random.seed(42)\n",
    "  w = np.random.randn(14, 1)\n",
    "  w, costHistory, timeHistory, cost_upd, n_update=batchGradientDescent(X_train, y_train, w, lr, iterations, λ, i)\n",
    "  \n",
    "  plt.plot(timeHistory, costHistory, label=\"Batch size ={}\".format(i))\n",
    "  plt.legend()\n",
    "  #plt.xlim(0,0.08)\n",
    "  plt.title(\"Time Taken vs Training Error\")\n",
    "  plt.xlabel(\"Time Taken\")\n",
    "  plt.ylabel(\"Trianing Error\")\n",
    "\n",
    "  "
   ]
  },
  {
   "cell_type": "markdown",
   "metadata": {
    "colab_type": "text",
    "id": "j1nT3luJ5vtW"
   },
   "source": [
    "**It is easier to train with squared error because it gives more weight to the noisy to make them more obvious to be distinguished.**"
   ]
  },
  {
   "cell_type": "markdown",
   "metadata": {
    "colab_type": "text",
    "id": "AvpZij1PbcuH"
   },
   "source": [
    "### Question 7 (Optional)"
   ]
  },
  {
   "cell_type": "markdown",
   "metadata": {
    "colab_type": "text",
    "id": "hFhVjOGmbcuI"
   },
   "source": [
    "1. Does the model perform better if polynomial features are added (Use sklearn.preprocessing.PolynomialFeatures to test it out).\n",
    "\n",
    "\n",
    "2. Does the optimal value of λ (regularization constant) change with this new set of features added."
   ]
  },
  {
   "cell_type": "markdown",
   "metadata": {
    "colab_type": "text",
    "id": "7rKZXBodwA5P"
   },
   "source": [
    "## References"
   ]
  },
  {
   "cell_type": "markdown",
   "metadata": {
    "colab_type": "text",
    "id": "PA-T9S4RwA5P"
   },
   "source": [
    "Linear Regression:\n",
    "1. https://sebastianraschka.com/faq/docs/closed-form-vs-gd.html\n",
    "\n",
    "Gradient Descent (images and equations):\n",
    "1. https://towardsdatascience.com/linear-regression-using-gradient-descent-97a6c8700931\n",
    "2. https://towardsdatascience.com/linear-regression-using-python-b136c91bf0a2\n",
    "\n",
    "Author: Parth Jaggi"
   ]
  }
 ],
 "metadata": {
  "colab": {
   "collapsed_sections": [],
   "name": "lab_4_1.ipynb",
   "provenance": []
  },
  "hide_input": false,
  "kernelspec": {
   "display_name": "Python 3",
   "language": "python",
   "name": "python3"
  },
  "language_info": {
   "codemirror_mode": {
    "name": "ipython",
    "version": 3
   },
   "file_extension": ".py",
   "mimetype": "text/x-python",
   "name": "python",
   "nbconvert_exporter": "python",
   "pygments_lexer": "ipython3",
   "version": "3.7.3"
  },
  "toc": {
   "base_numbering": 1,
   "nav_menu": {},
   "number_sections": true,
   "sideBar": true,
   "skip_h1_title": false,
   "title_cell": "Table of Contents",
   "title_sidebar": "Contents",
   "toc_cell": false,
   "toc_position": {},
   "toc_section_display": true,
   "toc_window_display": false
  },
  "varInspector": {
   "cols": {
    "lenName": 16,
    "lenType": 16,
    "lenVar": 40
   },
   "kernels_config": {
    "python": {
     "delete_cmd_postfix": "",
     "delete_cmd_prefix": "del ",
     "library": "var_list.py",
     "varRefreshCmd": "print(var_dic_list())"
    },
    "r": {
     "delete_cmd_postfix": ") ",
     "delete_cmd_prefix": "rm(",
     "library": "var_list.r",
     "varRefreshCmd": "cat(var_dic_list()) "
    }
   },
   "types_to_exclude": [
    "module",
    "function",
    "builtin_function_or_method",
    "instance",
    "_Feature"
   ],
   "window_display": false
  }
 },
 "nbformat": 4,
 "nbformat_minor": 1
}
